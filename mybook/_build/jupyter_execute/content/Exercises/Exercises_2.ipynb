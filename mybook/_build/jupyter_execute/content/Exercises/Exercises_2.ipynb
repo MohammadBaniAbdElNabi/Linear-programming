{
 "cells": [
  {
   "cell_type": "markdown",
   "metadata": {
    "id": "y130wo2anrNa"
   },
   "source": [
    "# Exercises"
   ]
  },
  {
   "cell_type": "markdown",
   "metadata": {
    "id": "JfLMciwLbeW-"
   },
   "source": [
    "This notebook presents solutions to exercises 2.16 through 2.47 from *Operations Research: A Practical Approach*. These exercises cover various topics in linear programming, including the Simplex method, sensitivity analysis, duality, and special cases such as degeneracy, unbounded solutions, and multiple optima. The solutions are implemented using Python, leveraging optimization tools like `scipy.optimize.linprog` to systematically solve and analyze each problem."
   ]
  },
  {
   "cell_type": "markdown",
   "metadata": {
    "id": "3q9h5SzdsE4f"
   },
   "source": [
    "# **Simplex Method Definition**"
   ]
  },
  {
   "cell_type": "markdown",
   "metadata": {
    "id": "SYffgDC8sJch"
   },
   "source": [
    "## What is the Simplex Method?\n",
    "The **Simplex Method** is an algorithm used for solving **linear programming problems (LPPs)**. It is widely applied in optimization to maximize or minimize a **linear objective function** subject to **linear constraints**. The method efficiently navigates through the feasible region of solutions to find the optimal one.\n",
    "\n",
    "## Why Use the Simplex Method?\n",
    "- It provides an efficient way to solve real-world optimization problems in **engineering, economics, logistics, and manufacturing**.\n",
    "- It can handle multiple constraints and variables, making it more powerful than graphical methods.\n",
    "- It guarantees an **optimal solution** if one exists.\n",
    "\n",
    "## Standard Form of a Linear Programming Problem\n",
    "To apply the **Simplex Method**, a linear programming problem must be in standard form:\n",
    "1. The objective function must be **maximized** (if minimizing, we convert it to maximization by multiplying by -1).\n",
    "2. All constraints must be **equalities** (convert inequalities using slack, surplus, or artificial variables).\n",
    "3. All decision variables must be **non-negative** (for unrestricted variables, we split them into two non-negative variables).\n",
    "\n",
    "### General Form:\n",
    "**Maximize**\n",
    "$$z = c_1x_1 + c_2x_2 + ... + c_nx_n$$\n",
    "**Subject to:**\n",
    "$$a_{11}x_1 + a_{12}x_2 + ... + a_{1n}x_n \\leq b_1$$\n",
    "$$a_{21}x_1 + a_{22}x_2 + ... + a_{2n}x_n \\geq b_2$$\n",
    "$$a_{m1}x_1 + a_{m2}x_2 + ... + a_{mn}x_n = b_m$$\n",
    "$$ x_1, x_2, ..., x_n \\geq 0$$\n",
    "\n",
    "\n",
    "## Libraries and Tools for Google Colab\n",
    "To run the code smoothly in Google Colab, install **SciPy's** which is a widely used Python library for scientific computing.It provides a variety of modules for tasks like linear algebra, optimization, integration, interpolation, and more. The `linprog()` function from this library is used to solve linear programming problems using the Simplex method.\n",
    "\n",
    "```python\n",
    "!pip install scipy\n",
    "\n",
    "```\n",
    "\n",
    "Below is a sample Python implementation:\n",
    "### Example Code (Exercise 2.12)\n",
    "```python\n",
    "from scipy.optimize import linprog\n",
    "\n",
    "# Objective Function Coefficients (Convert maximization to minimization by negating)\n",
    "c = [-16, -2, 3]  # Coefficients of x1, x2, x3\n",
    "\n",
    "# Coefficients of the Left-Hand Side of Constraints\n",
    "A = [[-1, 6, 0],    # x1 - 6x2 ≥ 4 -> -x1 + 6x2 ≤ -4\n",
    "     [3, 7, -1],    # 3x2 + 7x3 ≤ -5\n",
    "     [1, 1, 1]]     # x1 + x2 + x3 = 10\n",
    "\n",
    "# Right-Hand Side of Constraints\n",
    "b = [-4, -5, 10]  \n",
    "\n",
    "# Variable Bounds (x1, x2, x3 ≥ 0)\n",
    "x_bounds = [(0, None), (0, None), (0, None)]\n",
    "\n",
    "# Solve the Linear Program\n",
    "result = linprog(c, A_ub=A[:2], b_ub=b[:2], A_eq=[A[2]], b_eq=[b[2]], bounds=x_bounds, method='highs')\n",
    "\n",
    "# Print Results\n",
    "if result.success:\n",
    "    print(\"Optimal Solution:\")\n",
    "    print(f\"x1 = {result.x[0]:.2f}\")\n",
    "    print(f\"x2 = {result.x[1]:.2f}\")\n",
    "    print(f\"x3 = {result.x[2]:.2f}\")\n",
    "    print(f\"Optimal Objective Value (Maximized Z): {-result.fun:.2f}\")\n",
    "else:\n",
    "    print(\"No feasible solution found.\")\n"
   ]
  },
  {
   "cell_type": "markdown",
   "metadata": {
    "id": "qxociB5wkhGx"
   },
   "source": [
    "# **Exercises Walkthrough**"
   ]
  },
  {
   "cell_type": "markdown",
   "metadata": {
    "id": "DWR3GGnqqWJw"
   },
   "source": [
    "## **Exercise 2.16: Simplex Method**"
   ]
  },
  {
   "cell_type": "markdown",
   "metadata": {
    "id": "eVdDw_QrnoMp"
   },
   "source": [
    "An academic computing center receives a large number of jobs from students\n",
    "and faculty to be executed on the computing facilities. **Each student job requires six units of space on disk, and three units of time on a printer**. **Each faculty job requires eight units of space on disk, and two units of time on a printer.** A mixture of jobs is to be selected and run as a batch, and the **total disk space and printer time available for a batch are 48 units and 60 units, respectively.** The computer center is paid **three times as much for running a student job as for running a faculty job.**\n",
    "\n",
    "Formulate a linear programming problem to determine the mixture of jobs to be\n",
    "run as a batch that will maximize computer center income.\n",
    "\n",
    "Use Simplex Method.\n",
    "\n",
    "**Solution:**\n",
    "\n",
    "### **Decision Variables**\n",
    "- \\( $x_1$ \\): Number of student jobs\n",
    "- \\( $x_2$ \\): Number of faculty jobs\n",
    "\n",
    "### **Objective Function (Maximize Revenue)**\n",
    "\\[\n",
    "$\\max (z = 3x_1 + x_2)$\n",
    "\\]\n",
    "\n",
    "### **Constraints**\n",
    "\n",
    "$$6x_1 + 8x_2 \\leq 48 \\quad \\text{(Disk space)}$$\n",
    "\n",
    "\n",
    "$$3x_1 + 2x_2 \\leq 60 \\quad \\text{(Printer time)}$$\n",
    "\n",
    "\n",
    "$$x_1, x_2 \\geq 0$$"
   ]
  },
  {
   "cell_type": "markdown",
   "metadata": {
    "id": "3_vSJQzeqSAA"
   },
   "source": [
    "### Code Implementation"
   ]
  },
  {
   "cell_type": "code",
   "execution_count": 1,
   "metadata": {
    "colab": {
     "base_uri": "https://localhost:8080/"
    },
    "collapsed": true,
    "id": "Ano7dY0Un2rQ",
    "outputId": "b27a088a-8064-434e-809b-41c5c09c3424"
   },
   "outputs": [
    {
     "name": "stdout",
     "output_type": "stream",
     "text": [
      "E: Could not open lock file /var/lib/dpkg/lock-frontend - open (13: Permission denied)\r\n",
      "E: Unable to acquire the dpkg frontend lock (/var/lib/dpkg/lock-frontend), are you root?\r\n"
     ]
    },
    {
     "name": "stdout",
     "output_type": "stream",
     "text": [
      "Requirement already satisfied: pyomo in /home/codespace/.python/current/lib/python3.12/site-packages (6.9.2)\r\n",
      "Requirement already satisfied: ply in /home/codespace/.python/current/lib/python3.12/site-packages (from pyomo) (3.11)\r\n"
     ]
    },
    {
     "name": "stdout",
     "output_type": "stream",
     "text": [
      "Requirement already satisfied: scipy in /home/codespace/.local/lib/python3.12/site-packages (1.15.2)\r\n",
      "Requirement already satisfied: numpy<2.5,>=1.23.5 in /home/codespace/.local/lib/python3.12/site-packages (from scipy) (2.2.4)\r\n"
     ]
    }
   ],
   "source": [
    "!apt-get install -y coinor-cbc\n",
    "!pip install pyomo\n",
    "!pip install scipy"
   ]
  },
  {
   "cell_type": "code",
   "execution_count": 2,
   "metadata": {
    "colab": {
     "base_uri": "https://localhost:8080/"
    },
    "id": "pTz9cwyjn6ow",
    "outputId": "2d165596-5ad4-4d97-9a37-4cdb4901b985"
   },
   "outputs": [
    {
     "name": "stdout",
     "output_type": "stream",
     "text": [
      "Optimal number of student jobs: 8.0\n",
      "Optimal number of faculty jobs: 0.0\n",
      "Percentage utilization of disk resources: 100.0%\n",
      "Percentage utilization of printer resources: 40.0%\n"
     ]
    }
   ],
   "source": [
    "from scipy.optimize import linprog\n",
    "\n",
    "# Coefficients of the objective function (maximize income)\n",
    "c = [-3, -1]  # Negative because linprog does minimization\n",
    "\n",
    "# Coefficients of the inequality constraints\n",
    "A = [\n",
    "    [6, 8],  # Disk space constraint\n",
    "    [3, 2]   # Printer time constraint\n",
    "]\n",
    "\n",
    "# Right-hand side of the inequality constraints\n",
    "b = [48, 60]\n",
    "\n",
    "# Bounds for the decision variables (number of student and faculty jobs)\n",
    "x0_bounds = (0, None)\n",
    "x1_bounds = (0, None)\n",
    "\n",
    "# Solve the linear programming problem using the Highs solver\n",
    "res = linprog(c, A_ub=A, b_ub=b, bounds=[x0_bounds, x1_bounds], method='highs')\n",
    "\n",
    "# Optimal number of student and faculty jobs\n",
    "num_student_jobs = res.x[0]\n",
    "num_faculty_jobs = res.x[1]\n",
    "\n",
    "# Calculate the percentage utilization of disk and printer resources\n",
    "disk_utilization = (6 * num_student_jobs + 8 * num_faculty_jobs) / 48 * 100\n",
    "printer_utilization = (3 * num_student_jobs + 2 * num_faculty_jobs) / 60 * 100\n",
    "\n",
    "# Print the results\n",
    "print(f\"Optimal number of student jobs: {num_student_jobs}\")\n",
    "print(f\"Optimal number of faculty jobs: {num_faculty_jobs}\")\n",
    "print(f\"Percentage utilization of disk resources: {disk_utilization}%\")\n",
    "print(f\"Percentage utilization of printer resources: {printer_utilization}%\")"
   ]
  },
  {
   "cell_type": "markdown",
   "metadata": {
    "id": "r3Gju-sGpOTg"
   },
   "source": [
    "## **Exercise 2.17: Simplex Method**"
   ]
  },
  {
   "cell_type": "markdown",
   "metadata": {
    "id": "StqoFX6rpOTg"
   },
   "source": [
    "### **Objective Function**\n",
    "\\[\n",
    "$\\max (z = x_1 + 2x_2)$\n",
    "\\]\n",
    "\n",
    "### **Constraints**\n",
    "\n",
    "$$x_1 + x_2 \\geq 6 $$\n",
    "\n",
    "\n",
    "$$x_2 \\leq 6$$\n",
    "\n",
    "$$x_1 \\leq 8$$\n",
    "\n",
    "$$x_1, x_2 \\geq 0$$"
   ]
  },
  {
   "cell_type": "markdown",
   "metadata": {
    "id": "Ak1t0U8PpOTh"
   },
   "source": [
    "### Code Implementation"
   ]
  },
  {
   "cell_type": "code",
   "execution_count": 3,
   "metadata": {
    "colab": {
     "base_uri": "https://localhost:8080/"
    },
    "id": "FfWBq2VDpOTh",
    "outputId": "61fb86d7-f9fb-46aa-8b93-54e778641b59"
   },
   "outputs": [
    {
     "name": "stdout",
     "output_type": "stream",
     "text": [
      "Optimal value of X1: 8.0\n",
      "Optimal value of X2: 6.0\n",
      "Optimal value of Z: 20.0\n"
     ]
    }
   ],
   "source": [
    "from scipy.optimize import linprog\n",
    "\n",
    "# Coefficients of the objective function (maximize Z = X1 + 2X2)\n",
    "c = [-1, -2]  # Negative because linprog does minimization\n",
    "\n",
    "# Coefficients of the inequality constraints\n",
    "A = [\n",
    "    [-1, -1],  # x1 + x2 >= 6 -> -x1 - x2 <= -6\n",
    "    [0, 1],    # x2 <= 6\n",
    "    [1, 0]     # x1 <= 8\n",
    "]\n",
    "\n",
    "# Right-hand side of the inequality constraints\n",
    "b = [-6, 6, 8]\n",
    "\n",
    "# Bounds for the decision variables (X1 and X2)\n",
    "x0_bounds = (0, None)\n",
    "x1_bounds = (0, None)\n",
    "\n",
    "# Solve the linear programming problem using the Highs solver\n",
    "res = linprog(c, A_ub=A, b_ub=b, bounds=[x0_bounds, x1_bounds], method='highs')\n",
    "\n",
    "# Optimal values of X1 and X2\n",
    "X1 = res.x[0]\n",
    "X2 = res.x[1]\n",
    "\n",
    "# Optimal value of Z\n",
    "Z = X1 + 2 * X2\n",
    "\n",
    "# Print the results\n",
    "print(f\"Optimal value of X1: {X1}\")\n",
    "print(f\"Optimal value of X2: {X2}\")\n",
    "print(f\"Optimal value of Z: {Z}\")"
   ]
  },
  {
   "cell_type": "markdown",
   "metadata": {
    "id": "RaCvlYrErWEO"
   },
   "source": [
    "## **Exercise 2.18: Simplex Method**"
   ]
  },
  {
   "cell_type": "markdown",
   "metadata": {
    "id": "PebgSCnKrWEP"
   },
   "source": [
    "### **Objective Function**\n",
    "\\[\n",
    "$\\max (z = 4x_1 + 1x_2)$\n",
    "\\]\n",
    "\n",
    "### **Constraints**\n",
    "\n",
    "$$3x_1 + x_2 = 3 $$\n",
    "\n",
    "$$4x_1 + 3x_2 \\geq 6 $$\n",
    "\n",
    "$$x_1 + 2x_2 \\leq 3 $$\n",
    "\n",
    "$$x_1, x_2 \\geq 0$$"
   ]
  },
  {
   "cell_type": "markdown",
   "metadata": {
    "id": "emI8NjjyrWEP"
   },
   "source": [
    "### Code Implementation"
   ]
  },
  {
   "cell_type": "code",
   "execution_count": 4,
   "metadata": {
    "colab": {
     "base_uri": "https://localhost:8080/"
    },
    "id": "rcEACuCOrWEQ",
    "outputId": "80adf922-bbd1-4d7f-f7aa-bb64d6f957af"
   },
   "outputs": [
    {
     "name": "stdout",
     "output_type": "stream",
     "text": [
      "Optimal value of X1: 0.6\n",
      "Optimal value of X2: 1.2\n",
      "Optimal value of Z: 3.5999999999999996\n"
     ]
    }
   ],
   "source": [
    "from scipy.optimize import linprog\n",
    "\n",
    "# Coefficients of the objective function (maximize z = 4x1 + x2)\n",
    "c = [-4, -1]  # Negative because linprog does minimization\n",
    "\n",
    "# Coefficients of the inequality constraints\n",
    "A = [\n",
    "    [-4, -3],  # 4x1 + 3x2 >= 6 -> -4x1 - 3x2 <= -6\n",
    "    [1, 2]     # x1 + 2x2 <= 3\n",
    "]\n",
    "\n",
    "# Right-hand side of the inequality constraints\n",
    "b = [-6, 3]\n",
    "\n",
    "# Coefficients of the equality constraint\n",
    "A_eq = [\n",
    "    [3, 1]     # 3x1 + x2 = 3\n",
    "]\n",
    "\n",
    "# Right-hand side of the equality constraint\n",
    "b_eq = [3]\n",
    "\n",
    "# Bounds for the decision variables (X1 and X2)\n",
    "x0_bounds = (0, None)\n",
    "x1_bounds = (0, None)\n",
    "\n",
    "# Solve the linear programming problem using the Highs solver\n",
    "res = linprog(c, A_ub=A, b_ub=b, A_eq=A_eq, b_eq=b_eq, bounds=[x0_bounds, x1_bounds], method='highs')\n",
    "\n",
    "# Optimal values of X1 and X2\n",
    "X1 = res.x[0]\n",
    "X2 = res.x[1]\n",
    "\n",
    "# Optimal value of Z\n",
    "Z = 4 * X1 + X2\n",
    "\n",
    "# Print the results\n",
    "print(f\"Optimal value of X1: {X1}\")\n",
    "print(f\"Optimal value of X2: {X2}\")\n",
    "print(f\"Optimal value of Z: {Z}\")"
   ]
  },
  {
   "cell_type": "markdown",
   "metadata": {
    "id": "SjbtGTjxspE-"
   },
   "source": [
    "## **Exercise 2.19: Simplex Method**"
   ]
  },
  {
   "cell_type": "markdown",
   "metadata": {
    "id": "u8j9SQy2spE-"
   },
   "source": [
    "#### Problems:\n",
    "1. **Problem (a):**\n",
    "   - **Objective:** Maximize $$3x_1 + x_2$$\n",
    "   - **Constraints:**\n",
    "$$x_1 \\leq 8$$\n",
    "$$2x_1 - 3x_2 \\leq 5$$\n",
    "$$x_1, x_2 \\geq 0$$\n",
    "\n",
    "2. **Problem (b):**\n",
    "   - **Objective:** Maximize $$3x_1 + 4x_2$$\n",
    "   - **Constraints:**\n",
    "$$x_1 + x_2 \\geq 5$$\n",
    "$$2x_1 + 1x_2 \\leq 4$$\n",
    "$$x_1, x_2 \\geq 0$$\n",
    "\n",
    "3. **Problem (c):**\n",
    "   - **Objective:** Maximize $$x_1 + 2x_2$$\n",
    "   - **Constraints:**\n",
    "$$x_1 + 2x_2 \\leq 10$$\n",
    "$$x_1, x_2 \\geq 0$$\n",
    "\n",
    "4. **Problem (d):**\n",
    "   - **Objective:** Maximize $$3x_1 + 9x_2$$\n",
    "   - **Constraints:**\n",
    "$$x_1 + 4x_2 \\leq 8$$\n",
    "$$x_1 + 2x_2 \\leq 8$$\n",
    "$$x_1, x_2 \\geq 0$$"
   ]
  },
  {
   "cell_type": "markdown",
   "metadata": {
    "id": "NypCdguTspE-"
   },
   "source": [
    "### Code Implementation"
   ]
  },
  {
   "cell_type": "code",
   "execution_count": 5,
   "metadata": {
    "colab": {
     "base_uri": "https://localhost:8080/"
    },
    "id": "Df6mGoncspE-",
    "outputId": "32480f05-a57a-488a-ca9c-651b0c8452a4"
   },
   "outputs": [
    {
     "name": "stdout",
     "output_type": "stream",
     "text": [
      "Problem (a): No feasible solution\n",
      "Problem (b): No feasible solution\n",
      "Problem (c): Optimal value of X1: 10.0, Optimal value of X2: 0.0, Optimal value of Z: 10.0\n",
      "Problem (d): Optimal value of X1: 8.0, Optimal value of X2: 0.0, Optimal value of Z: 24.0\n"
     ]
    }
   ],
   "source": [
    "from scipy.optimize import linprog\n",
    "\n",
    "# Define a function to solve the linear programming problem\n",
    "def solve_lp(c, A, b, A_eq=None, b_eq=None):\n",
    "    # Bounds for the decision variables (X1 and X2)\n",
    "    x0_bounds = (0, None)\n",
    "    x1_bounds = (0, None)\n",
    "\n",
    "    # Solve the linear programming problem using the Highs solver\n",
    "    res = linprog(c, A_ub=A, b_ub=b, A_eq=A_eq, b_eq=b_eq, bounds=[x0_bounds, x1_bounds], method='highs')\n",
    "\n",
    "    # Check if the solution is valid\n",
    "    if res.success:\n",
    "        # Optimal values of X1 and X2\n",
    "        X1 = res.x[0]\n",
    "        X2 = res.x[1]\n",
    "\n",
    "        # Optimal value of Z\n",
    "        Z = -res.fun  # Negate because we minimized the negative of the objective function\n",
    "\n",
    "        return X1, X2, Z\n",
    "    else:\n",
    "        return None, None, None\n",
    "\n",
    "# Problem (a)\n",
    "c_a = [-3, -1]\n",
    "A_a = [[1, 0], [2, -3]]\n",
    "b_a = [8, 5]\n",
    "X1_a, X2_a, Z_a = solve_lp(c_a, A_a, b_a)\n",
    "\n",
    "# Problem (b)\n",
    "c_b = [-3, -4]\n",
    "A_b = [[-1, -1], [2, 1]]\n",
    "b_b = [-5, 4]\n",
    "X1_b, X2_b, Z_b = solve_lp(c_b, A_b, b_b)\n",
    "\n",
    "# Problem (c)\n",
    "c_c = [-1, -2]\n",
    "A_c = [[1, 2]]\n",
    "b_c = [10]\n",
    "X1_c, X2_c, Z_c = solve_lp(c_c, A_c, b_c)\n",
    "\n",
    "# Problem (d)\n",
    "c_d = [-3, -9]\n",
    "A_d = [[1, 4], [1, 2]]\n",
    "b_d = [8, 8]\n",
    "X1_d, X2_d, Z_d = solve_lp(c_d, A_d, b_d)\n",
    "\n",
    "# Print the results for all problems\n",
    "if X1_a is None:\n",
    "    print(\"Problem (a): No feasible solution\")\n",
    "else:\n",
    "    print(f\"Problem (a): Optimal value of X1: {X1_a}, Optimal value of X2: {X2_a}, Optimal value of Z: {Z_a}\")\n",
    "\n",
    "if X1_b is None:\n",
    "    print(\"Problem (b): No feasible solution\")\n",
    "else:\n",
    "    print(f\"Problem (b): Optimal value of X1: {X1_b}, Optimal value of X2: {X2_b}, Optimal value of Z: {Z_b}\")\n",
    "\n",
    "if X1_c is None:\n",
    "    print(\"Problem (c): No feasible solution\")\n",
    "else:\n",
    "    print(f\"Problem (c): Optimal value of X1: {X1_c}, Optimal value of X2: {X2_c}, Optimal value of Z: {Z_c}\")\n",
    "\n",
    "if X1_d is None:\n",
    "    print(\"Problem (d): No feasible solution\")\n",
    "else:\n",
    "    print(f\"Problem (d): Optimal value of X1: {X1_d}, Optimal value of X2: {X2_d}, Optimal value of Z: {Z_d}\")"
   ]
  },
  {
   "cell_type": "markdown",
   "metadata": {
    "id": "YzPTtpEryDfN"
   },
   "source": [
    "## **Exercise 2.20: No Evidence of Unboundedness**"
   ]
  },
  {
   "cell_type": "markdown",
   "metadata": {
    "id": "iBsbuC3MyDfN"
   },
   "source": [
    "This exercise involves creating a linear programming problem formulation that has unbounded solutions but in which no evidence of unboundedness appears in the initial Simplex tableau.\n",
    "\n",
    "### Problem:\n",
    "- **Objective:** Maximize $$z = 3x_1 + 2x_2$$\n",
    "- **Constraints:**\n",
    "$$x_1 - x_2 \\leq 4 $$\n",
    "$$-x_1 + 2x_2 \\leq 6 $$\n",
    "$$x_1, x_2 \\geq 0 $$\n",
    "\n",
    "### Explanation:\n",
    "In this problem, the constraints do not provide a bound on the variable \\( $x_2$ \\) in the positive direction. As a result, \\( $x_2$ \\) can increase indefinitely, leading to an unbounded solution. However, this unboundedness is not immediately apparent from the initial Simplex tableau."
   ]
  },
  {
   "cell_type": "markdown",
   "metadata": {
    "id": "YnGtQmpQyDfN"
   },
   "source": [
    "### Code Implementation"
   ]
  },
  {
   "cell_type": "code",
   "execution_count": 6,
   "metadata": {
    "colab": {
     "base_uri": "https://localhost:8080/"
    },
    "id": "WjrgGW-OyDfN",
    "outputId": "a2200778-321d-49a3-b489-8a95023a1785"
   },
   "outputs": [
    {
     "name": "stdout",
     "output_type": "stream",
     "text": [
      "The solution is not unbounded\n"
     ]
    }
   ],
   "source": [
    "from scipy.optimize import linprog\n",
    "\n",
    "# Coefficients of the objective function (maximize z = 3x1 + 2x2)\n",
    "c = [-3, -2]  # Negative because linprog does minimization\n",
    "\n",
    "# Coefficients of the inequality constraints\n",
    "A = [\n",
    "    [1, -1],  # x1 - x2 <= 4\n",
    "    [-1, 2]   # -x1 + 2x2 <= 6\n",
    "]\n",
    "\n",
    "# Right-hand side of the inequality constraints\n",
    "b = [4, 6]\n",
    "\n",
    "# Bounds for the decision variables (X1 and X2)\n",
    "x0_bounds = (0, None)\n",
    "x1_bounds = (0, None)\n",
    "\n",
    "# Solve the linear programming problem using the Highs solver\n",
    "res = linprog(c, A_ub=A, b_ub=b, bounds=[x0_bounds, x1_bounds], method='highs')\n",
    "\n",
    "# Check if the solution is valid\n",
    "if res.status == 3:  # Status 3 indicates unbounded solution\n",
    "    print(\"The solution is unbounded\")\n",
    "else:\n",
    "    print(\"The solution is not unbounded\")"
   ]
  },
  {
   "cell_type": "markdown",
   "metadata": {
    "id": "yxnQHgamyEyo"
   },
   "source": [
    "## **Exercise 2.21: Many Simplex Iterations**"
   ]
  },
  {
   "cell_type": "markdown",
   "metadata": {
    "id": "1SKLC5bpyEyo"
   },
   "source": [
    "#### Problems:\n",
    "1. **Problem (a):**\n",
    "   - **Objective:** Maximize $$3x_1 + x_2$$\n",
    "   - **Constraints:**\n",
    "$$x_1 \\leq 8$$\n",
    "$$2x_1 - 3x_2 \\leq 5$$\n",
    "$$x_1, x_2 \\geq 0$$\n",
    "\n",
    "2. **Problem (b):**\n",
    "   - **Objective:** Maximize $$3x_1 + 4x_2$$\n",
    "   - **Constraints:**\n",
    "$$x_1 + x_2 \\geq 5$$\n",
    "$$2x_1 + 1x_2 \\leq 4$$\n",
    "$$x_1, x_2 \\geq 0$$\n",
    "\n",
    "3. **Problem (c):**\n",
    "   - **Objective:** Maximize $$x_1 + 2x_2$$\n",
    "   - **Constraints:**\n",
    "$$x_1 + 2x_2 \\leq 10$$\n",
    "$$x_1, x_2 \\geq 0$$\n",
    "\n",
    "4. **Problem (d):**\n",
    "   - **Objective:** Maximize $$3x_1 + 9x_2$$\n",
    "   - **Constraints:**\n",
    "$$x_1 + 4x_2 \\leq 8$$\n",
    "$$x_1 + 2x_2 \\leq 8$$\n",
    "$$x_1, x_2 \\geq 0$$"
   ]
  },
  {
   "cell_type": "markdown",
   "metadata": {
    "id": "R_sGqtJayEyo"
   },
   "source": [
    "### Code Implementation"
   ]
  },
  {
   "cell_type": "code",
   "execution_count": 7,
   "metadata": {
    "colab": {
     "base_uri": "https://localhost:8080/"
    },
    "id": "keyT7gWHyEyo",
    "outputId": "32480f05-a57a-488a-ca9c-651b0c8452a4"
   },
   "outputs": [
    {
     "name": "stdout",
     "output_type": "stream",
     "text": [
      "Problem (a): No feasible solution\n",
      "Problem (b): No feasible solution\n",
      "Problem (c): Optimal value of X1: 10.0, Optimal value of X2: 0.0, Optimal value of Z: 10.0\n",
      "Problem (d): Optimal value of X1: 8.0, Optimal value of X2: 0.0, Optimal value of Z: 24.0\n"
     ]
    }
   ],
   "source": [
    "from scipy.optimize import linprog\n",
    "\n",
    "# Define a function to solve the linear programming problem\n",
    "def solve_lp(c, A, b, A_eq=None, b_eq=None):\n",
    "    # Bounds for the decision variables (X1 and X2)\n",
    "    x0_bounds = (0, None)\n",
    "    x1_bounds = (0, None)\n",
    "\n",
    "    # Solve the linear programming problem using the Highs solver\n",
    "    res = linprog(c, A_ub=A, b_ub=b, A_eq=A_eq, b_eq=b_eq, bounds=[x0_bounds, x1_bounds], method='highs')\n",
    "\n",
    "    # Check if the solution is valid\n",
    "    if res.success:\n",
    "        # Optimal values of X1 and X2\n",
    "        X1 = res.x[0]\n",
    "        X2 = res.x[1]\n",
    "\n",
    "        # Optimal value of Z\n",
    "        Z = -res.fun  # Negate because we minimized the negative of the objective function\n",
    "\n",
    "        return X1, X2, Z\n",
    "    else:\n",
    "        return None, None, None\n",
    "\n",
    "# Problem (a)\n",
    "c_a = [-3, -1]\n",
    "A_a = [[1, 0], [2, -3]]\n",
    "b_a = [8, 5]\n",
    "X1_a, X2_a, Z_a = solve_lp(c_a, A_a, b_a)\n",
    "\n",
    "# Problem (b)\n",
    "c_b = [-3, -4]\n",
    "A_b = [[-1, -1], [2, 1]]\n",
    "b_b = [-5, 4]\n",
    "X1_b, X2_b, Z_b = solve_lp(c_b, A_b, b_b)\n",
    "\n",
    "# Problem (c)\n",
    "c_c = [-1, -2]\n",
    "A_c = [[1, 2]]\n",
    "b_c = [10]\n",
    "X1_c, X2_c, Z_c = solve_lp(c_c, A_c, b_c)\n",
    "\n",
    "# Problem (d)\n",
    "c_d = [-3, -9]\n",
    "A_d = [[1, 4], [1, 2]]\n",
    "b_d = [8, 8]\n",
    "X1_d, X2_d, Z_d = solve_lp(c_d, A_d, b_d)\n",
    "\n",
    "# Print the results for all problems\n",
    "if X1_a is None:\n",
    "    print(\"Problem (a): No feasible solution\")\n",
    "else:\n",
    "    print(f\"Problem (a): Optimal value of X1: {X1_a}, Optimal value of X2: {X2_a}, Optimal value of Z: {Z_a}\")\n",
    "\n",
    "if X1_b is None:\n",
    "    print(\"Problem (b): No feasible solution\")\n",
    "else:\n",
    "    print(f\"Problem (b): Optimal value of X1: {X1_b}, Optimal value of X2: {X2_b}, Optimal value of Z: {Z_b}\")\n",
    "\n",
    "if X1_c is None:\n",
    "    print(\"Problem (c): No feasible solution\")\n",
    "else:\n",
    "    print(f\"Problem (c): Optimal value of X1: {X1_c}, Optimal value of X2: {X2_c}, Optimal value of Z: {Z_c}\")\n",
    "\n",
    "if X1_d is None:\n",
    "    print(\"Problem (d): No feasible solution\")\n",
    "else:\n",
    "    print(f\"Problem (d): Optimal value of X1: {X1_d}, Optimal value of X2: {X2_d}, Optimal value of Z: {Z_d}\")"
   ]
  },
  {
   "cell_type": "markdown",
   "metadata": {
    "id": "BkuukKXxyFmv"
   },
   "source": [
    "## **Exercise 2.22: Two-Phase Simplex Method**"
   ]
  },
  {
   "cell_type": "markdown",
   "metadata": {
    "id": "jyyeV9nLyFmv"
   },
   "source": [
    "This exercise involves solving a linear programming problem using the Two-Phase Simplex method.\n",
    "\n",
    "### Problem:\n",
    "- **Objective:** Maximize $$z = 4x_1 + x_2$$\n",
    "- **Constraints:**\n",
    "$$3x_1 + x_2 = 3$$\n",
    "$$4x_1 + 3x_2 \\geq 6$$\n",
    "$$x_1 + 2x_2 \\leq 3$$\n",
    "$$x_1, x_2 \\geq 0$$\n",
    "\n"
   ]
  },
  {
   "cell_type": "markdown",
   "metadata": {
    "id": "v_qbLmCJyFmw"
   },
   "source": [
    "### Code Implementation"
   ]
  },
  {
   "cell_type": "code",
   "execution_count": 8,
   "metadata": {
    "colab": {
     "base_uri": "https://localhost:8080/"
    },
    "id": "dk5lMOykyFmw",
    "outputId": "6b4c817f-7666-4300-8d4e-91f8e16fffc2"
   },
   "outputs": [
    {
     "name": "stdout",
     "output_type": "stream",
     "text": [
      "Phase 1 successful: Feasible solution found.\n",
      "Optimal solution found:\n",
      "x1 = 1.00, x2 = 0.00\n",
      "Maximum z = 4.00\n"
     ]
    }
   ],
   "source": [
    "import numpy as np\n",
    "from scipy.optimize import linprog\n",
    "\n",
    "# Phase 1: Minimize w = a1 (remove artificial variable)\n",
    "c_phase1 = [0, 0, 0, 0, 1]  # Objective function for phase 1 (w = a1)\n",
    "A_eq_phase1 = [\n",
    "    [3, 1, 0, 0, 0],  # 3x1 + x2 = 3\n",
    "    [4, 3, -1, 0, 1],  # 4x1 + 3x2 - s1 + a1 = 6\n",
    "    [1, 2, 0, 1, 0]    # x1 + 2x2 + s2 = 3\n",
    "]\n",
    "b_eq_phase1 = [3, 6, 3]\n",
    "\n",
    "# Solve Phase 1\n",
    "res_phase1 = linprog(c=c_phase1, A_eq=A_eq_phase1, b_eq=b_eq_phase1, method='highs')\n",
    "if res_phase1.success and np.isclose(res_phase1.fun, 0):\n",
    "    print(\"Phase 1 successful: Feasible solution found.\")\n",
    "else:\n",
    "    print(\"Phase 1 failed: No feasible solution.\")\n",
    "    exit()\n",
    "\n",
    "# Phase 2: Maximize original objective function z = 4x1 + x2\n",
    "c_phase2 = [-4, -1, 0, 0, 0]  # Maximize z (convert to minimization problem)\n",
    "A_eq_phase2 = A_eq_phase1\n",
    "b_eq_phase2 = b_eq_phase1\n",
    "\n",
    "# Solve Phase 2\n",
    "res_phase2 = linprog(c=c_phase2, A_eq=A_eq_phase2, b_eq=b_eq_phase2, method='highs')\n",
    "if res_phase2.success:\n",
    "    print(\"Optimal solution found:\")\n",
    "    print(f\"x1 = {res_phase2.x[0]:.2f}, x2 = {res_phase2.x[1]:.2f}\")\n",
    "    print(f\"Maximum z = {-res_phase2.fun:.2f}\")\n",
    "else:\n",
    "    print(\"Optimization failed in Phase 2.\")"
   ]
  },
  {
   "cell_type": "markdown",
   "metadata": {
    "id": "mOlgW19byGig"
   },
   "source": [
    "## **Exercise 2.23: Nature of the Solution(s)**"
   ]
  },
  {
   "cell_type": "markdown",
   "metadata": {
    "id": "8_RFe1VKyGig"
   },
   "source": [
    "This exercise involves examining a linear programming formulation and commenting on the nature of its solution(s).\n",
    "\n",
    "### Problem:\n",
    "- **Objective:** Maximize $$z = x_1 + 2x_2$$\n",
    "- **Constraints:**\n",
    "$$x_1 + 2x_2 \\leq 10$$\n",
    "$$x_1, x_2 \\geq 0$$\n",
    "\n",
    "\n",
    "### Change in Constraints:\n",
    "- If the first constraint \\( $x_1$ + 2$x_2$ $\\leq$ 10 \\) is removed, the problem becomes not feasible. The new problem formulation is:\n",
    "\n",
    "  - **Objective:** Maximize $$z = x_1 + 2x_2$$\n",
    "  - **Constraints:**\n",
    "$$x_1, x_2 \\geq 0$$\n",
    "\n"
   ]
  },
  {
   "cell_type": "markdown",
   "metadata": {
    "id": "4e1biE55yGih"
   },
   "source": [
    "### Code Implementation"
   ]
  },
  {
   "cell_type": "code",
   "execution_count": 9,
   "metadata": {
    "colab": {
     "base_uri": "https://localhost:8080/"
    },
    "id": "JPu8qsGByGih",
    "outputId": "e74ca1fc-eea4-4d21-a832-17df24983bf1"
   },
   "outputs": [
    {
     "name": "stdout",
     "output_type": "stream",
     "text": [
      "Problem with the first constraint: Optimal value of X1: 10.0, Optimal value of X2: 0.0, Optimal value of Z: 10.0\n",
      "Problem without the first constraint: No feasible solution\n"
     ]
    }
   ],
   "source": [
    "from scipy.optimize import linprog\n",
    "\n",
    "# Define a function to solve the linear programming problem\n",
    "def solve_lp(c, A, b, bounds):\n",
    "    # Solve the linear programming problem using the Highs solver\n",
    "    res = linprog(c, A_ub=A, b_ub=b, bounds=bounds, method='highs')\n",
    "\n",
    "    # Check if the solution is valid\n",
    "    if res.success:\n",
    "        # Optimal values of X1 and X2\n",
    "        X1 = res.x[0]\n",
    "        X2 = res.x[1]\n",
    "\n",
    "        # Optimal value of Z\n",
    "        Z = -res.fun  # Negate because we minimized the negative of the objective function\n",
    "\n",
    "        return X1, X2, Z\n",
    "    else:\n",
    "        return None, None, None\n",
    "\n",
    "# Problem with the first constraint\n",
    "c = [-1, -2]\n",
    "A = [[1, 2]]\n",
    "b = [10]\n",
    "bounds = [(0, None), (0, None)]\n",
    "X1, X2, Z = solve_lp(c, A, b, bounds)\n",
    "\n",
    "if X1 is None:\n",
    "    print(\"Problem with the first constraint: No feasible solution\")\n",
    "else:\n",
    "    print(f\"Problem with the first constraint: Optimal value of X1: {X1}, Optimal value of X2: {X2}, Optimal value of Z: {Z}\")\n",
    "\n",
    "# Problem without the first constraint\n",
    "A_no_constraint = None\n",
    "b_no_constraint = None\n",
    "X1_no_constraint, X2_no_constraint, Z_no_constraint = solve_lp(c, A_no_constraint, b_no_constraint, bounds)\n",
    "\n",
    "if X1_no_constraint is None:\n",
    "    print(\"Problem without the first constraint: No feasible solution\")\n",
    "else:\n",
    "    print(f\"Problem without the first constraint: Optimal value of X1: {X1_no_constraint}, Optimal value of X2: {X2_no_constraint}, Optimal value of Z: {Z_no_constraint}\")"
   ]
  },
  {
   "cell_type": "markdown",
   "metadata": {
    "id": "79PzoaLDyHWN"
   },
   "source": [
    "## **Exercise 2.24: Graphical Method**"
   ]
  },
  {
   "cell_type": "markdown",
   "metadata": {
    "id": "mD2U4-DhyHWO"
   },
   "source": [
    "This exercise involves solving a linear programming problem graphically.\n",
    "\n",
    "### Problem:\n",
    "- **Objective:** Maximize $$z = x_1 - x_2$$\n",
    "- **Constraints:**\n",
    "$$x_1 + x_2 \\geq 1$$\n",
    "$$3x_2 \\geq 9$$\n",
    "$$2x_1 + x_2 \\leq 4$$\n",
    "$$3x_1 \\leq 1.5$$\n",
    "$$x_1, x_2 \\geq 0$$\n"
   ]
  },
  {
   "cell_type": "markdown",
   "metadata": {
    "id": "St3lIOixyHWO"
   },
   "source": [
    "### Code Implementation"
   ]
  },
  {
   "cell_type": "code",
   "execution_count": 10,
   "metadata": {
    "colab": {
     "base_uri": "https://localhost:8080/",
     "height": 788
    },
    "id": "NsykUN-dyHWO",
    "outputId": "a5f5b7e1-6543-46db-befa-a195d42d6e2d"
   },
   "outputs": [
    {
     "name": "stdout",
     "output_type": "stream",
     "text": [
      "\n",
      "Optimal Solution:\n",
      "Optimal Point: (0.50, 3.00)\n",
      "Maximum z = -2.50\n"
     ]
    },
    {
     "data": {
      "image/png": "[encoded data removed]",
      "text/plain": [
       "<Figure size 800x800 with 1 Axes>"
      ]
     },
     "metadata": {},
     "output_type": "display_data"
    }
   ],
   "source": [
    "import numpy as np\n",
    "import matplotlib.pyplot as plt\n",
    "from itertools import combinations\n",
    "\n",
    "def find_intersection(line1, line2):\n",
    "    A = np.array([[line1[0], line1[1]], [line2[0], line2[1]]])\n",
    "    b = np.array([line1[2], line2[2]])\n",
    "    if np.linalg.det(A) == 0:\n",
    "        return None  # Parallel lines, no intersection\n",
    "    return np.linalg.solve(A, b)\n",
    "\n",
    "def is_feasible(point, constraints):\n",
    "    x, y = point\n",
    "    for a, b, c, sign in constraints:\n",
    "        if sign == '<' and not (a * x + b * y <= c):\n",
    "            return False\n",
    "        if sign == '>' and not (a * x + b * y >= c):\n",
    "            return False\n",
    "    return x >= 0 and y >= 0  # Ensure non-negative solutions\n",
    "\n",
    "def find_feasible_points(constraints):\n",
    "    feasible_points = []\n",
    "    for (line1, line2) in combinations(constraints, 2):\n",
    "        intersection = find_intersection(line1, line2)\n",
    "        if intersection is not None and is_feasible(intersection, constraints):\n",
    "            feasible_points.append(intersection)\n",
    "    return np.array(feasible_points)\n",
    "\n",
    "def plot_feasible_region(constraints, x_range, y_range):\n",
    "    x, y = np.meshgrid(x_range, y_range)\n",
    "    feasible_region = np.ones_like(x, dtype=bool)\n",
    "\n",
    "    for a, b, c, sign in constraints:\n",
    "        if sign == '<':\n",
    "            feasible_region &= (a * x + b * y <= c)\n",
    "        elif sign == '>':\n",
    "            feasible_region &= (a * x + b * y >= c)\n",
    "\n",
    "    plt.imshow(feasible_region.astype(int), extent=(x.min(), x.max(), y.min(), y.max()),\n",
    "               origin=\"lower\", cmap=\"Greys\", alpha=0.3)\n",
    "\n",
    "def plot_constraints(constraints, x_range):\n",
    "    for a, b, c, sign in constraints:\n",
    "        y_vals = np.linspace(-10, 10, 200)\n",
    "        if a != 0:\n",
    "            x_vals = (c - b * y_vals) / a\n",
    "        else:\n",
    "            x_vals = np.full_like(y_vals, c / b)\n",
    "        plt.plot(x_vals, y_vals, label=f'{a}x + {b}y {sign} {c}')\n",
    "\n",
    "def solve_and_plot():\n",
    "    constraints = [\n",
    "        (1, 1, 1, '>'),    # x1 + x2 >= 1\n",
    "        (0, 3, 9, '>'),    # 3x2 >= 9\n",
    "        (2, 1, 4, '<'),    # 2x1 + x2 <= 4\n",
    "        (3, 0, 1.5, '<'),  # 3x1 <= 1.5\n",
    "        (1, 0, 0, '>'),    # x1 >= 0\n",
    "        (0, 1, 0, '>')     # x2 >= 0\n",
    "    ]\n",
    "\n",
    "    obj_func = lambda x1, x2: x1 - x2  # z = x1 - x2\n",
    "\n",
    "    x_range = np.linspace(-1, 3, 300)\n",
    "    y_range = np.linspace(-1, 5, 300)\n",
    "    plt.figure(figsize=(8, 8))\n",
    "\n",
    "    plot_feasible_region(constraints, x_range, y_range)\n",
    "    plot_constraints(constraints, x_range)\n",
    "\n",
    "    feasible_points = find_feasible_points(constraints)\n",
    "\n",
    "    if feasible_points.size > 0:\n",
    "        feasible_x, feasible_y = zip(*feasible_points)\n",
    "        plt.scatter(feasible_x, feasible_y, color='blue', label='Feasible Points')\n",
    "\n",
    "        # Compute objective function values at extreme points\n",
    "        obj_values = [obj_func(x1, x2) for x1, x2 in feasible_points]\n",
    "\n",
    "        # Display best extreme point\n",
    "        best_idx = np.argmax(obj_values)\n",
    "        optimal_point = feasible_points[best_idx]\n",
    "        plt.scatter(*optimal_point, color='red', s=100, label='Optimal Point', edgecolors='black')\n",
    "\n",
    "        print(\"\\nOptimal Solution:\")\n",
    "        print(f\"Optimal Point: ({optimal_point[0]:.2f}, {optimal_point[1]:.2f})\")\n",
    "        print(f\"Maximum z = {obj_values[best_idx]:.2f}\")\n",
    "\n",
    "    plt.xlim(-1, 3)\n",
    "    plt.ylim(-1, 5)\n",
    "    plt.xlabel(r'$x_1$')\n",
    "    plt.ylabel(r'$x_2$')\n",
    "    plt.legend(loc='upper right')\n",
    "    plt.title(\"Feasible Region and Optimal Solution\")\n",
    "    plt.grid(True)\n",
    "    plt.show()\n",
    "\n",
    "solve_and_plot()\n"
   ]
  },
  {
   "cell_type": "markdown",
   "metadata": {
    "id": "HDrh47DdgFuO"
   },
   "source": [
    "## **Exercise 2.25: Number of Basic Variables**"
   ]
  },
  {
   "cell_type": "markdown",
   "metadata": {
    "id": "UVJhQw_t8dMo"
   },
   "source": [
    "**Q: What determines the number of basic variables in a linear programming problem solution?**\n",
    "\n",
    "**Solution:**\n",
    "\n",
    "The number of basic variables in a linear programming problem solution is determined by the number of constraints in the system. Specifically, in a system with \\( m \\) constraints and \\( n \\) decision variables, a basic feasible solution will have exactly \\( m \\) basic variables and \\( n-m \\) non-basic variables.\n"
   ]
  },
  {
   "cell_type": "markdown",
   "metadata": {
    "id": "aVklqkg0gMSt"
   },
   "source": [
    "## **Exercise 2.26: Value of Non-Basic Variable**"
   ]
  },
  {
   "cell_type": "markdown",
   "metadata": {
    "id": "snuUMPRTgMSt"
   },
   "source": [
    "**Q: What is the value of a non-basic variable in a feasible solution of a linear programming problem?**\n",
    "\n",
    "**Solution:**\n",
    "\n",
    "In a feasible solution of a linear programming problem, a non-basic variable is assigned a value of zero. This allows the remaining basic variables to be solved uniquely from the system of equations.\n"
   ]
  },
  {
   "cell_type": "markdown",
   "metadata": {
    "id": "hRDaX9OngMY-"
   },
   "source": [
    "## **Exercise 2.27: Economic Interpretation of The Objective Function**"
   ]
  },
  {
   "cell_type": "markdown",
   "metadata": {
    "id": "5mKW7BuIgMY-"
   },
   "source": [
    "**Q: What is the economic interpretation of the objective function row entry corresponding to the i-th slack variable?**\n",
    "\n",
    "**Solution:**\n",
    "\n",
    "In an optimal Simplex tableau, the entry in the objective function row corresponding to the i-th slack variable represents the shadow price of the associated constraint. This value indicates how much the objective function will change per unit increase in the right-hand side of that constraint.\n"
   ]
  },
  {
   "cell_type": "markdown",
   "metadata": {
    "id": "5lLodDTTgMft"
   },
   "source": [
    "## **Exercise 2.28: The Right-Hand-Side Entries In Simplex tableau**"
   ]
  },
  {
   "cell_type": "markdown",
   "metadata": {
    "id": "xpOCdkR1gMft"
   },
   "source": [
    "**Q: In a Simplex tableau, what is the interpretation of the entries in the right-hand-side column?**\n",
    "\n",
    "**Solution:**\n",
    "\n",
    "The entries in the right-hand-side column of a Simplex tableau represent the values of the basic variables at the current iteration. These values indicate the current feasible solution for the linear programming problem."
   ]
  },
  {
   "cell_type": "markdown",
   "metadata": {
    "id": "3hRyxBDdgMnd"
   },
   "source": [
    "## **Exercise 2.29: Consequence Of A Tie For The Entering Basic Variable**"
   ]
  },
  {
   "cell_type": "markdown",
   "metadata": {
    "id": "VTbFYakfgMnd"
   },
   "source": [
    "**Q: What is the consequence of a tie for the entering basic variable?**\n",
    "\n",
    "**Solution:**\n",
    "\n",
    "If there is a tie for the entering basic variable, any of the tied variables can be chosen as the entering variable. This may lead to different pivot sequences, and in some cases, may affect the number of iterations required to reach the optimal solution."
   ]
  },
  {
   "cell_type": "markdown",
   "metadata": {
    "id": "RwfbmKVrgMt-"
   },
   "source": [
    "## **Exercise 2.30: Tie For The Leaving Basic Variable**"
   ]
  },
  {
   "cell_type": "markdown",
   "metadata": {
    "id": "ncq9EzGPgMt-"
   },
   "source": [
    "**Q: What if there is a tie for the leaving basic variable?**\n",
    "\n",
    "**Solution:**\n",
    "\n",
    "If there is a tie for the leaving basic variable, the problem exhibits degeneracy. This can result in cycling, where the Simplex method revisits the same solution repeatedly without progress. Anti-cycling rules, such as Bland’s Rule, can be used to prevent this issue."
   ]
  },
  {
   "cell_type": "markdown",
   "metadata": {
    "id": "gAZuypXbgMz-"
   },
   "source": [
    "## **Exercise 2.31: Objective Function**"
   ]
  },
  {
   "cell_type": "markdown",
   "metadata": {
    "id": "Ep-uoM8LgMz-"
   },
   "source": [
    "**Q: What if, in the objective function row of a final tableau, there is a zero in a column corresponding to a non-basic variable?**\n",
    "\n",
    "**Solution:**\n",
    "\n",
    "If there is a zero in the objective function row for a non-basic variable in the final tableau, this indicates the presence of multiple optimal solutions. Any increase in the corresponding variable will not change the optimal objective value, allowing for an alternative optimal solution."
   ]
  },
  {
   "cell_type": "markdown",
   "metadata": {
    "id": "abyoKPLMlSIc"
   },
   "source": [
    "## **Exercise 2.32: Negative Objective Row Coefficient**"
   ]
  },
  {
   "cell_type": "markdown",
   "metadata": {
    "id": "sgT3ErBRlSIc"
   },
   "source": [
    "**Q: What happens in the Simplex algorithm if you choose, as the entering variable, a variable with a negative objective row coefficient but not the most negative coefficient?**\n",
    "\n",
    "**Solution:**\n",
    "\n",
    "If a variable with a negative objective row coefficient is chosen as the entering variable but it is not the most negative, the algorithm may still reach the optimal solution but may take more iterations. The standard approach is to choose the most negative coefficient to ensure the fastest path to optimization."
   ]
  },
  {
   "cell_type": "markdown",
   "metadata": {
    "id": "3D4QdUSYoa-X"
   },
   "source": [
    "## **Exercise 2.33: Simplex Method**"
   ]
  },
  {
   "cell_type": "markdown",
   "metadata": {
    "id": "YGnjQEbLoa-Y"
   },
   "source": [
    "This exercise involves solving a linear programming problem using the Simplex method.\n",
    "\n",
    "### Problem:\n",
    "- **Objective:** Maximize $$z = x_1 + 9x_2 + x_3$$\n",
    "- **Constraints:**\n",
    "$$x_1 + 2x_2 + 3x_3 \\leq 9$$\n",
    "$$3x_1 + 2x_2 + 2x_3 \\leq 15$$\n",
    "$$x_1, x_2, x_3 \\geq 0$$\n"
   ]
  },
  {
   "cell_type": "markdown",
   "metadata": {
    "id": "bcP3TFHCoa-Y"
   },
   "source": [
    "### Code Implementation"
   ]
  },
  {
   "cell_type": "code",
   "execution_count": 11,
   "metadata": {
    "colab": {
     "base_uri": "https://localhost:8080/"
    },
    "id": "o-u6dchGoa-Y",
    "outputId": "7824eda3-c119-47bb-8f78-8f0fcbf8ac79"
   },
   "outputs": [
    {
     "name": "stdout",
     "output_type": "stream",
     "text": [
      "Optimal value of x1: 0.00\n",
      "Optimal value of x2: 4.50\n",
      "Optimal value of x3: 0.00\n",
      "Maximum value of z: 40.50\n"
     ]
    }
   ],
   "source": [
    "from scipy.optimize import linprog\n",
    "\n",
    "# Coefficients of the objective function (we negate the values for maximization)\n",
    "c = [-1, -9, -1]  # Maximizing z = x1 + 9x2 + x3\n",
    "\n",
    "# Coefficients of the constraints\n",
    "A = [\n",
    "    [1, 2, 3],  # x1 + 2x2 + 3x3 <= 9\n",
    "    [3, 2, 2]   # 3x1 + 2x2 + 2x3 <= 15\n",
    "]\n",
    "\n",
    "# Right-hand side of the constraints\n",
    "b = [9, 15]\n",
    "\n",
    "# Bounds for the variables (x1, x2, x3 >= 0)\n",
    "x_bounds = (0, None)\n",
    "x2_bounds = (0, None)\n",
    "x3_bounds = (0, None)\n",
    "\n",
    "# Use linprog to solve the problem (Simplex method)\n",
    "result = linprog(c, A_ub=A, b_ub=b, bounds=[x_bounds, x2_bounds, x3_bounds], method='highs')\n",
    "\n",
    "# Display the results\n",
    "if result.success:\n",
    "    x1_opt = result.x[0]\n",
    "    x2_opt = result.x[1]\n",
    "    x3_opt = result.x[2]\n",
    "    max_z = -result.fun  # Negate the result to get the maximized value\n",
    "\n",
    "    print(f\"Optimal value of x1: {x1_opt:.2f}\")\n",
    "    print(f\"Optimal value of x2: {x2_opt:.2f}\")\n",
    "    print(f\"Optimal value of x3: {x3_opt:.2f}\")\n",
    "    print(f\"Maximum value of z: {max_z:.2f}\")\n",
    "else:\n",
    "    print(\"Optimization failed.\")"
   ]
  },
  {
   "cell_type": "markdown",
   "metadata": {
    "id": "S40koyFEpaSr"
   },
   "source": [
    "## **Exercise 2.34:  Two Phase Simplex Method**"
   ]
  },
  {
   "cell_type": "markdown",
   "metadata": {
    "id": "sbEYbAdApaSs"
   },
   "source": [
    "This exercise involves using the Two-Phase Simplex method to solve a linear programming problem.\n",
    "\n",
    "### Problem:\n",
    "- **Objective:** Minimize $$z = 16x_1 + 2x_2 - 3x_3$$\n",
    "- **Constraints:**\n",
    "$$x_1 - 6x_2 \\geq 4$$\n",
    "$$3x_2 + 7x_3 \\leq -5$$\n",
    "$$x_1 + x_2 + x_3 = 10$$\n",
    "$$x_1, x_2, x_3 \\geq 0$$"
   ]
  },
  {
   "cell_type": "markdown",
   "metadata": {
    "id": "wnjm14GdpaSs"
   },
   "source": [
    "### Code Implementation"
   ]
  },
  {
   "cell_type": "code",
   "execution_count": 12,
   "metadata": {
    "colab": {
     "base_uri": "https://localhost:8080/"
    },
    "id": "jCx8oDg4paSs",
    "outputId": "7b163935-98d0-4479-c396-d3eeb72d6dca"
   },
   "outputs": [
    {
     "name": "stdout",
     "output_type": "stream",
     "text": [
      "Phase 1 Result:\n",
      "Optimal value of artificial variables: 0.0\n",
      "Optimal values of variables (x1, x2, s1, s2, a1, a2): [10.  0.  0.  0.  0.  0.]\n",
      "\n",
      "Phase 2 Result:\n",
      "Optimal value of the objective function: None\n",
      "Optimal values of variables (x1, x2, x3): None\n"
     ]
    }
   ],
   "source": [
    "from scipy.optimize import linprog\n",
    "import numpy as np\n",
    "\n",
    "# Phase 1: Minimize the sum of artificial variables (a1 + a2)\n",
    "# Coefficients for the artificial variables in the objective function\n",
    "c_phase1 = np.array([0, 0, 1, 1, 0, 0])  # Minimize a1 + a2\n",
    "\n",
    "# The augmented matrix for the constraints, including artificial variables\n",
    "A_phase1 = np.array([\n",
    "    [1, -6, -1, 0, 0, 1],  # x1 - 6x2 - s1 + a1 = 4\n",
    "    [0, 3, 0, 1, 0, 1],    # 3x2 + 7x3 + s2 + a2 = -5\n",
    "    [1, 1, 0, 0, 0, 0]     # x1 + x2 + x3 = 10\n",
    "])\n",
    "\n",
    "# Right-hand side (RHS) for Phase 1\n",
    "b_phase1 = np.array([4, -5, 10])\n",
    "\n",
    "# Bounds for the variables (all variables must be >= 0)\n",
    "x_bounds = (0, None)\n",
    "s_bounds = (0, None)\n",
    "a_bounds = (0, None)\n",
    "\n",
    "# Use linprog to solve Phase 1 of the problem\n",
    "result_phase1 = linprog(c_phase1, A_ub=-A_phase1, b_ub=-b_phase1, bounds=[x_bounds, x_bounds, s_bounds, s_bounds, a_bounds, a_bounds], method='highs')\n",
    "\n",
    "# Display results of Phase 1\n",
    "print(\"Phase 1 Result:\")\n",
    "print(\"Optimal value of artificial variables:\", result_phase1.fun)\n",
    "print(\"Optimal values of variables (x1, x2, s1, s2, a1, a2):\", result_phase1.x)\n",
    "\n",
    "# If the sum of artificial variables is zero, proceed to Phase 2\n",
    "if result_phase1.fun == 0:\n",
    "    # Phase 2: Now solve the original problem with the reduced objective function (ignoring a1 and a2)\n",
    "    # Coefficients for the original objective function\n",
    "    c_phase2 = np.array([16, 2, -3, 0, 0])  # Minimize z = 16x1 + 2x2 - 3x3\n",
    "\n",
    "    # Constraints matrix for Phase 2 (without artificial variables)\n",
    "    A_phase2 = np.array([\n",
    "        [1, -6, 0, 0, 0],   # x1 - 6x2 - s1 = 4\n",
    "        [0, 3, 7, 0, 0],    # 3x2 + 7x3 + s2 = -5\n",
    "        [1, 1, 1, 0, 0]     # x1 + x2 + x3 = 10\n",
    "    ])\n",
    "\n",
    "    # Right-hand side (RHS) for Phase 2\n",
    "    b_phase2 = np.array([4, -5, 10])\n",
    "\n",
    "    # Solve Phase 2\n",
    "    result_phase2 = linprog(c_phase2, A_ub=A_phase2, b_ub=b_phase2, bounds=[x_bounds, x_bounds, x_bounds, s_bounds, s_bounds], method='highs')\n",
    "\n",
    "    # Display results of Phase 2\n",
    "    print(\"\\nPhase 2 Result:\")\n",
    "    print(\"Optimal value of the objective function:\", result_phase2.fun)\n",
    "    print(\"Optimal values of variables (x1, x2, x3):\", result_phase2.x)\n",
    "else:\n",
    "    print(\"The problem is infeasible because the sum of artificial variables is not zero.\")"
   ]
  },
  {
   "cell_type": "markdown",
   "metadata": {
    "id": "87Dc3VBRrbti"
   },
   "source": [
    "## **Exercise 2.35: Simplex Method**"
   ]
  },
  {
   "cell_type": "markdown",
   "metadata": {
    "id": "fAmRanG2rbtj"
   },
   "source": [
    "### Define Variables\n",
    "Let:\n",
    "- \\( $x_1$ \\) = amount invested in **Plan A**.\n",
    "- \\( $x_2$ \\) = amount invested in **Plan B**.\n",
    "\n",
    "\n",
    "#### Objective Function:\n",
    "\n",
    "$$\\text{Maximize } Z = 2.1x_1 + 2x_2$$\n",
    "\n",
    "\n",
    "#### Subject to:\n",
    "\n",
    "$$x_1 + x_2 = 100,000$$\n",
    "\n",
    "$$x_1 \\geq 0$$\n",
    "\n",
    "$$x_2 \\geq 0$$"
   ]
  },
  {
   "cell_type": "markdown",
   "metadata": {
    "id": "tDqvENPTrbtj"
   },
   "source": [
    "### Code Implementation"
   ]
  },
  {
   "cell_type": "code",
   "execution_count": 13,
   "metadata": {
    "colab": {
     "base_uri": "https://localhost:8080/"
    },
    "id": "nqD1xdGprbtj",
    "outputId": "05f923ed-a6f2-4296-e483-be6ab6ebd37e"
   },
   "outputs": [
    {
     "name": "stdout",
     "output_type": "stream",
     "text": [
      "Optimal amount to invest in Plan A (x1): $100000.00\n",
      "Optimal amount to invest in Plan B (x2): $0.00\n",
      "Maximum earnings at the end of 3 years: $210000.00\n"
     ]
    }
   ],
   "source": [
    "from scipy.optimize import linprog\n",
    "\n",
    "# Coefficients for the objective function (maximize Z = 2.1x1 + 2x2)\n",
    "c = [-2.1, -2]  # We multiply by -1 because linprog minimizes the objective function\n",
    "\n",
    "# Coefficients for the constraints (x1 + x2 = 100000)\n",
    "A_eq = [[1, 1]]  # x1 + x2 = 100000\n",
    "b_eq = [100000]\n",
    "\n",
    "# Bounds for x1 and x2 (both must be >= 0)\n",
    "x_bounds = (0, None)\n",
    "x2_bounds = (0, None)\n",
    "\n",
    "# Use linprog to solve the problem\n",
    "result = linprog(c, A_eq=A_eq, b_eq=b_eq, bounds=[x_bounds, x2_bounds], method='highs')\n",
    "\n",
    "# Display the results\n",
    "if result.success:\n",
    "    x1_opt = result.x[0]\n",
    "    x2_opt = result.x[1]\n",
    "    max_earnings = -result.fun  # We negate the result because we minimized it\n",
    "\n",
    "    print(f\"Optimal amount to invest in Plan A (x1): ${x1_opt:.2f}\")\n",
    "    print(f\"Optimal amount to invest in Plan B (x2): ${x2_opt:.2f}\")\n",
    "    print(f\"Maximum earnings at the end of 3 years: ${max_earnings:.2f}\")\n",
    "else:\n",
    "    print(\"Optimization failed.\")"
   ]
  },
  {
   "cell_type": "markdown",
   "metadata": {
    "id": "SOnJ8EMTrc_b"
   },
   "source": [
    "## **Exercise 2.36: Simplex Method**"
   ]
  },
  {
   "cell_type": "markdown",
   "metadata": {
    "id": "iyz0n1Bprc_c"
   },
   "source": [
    "To formulate this investment portfolio management problem as a linear programming problem, we need to define the decision variables, the objective function, and the constraints based on the given information.\n",
    "\n",
    "### Decision Variables\n",
    "Let's denote:\n",
    "- \\( $x_1$ \\): the number of units of AAA rated bonds purchased (units of \\$5000).\n",
    "- \\( $x_2$ \\): the number of units of A rated bonds purchased (units of \\$1000).\n",
    "- \\( $x_3$ \\): the number of units of J rated (junk) bonds purchased (units of \\$10,000).\n",
    "\n",
    "### Objective Function\n",
    "We want to maximize the earnings at the end of one year. The earnings from each type of bond can be calculated as follows:\n",
    "- Earnings from AAA rated bonds: \\( 0.06 $\\times$ 5000 $\\times$ $x_1$ \\)\n",
    "- Earnings from A rated bonds: \\( 0.08 $\\times$ 1000 $\\times$ $x_2$ \\)\n",
    "- Earnings from J rated (junk) bonds: \\( 0.10 $\\times$ 10,000 $\\times$ $x_3$ \\)\n",
    "\n",
    "The total earnings at the end of one year will be the sum of these earnings.\n",
    "\n",
    "### Constraints\n",
    "1. The total investment should not exceed \\$1,000,000.\n",
    "$$5000x_1 + 1000x_2 + 10000x_3 \\leq 1,000,000$$\n",
    "\n",
    "2. No more than 25% of the portfolio should be invested in junk bonds.\n",
    "$$10000x_3 \\leq 0.25 \\times 1,000,000$$\n",
    "$$x_3 \\leq 25$$\n",
    "\n",
    "3. At least 40% should be invested in AAA rated bonds.\n",
    "$$5000x_1 \\geq 0.40 \\times 1,000,000$$\n",
    "$$x_1 \\geq 80$$\n",
    "\n",
    "4. Non-negativity constraints:\n",
    "$$x_1, x_2, x_3 \\geq 0$$\n",
    "\n",
    "### Linear Programming Formulation\n",
    "The linear programming problem can be formulated as follows:\n",
    "\n",
    "**Objective:**\n",
    "\n",
    "Maximize \\[$Z$ = (0.06 $\\times$ 5000)$x_1$ + (0.08 $\\times$ 1000)$x_2$ + (0.10 $\\times$ 10000)$x_3$ \\]\n",
    "\n",
    "Simplified to:\n",
    "\n",
    "Maximize \\[$Z$ = 300$x_1$ + 80$x_2$ + 1000$x_3$ \\]\n",
    "\n",
    "**Subject to:**\n",
    "$$5000x_1 + 1000x_2 + 10000x_3 \\leq 1,000,000$$\n",
    "$$x_3 \\leq 25$$\n",
    "$$x_1 \\geq 80$$\n",
    "$$x_1, x_2, x_3 \\geq 0$$"
   ]
  },
  {
   "cell_type": "markdown",
   "metadata": {
    "id": "Fuwawhjurc_c"
   },
   "source": [
    "### Code Implementation"
   ]
  },
  {
   "cell_type": "code",
   "execution_count": 14,
   "metadata": {
    "colab": {
     "base_uri": "https://localhost:8080/"
    },
    "id": "6GlGJWYcrc_c",
    "outputId": "5bb01e6d-cf62-414e-fcd2-06537f2b2b90"
   },
   "outputs": [
    {
     "name": "stdout",
     "output_type": "stream",
     "text": [
      "Optimal value (Z): 77000.0\n",
      "Optimal solution (x1, x2, x3): [ 80. 350.  25.]\n"
     ]
    }
   ],
   "source": [
    "from scipy.optimize import linprog\n",
    "\n",
    "# Coefficients of the objective function (note the negative signs for maximization)\n",
    "c = [-300, -80, -1000]\n",
    "\n",
    "# Coefficients of the inequality constraints\n",
    "A = [\n",
    "    [5000, 1000, 10000],  # 5000x1 + 1000x2 + 10000x3 <= 1,000,000\n",
    "    [0, 0, 1],            # x3 <= 25\n",
    "    [-1, 0, 0]            # -x1 <= -80 (x1 >= 80)\n",
    "]\n",
    "\n",
    "# Right-hand side of the inequality constraints\n",
    "b = [1000000, 25, -80]\n",
    "\n",
    "# Bounds for each variable\n",
    "x1_bounds = (0, None)\n",
    "x2_bounds = (0, None)\n",
    "x3_bounds = (0, None)\n",
    "bounds = [x1_bounds, x2_bounds, x3_bounds]\n",
    "\n",
    "# Solve the linear programming problem\n",
    "result = linprog(c, A_ub=A, b_ub=b, bounds=bounds, method='highs')\n",
    "\n",
    "# Print the result\n",
    "if result.success:\n",
    "    print(f\"Optimal value (Z): {-result.fun}\")\n",
    "    print(f\"Optimal solution (x1, x2, x3): {result.x}\")\n",
    "else:\n",
    "    print(\"No solution found.\")"
   ]
  },
  {
   "cell_type": "markdown",
   "metadata": {
    "id": "Qe5tAR8KraSD"
   },
   "source": [
    "## **Exercise 2.37: Simplex Method**"
   ]
  },
  {
   "cell_type": "markdown",
   "metadata": {
    "id": "3Xm_DruwraSD"
   },
   "source": [
    "To formulate this donation problem as a linear programming problem, we need to define the decision variables, the objective function, and the constraints based on the given information.\n",
    "\n",
    "### Decision Variables\n",
    "Let's denote:\n",
    "- \\( $x_1$ \\): the amount of money (in thousands of dollars) donated to Our Great State University.\n",
    "- \\( $x_2$ \\): the amount of money (in thousands of dollars) donated to the Friends of the Grand Opera.\n",
    "- \\( $x_3$ \\): the amount of money (in thousands of dollars) donated to the Save the Humuhumunukunukuapua'a Society.\n",
    "\n",
    "### Objective Function\n",
    "We want to maximize the number of tax credits. The tax credits for each organization can be calculated as follows:\n",
    "- Tax credits from Our Great State University: \\( 10$x_1$ \\)\n",
    "- Tax credits from the Friends of the Grand Opera: \\( 8$x_2$ \\)\n",
    "- Tax credits from the Save the Humuhumunukunukuapua'a Society: \\( 6$x_3$ \\)\n",
    "\n",
    "**Objective:**\n",
    "$$\\text{Maximize } Z = 10x_1 + 8x_2 + 6x_3$$\n",
    "\n",
    "**Subject to:**\n",
    "$$x_1 + x_2 + x_3 \\leq 10,000$$\n",
    "$$x_1 \\leq 5,000$$\n",
    "$$x_2 \\leq 5,000$$\n",
    "$$x_3 \\leq 5,000$$\n",
    "$$x_1, x_2, x_3 \\geq 0$$"
   ]
  },
  {
   "cell_type": "markdown",
   "metadata": {
    "id": "GYmSKMQnraSD"
   },
   "source": [
    "### Code Implementation"
   ]
  },
  {
   "cell_type": "code",
   "execution_count": 15,
   "metadata": {
    "colab": {
     "base_uri": "https://localhost:8080/"
    },
    "id": "KzaCX5F1raSD",
    "outputId": "a855f478-2568-435c-f391-bcc753c4f5a3"
   },
   "outputs": [
    {
     "name": "stdout",
     "output_type": "stream",
     "text": [
      "Optimal value (Z): 90000.0\n",
      "Optimal solution (x1, x2, x3): [5000. 5000.   -0.]\n"
     ]
    }
   ],
   "source": [
    "from scipy.optimize import linprog\n",
    "\n",
    "# Coefficients of the objective function (note the negative signs for maximization)\n",
    "c = [-10, -8, -6]\n",
    "\n",
    "# Coefficients of the inequality constraints\n",
    "A = [\n",
    "    [1, 1, 1],      # x1 + x2 + x3 <= 10,000\n",
    "    [1, 0, 0],      # x1 <= 5,000\n",
    "    [0, 1, 0],      # x2 <= 5,000\n",
    "    [0, 0, 1]       # x3 <= 5,000\n",
    "]\n",
    "\n",
    "# Right-hand side of the inequality constraints\n",
    "b = [10000, 5000, 5000, 5000]\n",
    "\n",
    "# Bounds for each variable\n",
    "x1_bounds = (0, None)\n",
    "x2_bounds = (0, None)\n",
    "x3_bounds = (0, None)\n",
    "bounds = [x1_bounds, x2_bounds, x3_bounds]\n",
    "\n",
    "# Solve the linear programming problem\n",
    "result = linprog(c, A_ub=A, b_ub=b, bounds=bounds, method='highs')\n",
    "\n",
    "# Print the result\n",
    "if result.success:\n",
    "    print(f\"Optimal value (Z): {-result.fun}\")\n",
    "    print(f\"Optimal solution (x1, x2, x3): {result.x}\")\n",
    "else:\n",
    "    print(\"No solution found.\")"
   ]
  },
  {
   "cell_type": "markdown",
   "metadata": {
    "id": "eNfPFnrFreoy"
   },
   "source": [
    "## **Exercise 2.38: Graphical Method**"
   ]
  },
  {
   "cell_type": "markdown",
   "metadata": {
    "id": "Q0iBTizGreoy"
   },
   "source": [
    "**Problem Statement:**\n",
    "Maximize \\( $z$ = $-2x_1$ + $x_2$ \\)\n",
    "\n",
    "**Subject to:**\n",
    "\n",
    "\\begin{align*}\n",
    "x_1 - x_2 &\\leq 5 \\\\\n",
    "x_1 &\\leq 7 \\\\\n",
    "x_2 &\\leq 6 \\\\\n",
    "x_1 - x_2 &\\leq -4 \\\\\n",
    "x_1, x_2 &\\geq 0\n",
    "\\end{align*}\n",
    "\n",
    "Solve using Graphical method:"
   ]
  },
  {
   "cell_type": "markdown",
   "metadata": {
    "id": "tQ4DuSWzreoz"
   },
   "source": [
    "### Code Implementation"
   ]
  },
  {
   "cell_type": "code",
   "execution_count": 16,
   "metadata": {
    "colab": {
     "base_uri": "https://localhost:8080/",
     "height": 792
    },
    "id": "U16pn1Bqreoz",
    "outputId": "63f6210b-18c7-4fc3-f5c0-17b4eb0da3b3"
   },
   "outputs": [
    {
     "name": "stdout",
     "output_type": "stream",
     "text": [
      "\n",
      "Optimal Solution:\n",
      "Optimal Point: (0.00, 4.00)\n",
      "Maximum z = 4.00\n"
     ]
    },
    {
     "data": {
      "image/png": "[encoded data removed]",
      "text/plain": [
       "<Figure size 800x800 with 1 Axes>"
      ]
     },
     "metadata": {},
     "output_type": "display_data"
    }
   ],
   "source": [
    "import numpy as np\n",
    "import matplotlib.pyplot as plt\n",
    "from itertools import combinations\n",
    "\n",
    "def find_intersection(line1, line2):\n",
    "    A = np.array([[line1[0], line1[1]], [line2[0], line2[1]]])\n",
    "    b = np.array([line1[2], line2[2]])\n",
    "    if np.linalg.det(A) == 0:\n",
    "        return None  # Parallel lines, no intersection\n",
    "    return np.linalg.solve(A, b)\n",
    "\n",
    "def is_feasible(point, constraints):\n",
    "    x, y = point\n",
    "    for a, b, c, sign in constraints:\n",
    "        if sign == '<' and not (a * x + b * y <= c):\n",
    "            return False\n",
    "        if sign == '>' and not (a * x + b * y >= c):\n",
    "            return False\n",
    "    return x >= 0 and y >= 0  # Ensure non-negative solutions\n",
    "\n",
    "def find_feasible_points(constraints):\n",
    "    feasible_points = []\n",
    "    for (line1, line2) in combinations(constraints, 2):\n",
    "        intersection = find_intersection(line1, line2)\n",
    "        if intersection is not None and is_feasible(intersection, constraints):\n",
    "            feasible_points.append(intersection)\n",
    "    return np.array(feasible_points)\n",
    "\n",
    "def plot_feasible_region(constraints, x_range, y_range):\n",
    "    x, y = np.meshgrid(x_range, y_range)\n",
    "    feasible_region = np.ones_like(x, dtype=bool)\n",
    "\n",
    "    for a, b, c, sign in constraints:\n",
    "        if sign == '<':\n",
    "            feasible_region &= (a * x + b * y <= c)\n",
    "        elif sign == '>':\n",
    "            feasible_region &= (a * x + b * y >= c)\n",
    "\n",
    "    plt.imshow(feasible_region.astype(int), extent=(x.min(), x.max(), y.min(), y.max()),\n",
    "               origin=\"lower\", cmap=\"Greys\", alpha=0.3)\n",
    "\n",
    "def plot_constraints(constraints, x_range):\n",
    "    for a, b, c, sign in constraints:\n",
    "        y_vals = np.linspace(-10, 10, 200)\n",
    "        if a != 0:\n",
    "            x_vals = (c - b * y_vals) / a\n",
    "        else:\n",
    "            x_vals = np.full_like(y_vals, c / b)\n",
    "        plt.plot(x_vals, y_vals, label=f'{a}x + {b}y {sign} {c}')\n",
    "\n",
    "def solve_and_plot():\n",
    "    constraints = [\n",
    "        (1, -1, 5, '<'),    # x1 - x2 <= 5\n",
    "        (1, 0, 7, '<'),   # x1 <= 7\n",
    "        (0, 1, 6, '<'),   # x2 <= 6\n",
    "        (1, -1, -4, '>'),   # x1 - x2 >= -4\n",
    "        (1, 0, 0, '>'),    # x1 >= 0\n",
    "        (0, 1, 0, '>')     # x2 >= 0\n",
    "    ]\n",
    "\n",
    "    obj_func = lambda x1, x2: -2*x1 + x2  # z = -2x1 + x2\n",
    "\n",
    "    x_range = np.linspace(-1, 10, 300)\n",
    "    y_range = np.linspace(-1, 10, 300)\n",
    "    plt.figure(figsize=(8, 8))\n",
    "\n",
    "    plot_feasible_region(constraints, x_range, y_range)\n",
    "    plot_constraints(constraints, x_range)\n",
    "\n",
    "    feasible_points = find_feasible_points(constraints)\n",
    "\n",
    "    if feasible_points.size > 0:\n",
    "        feasible_x, feasible_y = zip(*feasible_points)\n",
    "        plt.scatter(feasible_x, feasible_y, color='blue', label='Feasible Points')\n",
    "\n",
    "        # Compute objective function values at extreme points\n",
    "        obj_values = [obj_func(x1, x2) for x1, x2 in feasible_points]\n",
    "\n",
    "        # Display best extreme point\n",
    "        best_idx = np.argmax(obj_values)\n",
    "        optimal_point = feasible_points[best_idx]\n",
    "        plt.scatter(*optimal_point, color='red', s=100, label='Optimal Point', edgecolors='black')\n",
    "\n",
    "        print(\"\\nOptimal Solution:\")\n",
    "        print(f\"Optimal Point: ({optimal_point[0]:.2f}, {optimal_point[1]:.2f})\")\n",
    "        print(f\"Maximum z = {obj_values[best_idx]:.2f}\")\n",
    "\n",
    "    plt.xlim(-1, 10)\n",
    "    plt.ylim(-1, 10)\n",
    "    plt.xlabel(r'$x_1$')\n",
    "    plt.ylabel(r'$x_2$')\n",
    "    plt.legend(loc='upper right')\n",
    "    plt.title(\"Feasible Region and Optimal Solution\")\n",
    "    plt.grid(True)\n",
    "    plt.show()\n",
    "\n",
    "solve_and_plot()"
   ]
  },
  {
   "cell_type": "markdown",
   "metadata": {
    "id": "PMdjYtGw1jBA"
   },
   "source": [
    "## **Exercise 2.39: Dual Problem**"
   ]
  },
  {
   "cell_type": "markdown",
   "metadata": {
    "id": "AAvMSHa11jBB"
   },
   "source": [
    "### **Primal Problem (Exercise 2.7)**\n",
    "\n",
    "Maximize $$z = x_1 - x_2$$\n",
    "\n",
    "\n",
    "**Subject to:**\n",
    "\n",
    "$$x_1 + x_2 \\geq 1$$\n",
    "\n",
    "$$3x_2 \\leq 9$$\n",
    "\n",
    "$$2x_1 + x_2 \\leq 4$$\n",
    "\n",
    "$$x_1 \\leq \\frac{3}{2}$$\n",
    "\n",
    "$$x_1, x_2 \\geq 0$$\n",
    "\n",
    "\n",
    "---\n",
    "\n",
    "### **Dual Formulation**\n",
    "Introduce **dual variables**:\n",
    "\n",
    "- \\( $y_1$ \\) for constraint \\( $x_1$ + $x_2$ $\\geq$ 1 \\) (≥ constraint → non-negative)\n",
    "- \\( $y_2$ \\) for constraint \\( 3$x_2$ $\\leq$ 9 \\) (≤ constraint → non-negative)\n",
    "- \\( $y_3$ \\) for constraint \\( 2$x_1$ + $x_2$ $\\leq$ 4 \\) (≤ constraint → non-negative)\n",
    "- \\( $y_4$ \\) for constraint \\( $x_1$ $\\leq$ $\\frac{3}{2}$ \\) (≤ constraint → non-negative)\n",
    "\n",
    "Minimize $$w = 1y_1 + 9y_2 + 4y_3 + \\frac{3}{2} y_4$$\n",
    "\n",
    "\n",
    "**Subject to:**\n",
    "\n",
    "$$y_1 + 2y_3 + y_4 \\geq 1$$\n",
    "\n",
    "$$y_1 + 3y_2 + y_3 \\leq -1$$\n",
    "\n",
    "$$y_1, y_2, y_3, y_4 \\geq 0$$\n"
   ]
  },
  {
   "cell_type": "markdown",
   "metadata": {
    "id": "-qcpGy_F2aVr"
   },
   "source": [
    "### Code Implementation"
   ]
  },
  {
   "cell_type": "code",
   "execution_count": 17,
   "metadata": {
    "colab": {
     "base_uri": "https://localhost:8080/"
    },
    "id": "WkPYV3WQ1jBB",
    "outputId": "5e3bef55-2c81-4569-92f1-42b1264ef8d5"
   },
   "outputs": [
    {
     "name": "stdout",
     "output_type": "stream",
     "text": [
      "Status: Optimization terminated successfully. (HiGHS Status 7: Optimal)\n",
      "Optimal Value of w: 1.0\n",
      "Optimal Values for y: [1. 0. 0. 0.]\n"
     ]
    }
   ],
   "source": [
    "import numpy as np\n",
    "from scipy.optimize import linprog\n",
    "\n",
    "# Coefficients of the objective function (Minimize w)\n",
    "c = [1, 9, 4, 3/2]  # Corresponds to y1, y2, y3, y4\n",
    "\n",
    "# Coefficients for inequality constraints (Ax >= b → convert to -Ax ≤ -b)\n",
    "A = [\n",
    "    [-1, 0, -2, -1],  # - (y1 + 2y3 + y4) ≤ -1\n",
    "    [-1, -3, -1, 0]   # - (y1 + 3y2 + y3) ≥ 1 → (y1 + 3y2 + y3 ≤ -1)\n",
    "]\n",
    "b = [-1, 1]  # Right-hand side values\n",
    "\n",
    "# Bounds for y variables (all must be ≥ 0)\n",
    "bounds = [(0, None), (0, None), (0, None), (0, None)]\n",
    "\n",
    "# Solve the LP\n",
    "res = linprog(c, A_ub=A, b_ub=b, bounds=bounds, method=\"highs\")\n",
    "\n",
    "# Display results\n",
    "print(\"Status:\", res.message)\n",
    "print(\"Optimal Value of w:\", res.fun)\n",
    "print(\"Optimal Values for y:\", res.x)"
   ]
  },
  {
   "cell_type": "markdown",
   "metadata": {
    "id": "JHfV7Gqm1kTR"
   },
   "source": [
    "## **Exercise 2.40: Dual Problem**"
   ]
  },
  {
   "cell_type": "markdown",
   "metadata": {
    "id": "irQtIg0V1kTR"
   },
   "source": [
    "### **Dual of Exercise 2.8**\n",
    "#### **Primal Problem:**\n",
    "\n",
    "Maximize $$z = -2x_1 + x_2$$\n",
    "\n",
    "\n",
    "**Subject to:**\n",
    "\n",
    "$$x_1 - x_2 \\leq 5$$\n",
    "\n",
    "$$x_1 \\leq 7$$\n",
    "\n",
    "$$x_2 \\leq 6$$\n",
    "\n",
    "$$x_1 - x_2 \\geq -4$$\n",
    "\n",
    "$$x_1, x_2 \\geq 0$$\n",
    "\n",
    "#### **Dual Formulation:**\n",
    "Introduce dual variables \\( $y_1$, $y_2$, $y_3$, $y_4$ \\) corresponding to the four constraints.\n",
    "\n",
    "Minimize $$w = 5y_1 + 7y_2 + 6y_3 - 4y_4$$\n",
    "\n",
    "\n",
    "**Subject to:**\n",
    "\n",
    "$$y_1 + y_2 + y_4 \\geq -2$$\n",
    "\n",
    "$$- y_1 + y_3 - y_4 \\geq 1$$\n",
    "\n",
    "$$y_1, y_2, y_3, y_4 \\geq 0$$"
   ]
  },
  {
   "cell_type": "markdown",
   "metadata": {
    "id": "bXGqwcrt1kTR"
   },
   "source": [
    "### Code Implementation"
   ]
  },
  {
   "cell_type": "code",
   "execution_count": 18,
   "metadata": {
    "colab": {
     "base_uri": "https://localhost:8080/"
    },
    "id": "w40YHLx61kTR",
    "outputId": "24f19eeb-a5cc-4c63-b526-3097f93edbfd"
   },
   "outputs": [
    {
     "name": "stdout",
     "output_type": "stream",
     "text": [
      "Status: Optimization terminated successfully. (HiGHS Status 7: Optimal)\n",
      "Optimal Value of w: -2.0\n",
      "Optimal Values for y: [0. 0. 1. 2.]\n"
     ]
    }
   ],
   "source": [
    "# Coefficients of the objective function (Minimize w)\n",
    "c = [5, 7, 6, -4]\n",
    "\n",
    "# Constraints\n",
    "A = [\n",
    "    [-1, -1, 0, -1],  # - (y1 + y2 + y4) ≤ -2\n",
    "    [1, 0, -1, 1]     # - (-y1 + y3 - y4) ≤ 1 → (y1 - y3 + y4 ≥ -1)\n",
    "]\n",
    "b = [-2, 1]  # Right-hand side values\n",
    "\n",
    "# Bounds\n",
    "bounds = [(0, None), (0, None), (0, None), (0, None)]\n",
    "\n",
    "# Solve the LP\n",
    "res = linprog(c, A_ub=A, b_ub=b, bounds=bounds, method=\"highs\")\n",
    "\n",
    "# Display results\n",
    "print(\"Status:\", res.message)\n",
    "print(\"Optimal Value of w:\", res.fun)\n",
    "print(\"Optimal Values for y:\", res.x)"
   ]
  },
  {
   "cell_type": "markdown",
   "metadata": {
    "id": "vR1uWPTD9r3J"
   },
   "source": [
    "## **Exercise 2.41: Dual Problem**"
   ]
  },
  {
   "cell_type": "markdown",
   "metadata": {
    "id": "F9PMbqrl9r3K"
   },
   "source": [
    "### **Dual of Exercise 2.12**\n",
    "#### **Primal Problem:**\n",
    "\n",
    "Maximize $$z = 16x_1 + 2x_2 - 3x_3$$\n",
    "\n",
    "**Subject to:**\n",
    "\n",
    "$$x_1 - 6x_2 \\geq 4$$\n",
    "\n",
    "$$3x_2 + 7x_3 \\leq -5$$\n",
    "\n",
    "$$x_1 + x_2 + x_3 = 10$$\n",
    "\n",
    "$$x_1, x_2, x_3 \\geq 0$$\n",
    "\n",
    "#### **Dual Formulation:**\n",
    "Introduce dual variables \\( $y_1$, $y_2$, $y_3$ \\) corresponding to the three constraints.\n",
    "\n",
    "Minimize $$w = 4y_1 - 5y_2 + 10y_3$$\n",
    "\n",
    "\n",
    "**Subject to:**\n",
    "\n",
    "$$y_1 + y_3 \\geq 16$$\n",
    "\n",
    "$$-6y_1 + 3y_2 + y_3 \\geq 2$$\n",
    "\n",
    "$$7y_2 + y_3 \\geq -3$$\n",
    "\n",
    "$$y_1, y_2, y_3 \\geq 0$$"
   ]
  },
  {
   "cell_type": "markdown",
   "metadata": {
    "id": "J-Zp987Z9r3K"
   },
   "source": [
    "### Code Implementation"
   ]
  },
  {
   "cell_type": "code",
   "execution_count": 19,
   "metadata": {
    "colab": {
     "base_uri": "https://localhost:8080/"
    },
    "id": "D35PmQey9r3K",
    "outputId": "bb9a486d-ab54-4d5a-ffe7-593648280bcf"
   },
   "outputs": [
    {
     "name": "stdout",
     "output_type": "stream",
     "text": [
      "Status: The problem is unbounded. (HiGHS Status 10: model_status is Unbounded; primal_status is Feasible)\n",
      "Optimal Value of w: None\n",
      "Optimal Values for y: None\n"
     ]
    }
   ],
   "source": [
    "# Coefficients of the objective function (Minimize w)\n",
    "c = [4, -5, 10]\n",
    "\n",
    "# Constraints\n",
    "A = [\n",
    "    [-1, 0, -1],  # - (y1 + y3) ≤ -16\n",
    "    [6, -3, -1],  # - (-6y1 + 3y2 + y3) ≤ -2\n",
    "    [0, -7, -1]   # - (7y2 + y3) ≤ 3\n",
    "]\n",
    "b = [-16, -2, 3]  # Right-hand side values\n",
    "\n",
    "# Bounds\n",
    "bounds = [(0, None), (0, None), (0, None)]\n",
    "\n",
    "# Solve the LP\n",
    "res = linprog(c, A_ub=A, b_ub=b, bounds=bounds, method=\"highs\")\n",
    "\n",
    "# Display results\n",
    "print(\"Status:\", res.message)\n",
    "print(\"Optimal Value of w:\", res.fun)\n",
    "print(\"Optimal Values for y:\", res.x)\n"
   ]
  },
  {
   "cell_type": "markdown",
   "metadata": {
    "id": "66fExIWu9s6I"
   },
   "source": [
    "## **Exercise 2.42: Dual Problem**"
   ]
  },
  {
   "cell_type": "markdown",
   "metadata": {
    "id": "LPJ16loF9s6J"
   },
   "source": [
    "### **Dual of Exercise 2.10**\n",
    "#### **Primal Problem:**\n",
    "\n",
    "Maximize $$z = 3x_1 + 4x_2$$\n",
    "\n",
    "**Subject to:**\n",
    "\n",
    "$$6x_1 + 8x_2 \\leq 10$$\n",
    "\n",
    "$$x_1 + x_2 \\geq 1$$\n",
    "\n",
    "$$x_1 \\geq 1, \\quad x_2 \\geq 0$$\n",
    "\n",
    "#### **Dual Formulation:**\n",
    "Introduce dual variables \\( $y_1$, $y_2$, $y_3$ \\).\n",
    "\n",
    "Minimize $$w = 10y_1 + y_2 + y_3$$\n",
    "\n",
    "\n",
    "**Subject to:**\n",
    "\n",
    "$$6y_1 + y_2 - y_3 \\geq 3$$\n",
    "\n",
    "$$8y_1 + y_2 \\geq 4$$\n",
    "\n",
    "$$y_1, y_2, y_3 \\geq 0$$"
   ]
  },
  {
   "cell_type": "markdown",
   "metadata": {
    "id": "QlWTOjw6PDe-"
   },
   "source": [
    "### Code Implementation"
   ]
  },
  {
   "cell_type": "code",
   "execution_count": 20,
   "metadata": {
    "colab": {
     "base_uri": "https://localhost:8080/"
    },
    "id": "0H1bizmBNIIZ",
    "outputId": "cfebb213-5ebb-4842-d8e5-a98ba6d49463"
   },
   "outputs": [
    {
     "name": "stdout",
     "output_type": "stream",
     "text": [
      "Status: Optimization terminated successfully. (HiGHS Status 7: Optimal)\n",
      "Optimal Value of w: 4.0\n",
      "Optimal Values for y: [0. 4. 0.]\n"
     ]
    }
   ],
   "source": [
    "# Coefficients of the objective function (Minimize w)\n",
    "c = [10, 1, 1]\n",
    "\n",
    "# Constraints\n",
    "A = [\n",
    "    [-6, -1, 1],  # - (6y1 + y2 - y3) ≤ -3\n",
    "    [-8, -1, 0]   # - (8y1 + y2) ≤ -4\n",
    "]\n",
    "b = [-3, -4]  # Right-hand side values\n",
    "\n",
    "# Bounds\n",
    "bounds = [(0, None), (0, None), (0, None)]\n",
    "\n",
    "# Solve the LP\n",
    "res = linprog(c, A_ub=A, b_ub=b, bounds=bounds, method=\"highs\")\n",
    "\n",
    "# Display results\n",
    "print(\"Status:\", res.message)\n",
    "print(\"Optimal Value of w:\", res.fun)\n",
    "print(\"Optimal Values for y:\", res.x)"
   ]
  },
  {
   "cell_type": "markdown",
   "metadata": {
    "id": "9aPRN4LC9t-Z"
   },
   "source": [
    "## **Exercise 2.43: Fill in The Blanks**"
   ]
  },
  {
   "cell_type": "markdown",
   "metadata": {
    "id": "ki4PfPRz9t-a"
   },
   "source": [
    "### **Simplex Algorithm Statements Completion**\n",
    "\n",
    "Each statement describes a concept related to the **Simplex algorithm**, and we need to choose the correct completion from the given options.\n",
    "\n",
    "---\n",
    "\n",
    "#### **Given Statements and Choices**\n",
    "1. If all slack and surplus variables are zero in an optimal solution, then **_______**.\n",
    "2. If a basic variable has the value zero in an optimal solution, then **_______**.\n",
    "3. If an artificial variable is non-zero in an optimal solution, then **_______**.\n",
    "4. If a non-basic variable has zero coefficient in the top row of an optimal tableau, then **_______**.\n",
    "\n",
    "**Completion Alternatives:**\n",
    "A. There are multiple optimal solutions.  \n",
    "B. The current solution is degenerate.  \n",
    "C. All constraints are equalities at optimality.  \n",
    "D. The shadow prices are inverses of the dual variables.  \n",
    "E. No feasible solution exists.  \n",
    "F. The solution is unbounded.  \n",
    "\n",
    "---\n",
    "\n",
    "### **Final Answers:**\n",
    "| Statement | Answer |\n",
    "|-----------|--------|\n",
    "| **1.** All slack and surplus variables are zero → | **C** (All constraints are equalities at optimality) |\n",
    "| **2.** A basic variable has the value zero → | **B** (Degenerate solution) |\n",
    "| **3.** An artificial variable is non-zero → | **E** (No feasible solution) |\n",
    "| **4.** A non-basic variable has zero coefficient in the top row → | **A** (Multiple optimal solutions) |"
   ]
  },
  {
   "cell_type": "markdown",
   "metadata": {
    "id": "_k-wtmQ-9wT6"
   },
   "source": [
    "## **Exercise 2.44: Fill in The Blanks**"
   ]
  },
  {
   "cell_type": "markdown",
   "metadata": {
    "id": "6uvJrtag9wT7"
   },
   "source": [
    "### **Primal-Dual Relationships Completion**\n",
    "\n",
    "Each statement describes a relationship between the **primal** and **dual** linear programming problems. We need to complete them using the provided choices.\n",
    "\n",
    "---\n",
    "\n",
    "#### **Given Statements and Choices**\n",
    "1. The optimal objective function value in the primal problem corresponds to **__________**.  \n",
    "2. The shadow prices in the optimal primal tableau correspond to **__________**.  \n",
    "3. Basic variables in the optimal primal tableau correspond to **__________**.  \n",
    "4. The variables in the primal problem correspond to **__________**.  \n",
    "5. Shadow prices in the optimal dual tableau correspond to **________**.  \n",
    "\n",
    "**Completion Alternatives:**\n",
    "A. The primal non-basic variables  \n",
    "B. The dual non-basic variables  \n",
    "C. The primal constraints  \n",
    "D. Optimal basic variables in the dual problem  \n",
    "E. The optimal objective function value in the dual  \n",
    "F. The shadow prices in the dual  \n",
    "G. Basic variables in the optimal primal problem  \n",
    "H. The constraints in the dual problem  \n",
    "\n",
    "---\n",
    "\n",
    "### **Final Answers:**\n",
    "| Statement | Answer |\n",
    "|-----------|--------|\n",
    "| **1.** Optimal objective function value in primal → | **E** (Optimal objective function value in the dual) |\n",
    "| **2.** Shadow prices in the optimal primal tableau → | **F** (Shadow prices in the dual) |\n",
    "| **3.** Basic variables in the optimal primal tableau → | **G** (Basic variables in the optimal primal problem) |\n",
    "| **4.** Variables in the primal problem → | **H** (Constraints in the dual problem) |\n",
    "| **5.** Shadow prices in the optimal dual tableau → | **D** (Optimal basic variables in the dual problem) |\n"
   ]
  },
  {
   "cell_type": "markdown",
   "metadata": {
    "id": "k_HizRFA9ye6"
   },
   "source": [
    "## **Exercise 2.45: Changes In Objective Function Coefficient $c_2$**"
   ]
  },
  {
   "cell_type": "markdown",
   "metadata": {
    "id": "EznL48k19ye7"
   },
   "source": [
    "To determine the range within which changes in the objective function coefficient \\($c_2$\\) (associated with \\($x_2$\\)) can vary without affecting the optimal solution, we need to perform sensitivity analysis. Specifically, we are looking for the range of \\($c_2$\\) that maintains the same optimal solution.\n",
    "\n",
    "### Step 1: Solve the LP problem without changing the objective coefficient \\($c_2$\\)\n",
    "\n",
    "The original objective function is:\n",
    "\n",
    "$$\\text{max} (z = 4x_1 + 3x_2)$$\n",
    "\n",
    "Subject to:\n",
    "\n",
    "$$x_1 + x_2 \\leq 4$$\n",
    "\n",
    "$$2x_1 + x_2 \\leq 6$$\n",
    "\n",
    "$$x_1 + 3x_2 \\leq 9$$\n",
    "\n",
    "$$x_1, x_2 \\geq 0$$\n",
    "\n",
    "\n",
    "First, we solve this linear programming problem. The feasible region is bounded by the constraints, and we find the optimal solution by graphical method or using the simplex method.\n",
    "\n",
    "### Step 2: Graphical solution (or simplex)\n",
    "\n",
    "By solving the system, we find the following optimal solution for the original coefficients:\n",
    "\n",
    "\n",
    "$$x_1 = 2, \\quad x_2 = 2, \\quad \\text{and} \\quad z = 4(2) + 3(2) = 8 + 6 = 14$$\n",
    "\n",
    "\n",
    "### Step 3: Sensitivity analysis\n",
    "\n",
    "Now, we analyze how the coefficient \\($c_2$\\) (the coefficient of \\($x_2$\\) in the objective function) can change without altering the optimal solution.\n",
    "\n",
    "- **Identify the binding constraints at the optimal solution**: From the previous solution, we can check which constraints are binding at the optimal solution \\($x_1$ = 2\\) and \\($x_2$ = 2\\).\n",
    "  \n",
    "  - Constraint 1: \\($x_1$ + $x_2$ = 4\\) is binding at \\(($x_1$, $x_2$) = (2, 2)\\)\n",
    "  - Constraint 2: \\(2$x_1$ + $x_2$ = 6\\) is also binding at \\(($x_1$, $x_2$) = (2, 2)\\)\n",
    "  - Constraint 3: \\($x_1$ + 3$x_2$ = 9\\) is not binding, as \\($x_1$ + 3$x_2$ = 2 + 6 = 8\\), which is less than 9.\n",
    "\n",
    "- **Check the range for \\($c_2$\\)**: The key is to see how the objective coefficient \\($c_2$\\) affects the relative importance of the decision variables \\($x_1$\\) and \\($x_2$\\). The optimal solution will remain unchanged as long as \\($x_2$ = 2\\) continues to be part of the solution.\n",
    "\n",
    "Given that the first two constraints are binding, the range for \\($c_2$\\) can be computed by determining the values at which the solution would switch from one set of active constraints to another."
   ]
  },
  {
   "cell_type": "markdown",
   "metadata": {
    "id": "tsUZSDNA9ye7"
   },
   "source": [
    "### Code Implementation"
   ]
  },
  {
   "cell_type": "code",
   "execution_count": 21,
   "metadata": {
    "colab": {
     "base_uri": "https://localhost:8080/"
    },
    "id": "dTB3PSSY9ye7",
    "outputId": "c111f3d2-2d03-48ca-9907-721953e46528"
   },
   "outputs": [
    {
     "name": "stdout",
     "output_type": "stream",
     "text": [
      "Original Optimal Solution (c2 = 3):\n",
      "x1 = 1.9999999999999982, x2 = 2.000000000000002, Optimal Z = 14.0\n",
      "\n",
      "Range of c2 that does not change the optimal solution:\n",
      "c2 = 2.1, Optimal Z = 12.20\n",
      "c2 = 2.2, Optimal Z = 12.40\n",
      "c2 = 2.3, Optimal Z = 12.60\n",
      "c2 = 2.4, Optimal Z = 12.80\n",
      "c2 = 2.5, Optimal Z = 13.00\n",
      "c2 = 2.6, Optimal Z = 13.20\n",
      "c2 = 2.7, Optimal Z = 13.40\n",
      "c2 = 2.8, Optimal Z = 13.60\n",
      "c2 = 2.9, Optimal Z = 13.80\n",
      "c2 = 3.0, Optimal Z = 14.00\n",
      "c2 = 3.1, Optimal Z = 14.20\n",
      "c2 = 3.2, Optimal Z = 14.40\n",
      "c2 = 3.3, Optimal Z = 14.60\n",
      "c2 = 3.4, Optimal Z = 14.80\n",
      "c2 = 3.5, Optimal Z = 15.00\n",
      "c2 = 3.6, Optimal Z = 15.20\n",
      "c2 = 3.7, Optimal Z = 15.40\n",
      "c2 = 3.8, Optimal Z = 15.60\n",
      "c2 = 3.9, Optimal Z = 15.80\n"
     ]
    }
   ],
   "source": [
    "import numpy as np\n",
    "from scipy.optimize import linprog\n",
    "\n",
    "# Coefficients of the objective function\n",
    "c1 = 4  # Coefficient of x1\n",
    "c2 = 3  # Coefficient of x2, which we will vary\n",
    "\n",
    "# Define the coefficients of the constraints\n",
    "A = np.array([\n",
    "    [1, 1],   # x1 + x2 <= 4\n",
    "    [2, 1],   # 2x1 + x2 <= 6\n",
    "    [1, 3]    # x1 + 3x2 <= 9\n",
    "])\n",
    "\n",
    "b = np.array([4, 6, 9])  # Right-hand side of the constraints\n",
    "\n",
    "# Bounds for x1 and x2 (both must be >= 0)\n",
    "x0_bounds = (0, None)\n",
    "x1_bounds = (0, None)\n",
    "\n",
    "# Function to solve the LP problem with varying c2\n",
    "def solve_lp(c2_value):\n",
    "    c = np.array([c1, c2_value])  # Update the objective function with new c2 value\n",
    "\n",
    "    # Solve the LP problem\n",
    "    res = linprog(-c, A_ub=A, b_ub=b, bounds=[x0_bounds, x1_bounds], method='highs')\n",
    "\n",
    "    if res.success:\n",
    "        return res.x[0], res.x[1], -res.fun  # Return the optimal x1, x2, and objective function value (negate back)\n",
    "    else:\n",
    "        return None  # If the optimization failed\n",
    "\n",
    "# Solve for the original c2 = 3\n",
    "x1_opt, x2_opt, z_opt = solve_lp(c2)\n",
    "\n",
    "# Print the original optimal solution\n",
    "print(f\"Original Optimal Solution (c2 = {c2}):\")\n",
    "print(f\"x1 = {x1_opt}, x2 = {x2_opt}, Optimal Z = {z_opt}\\n\")\n",
    "\n",
    "# Now, vary c2 and check when the solution remains the same\n",
    "def check_c2_range(min_c2, max_c2, step=0.1):\n",
    "    results = []\n",
    "    for c2_value in np.arange(min_c2, max_c2, step):\n",
    "        solution = solve_lp(c2_value)\n",
    "        if solution and np.isclose(solution[0], x1_opt) and np.isclose(solution[1], x2_opt):\n",
    "            results.append((c2_value, solution[2]))\n",
    "    return results\n",
    "\n",
    "# Check the range for c2\n",
    "min_c2 = 2\n",
    "max_c2 = 5\n",
    "results = check_c2_range(min_c2, max_c2, step=0.1)\n",
    "\n",
    "# Display the results\n",
    "print(f\"Range of c2 that does not change the optimal solution:\")\n",
    "for res in results:\n",
    "    print(f\"c2 = {res[0]:.1f}, Optimal Z = {res[1]:.2f}\")\n"
   ]
  },
  {
   "cell_type": "markdown",
   "metadata": {
    "id": "gF89_qR99zka"
   },
   "source": [
    "## **Exercise 2.46: Khachiyan’s Algorithm**"
   ]
  },
  {
   "cell_type": "markdown",
   "metadata": {
    "id": "rQIQ5gEZ9zka"
   },
   "source": [
    "### **Significance of Khachiyan’s Algorithm for Linear Programming**\n",
    "\n",
    "Leonid Khachiyan introduced the **Ellipsoid Algorithm** in 1979, which was the **first polynomial-time algorithm for linear programming**.  \n",
    "\n",
    "#### **Theoretical Significance**:\n",
    "- **Proved that linear programming can be solved in polynomial time**  \n",
    "  - Before Khachiyan’s algorithm, the **Simplex Method** was widely used but had **exponential worst-case complexity**.\n",
    "  - Khachiyan’s **Ellipsoid Algorithm** demonstrated that **LP problems belong to the P complexity class** (solvable in polynomial time).\n",
    "  \n",
    "- **Based on Convex Optimization**  \n",
    "  - Uses **iterative refinement** of an enclosing ellipsoid that shrinks toward the optimal solution.\n",
    "  \n",
    "- **Breakthrough in Computational Complexity**  \n",
    "  - Established a link between **linear programming** and **convex optimization**.\n",
    "  - Laid the groundwork for **interior-point methods** (which later became more practical).\n",
    "\n",
    "#### **Limitations**:\n",
    "- Although polynomial in theory, it is **not efficient in practice** compared to the Simplex Method.\n",
    "- **High computational overhead** makes it slower for real-world problems."
   ]
  },
  {
   "cell_type": "markdown",
   "metadata": {
    "id": "BQqhNZBl91BJ"
   },
   "source": [
    "## **Exercise 2.47: Khachiyan’s Algorithm**"
   ]
  },
  {
   "cell_type": "markdown",
   "metadata": {
    "id": "dMSVMe3i91BJ"
   },
   "source": [
    "### **Significance of Interior-Point Methods (Karmarkar’s Algorithm)**\n",
    "In 1984, Narendra Karmarkar introduced an **Interior-Point Method (IPM)** for solving LP problems, which outperformed the Simplex Method in practice.\n",
    "\n",
    "#### **Practical Significance**:\n",
    "- **Faster than Simplex for large-scale problems**  \n",
    "  - Karmarkar’s algorithm runs in **polynomial time** and is **efficient in practice**.\n",
    "  - Works well on **high-dimensional** LP problems (e.g., **millions of variables**).\n",
    "\n",
    "- **Moves through the interior of the feasible region**  \n",
    "  - Unlike Simplex (which moves along edges), IPMs move **inside the feasible space**, reducing iteration steps.\n",
    "\n",
    "- **Foundation for modern LP solvers**  \n",
    "  - IPMs are widely used in **commercial solvers** like **CPLEX, Gurobi, and MOSEK**.\n",
    "  - Became the **preferred method** for large-scale industrial applications.\n",
    "\n",
    "#### **Comparison with Simplex**:\n",
    "| **Aspect**          | **Simplex Method**         | **Interior-Point Method**      |\n",
    "|---------------------|--------------------------|--------------------------------|\n",
    "| **Worst-case complexity** | Exponential (but fast in practice) | Polynomial (theoretically better) |\n",
    "| **Path to optimality** | Moves along edges of the feasible region | Moves through the interior |\n",
    "| **Performance on large LPs** | Slower for high-dimensional problems | Efficient for large-scale problems |\n",
    "| **Practical use** | Still widely used for small/medium LPs | Preferred for large-scale optimization |"
   ]
  },
  {
   "cell_type": "markdown",
   "metadata": {
    "id": "wLhFzEUuRiWx"
   },
   "source": [
    "# **Conclusion**"
   ]
  },
  {
   "cell_type": "markdown",
   "metadata": {
    "id": "1dP-f_unRo05"
   },
   "source": [
    "Through these exercises, we explored key concepts in linear programming and optimization, applying the Simplex method, sensitivity analysis, and dual formulations. The solutions provide insights into real-world decision-making scenarios, reinforcing the importance of mathematical modeling in operations research. By utilizing computational tools, we efficiently solved complex optimization problems, demonstrating the power and applicability of linear programming in various fields."
   ]
  }
 ],
 "metadata": {
  "colab": {
   "collapsed_sections": [
    "y130wo2anrNa",
    "3q9h5SzdsE4f",
    "qxociB5wkhGx",
    "DWR3GGnqqWJw",
    "r3Gju-sGpOTg",
    "RaCvlYrErWEO",
    "SjbtGTjxspE-",
    "YzPTtpEryDfN",
    "yxnQHgamyEyo",
    "BkuukKXxyFmv",
    "mOlgW19byGig",
    "79PzoaLDyHWN",
    "HDrh47DdgFuO",
    "aVklqkg0gMSt",
    "hRDaX9OngMY-",
    "5lLodDTTgMft",
    "3hRyxBDdgMnd",
    "RwfbmKVrgMt-",
    "gAZuypXbgMz-",
    "abyoKPLMlSIc",
    "3D4QdUSYoa-X",
    "S40koyFEpaSr",
    "87Dc3VBRrbti",
    "SOnJ8EMTrc_b",
    "Qe5tAR8KraSD",
    "eNfPFnrFreoy",
    "PMdjYtGw1jBA",
    "JHfV7Gqm1kTR",
    "vR1uWPTD9r3J",
    "66fExIWu9s6I",
    "9aPRN4LC9t-Z",
    "_k-wtmQ-9wT6",
    "k_HizRFA9ye6",
    "gF89_qR99zka",
    "BQqhNZBl91BJ",
    "wLhFzEUuRiWx"
   ],
   "provenance": []
  },
  "kernelspec": {
   "display_name": "Python 3",
   "name": "python3"
  },
  "language_info": {
   "codemirror_mode": {
    "name": "ipython",
    "version": 3
   },
   "file_extension": ".py",
   "mimetype": "text/x-python",
   "name": "python",
   "nbconvert_exporter": "python",
   "pygments_lexer": "ipython3",
   "version": "3.12.1"
  }
 },
 "nbformat": 4,
 "nbformat_minor": 0
}