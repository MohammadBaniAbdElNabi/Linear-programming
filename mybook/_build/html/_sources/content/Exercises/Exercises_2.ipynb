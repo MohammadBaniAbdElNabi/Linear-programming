{
  "cells": [
    {
      "cell_type": "markdown",
      "metadata": {
        "id": "y130wo2anrNa"
      },
      "source": [
        "# Exercises (2.16 - 2.47)"
      ]
    },
    {
      "cell_type": "markdown",
      "metadata": {
        "id": "DWR3GGnqqWJw"
      },
      "source": [
        "[![Open In Colab](https://colab.research.google.com/assets/colab-badge.svg)](https://colab.research.google.com/drive/1BJO1Zz-lLUnRx2RZiec9tAB9VrjB6cdU?usp=sharing)"
      ]
    },
    {
      "cell_type": "markdown",
      "metadata": {
        "id": "eVdDw_QrnoMp"
      },
      "source": [
        "**2.16**\n",
        "<ul />\n",
        "\n",
        "Use the Simplex algorithm to solve the linear programming formulation from Exercise 2.1. What is the percentage utilization of the disk and printer resources at optimality? Comment on how the university community is likely to react to the optimal solution to this problem.\n",
        "\n",
        "</ul>"
      ]
    },
    {
      "cell_type": "markdown",
      "metadata": {},
      "source": [
        "**Code Implementation**"
      ]
    },
    {
      "cell_type": "code",
      "execution_count": null,
      "metadata": {
        "colab": {
          "base_uri": "https://localhost:8080/"
        },
        "id": "pTz9cwyjn6ow",
        "outputId": "2d165596-5ad4-4d97-9a37-4cdb4901b985"
      },
      "outputs": [
        {
          "name": "stdout",
          "output_type": "stream",
          "text": [
            "Optimal number of student jobs: 8.0\n",
            "Optimal number of faculty jobs: 0.0\n",
            "Percentage utilization of disk resources: 100.0%\n",
            "Percentage utilization of printer resources: 40.0%\n"
          ]
        }
      ],
      "source": [
        "from scipy.optimize import linprog\n",
        "\n",
        "# Coefficients of the objective function (maximize income)\n",
        "c = [-3, -1]  # Negative because linprog does minimization\n",
        "\n",
        "# Coefficients of the inequality constraints\n",
        "A = [\n",
        "    [6, 8],  # Disk space constraint\n",
        "    [3, 2]   # Printer time constraint\n",
        "]\n",
        "\n",
        "# Right-hand side of the inequality constraints\n",
        "b = [48, 60]\n",
        "\n",
        "# Bounds for the decision variables (number of student and faculty jobs)\n",
        "x0_bounds = (0, None)\n",
        "x1_bounds = (0, None)\n",
        "\n",
        "# Solve the linear programming problem using the Highs solver\n",
        "res = linprog(c, A_ub=A, b_ub=b, bounds=[x0_bounds, x1_bounds], method='highs')\n",
        "\n",
        "# Optimal number of student and faculty jobs\n",
        "num_student_jobs = res.x[0]\n",
        "num_faculty_jobs = res.x[1]\n",
        "\n",
        "# Calculate the percentage utilization of disk and printer resources\n",
        "disk_utilization = (6 * num_student_jobs + 8 * num_faculty_jobs) / 48 * 100\n",
        "printer_utilization = (3 * num_student_jobs + 2 * num_faculty_jobs) / 60 * 100\n",
        "\n",
        "# Print the results\n",
        "print(f\"Optimal number of student jobs: {num_student_jobs}\")\n",
        "print(f\"Optimal number of faculty jobs: {num_faculty_jobs}\")\n",
        "print(f\"Percentage utilization of disk resources: {disk_utilization}%\")\n",
        "print(f\"Percentage utilization of printer resources: {printer_utilization}%\")"
      ]
    },
    {
      "cell_type": "markdown",
      "metadata": {
        "id": "StqoFX6rpOTg"
      },
      "source": [
        "**2.17**\n",
        "<ul />\n",
        "\n",
        "Solve the following problem using the Simplex method:\n",
        "\n",
        "$$\n",
        "\\begin{align*}\n",
        "\\text{maximize} \\quad & z = x_1 + 2x_2 \\\\\n",
        "\\text{subject to} \\quad & x_1 + x_2 \\geq 6 \\\\  \n",
        "& x_2 \\leq 6 \\\\\n",
        "& x_1 \\leq 8 \\\\\n",
        "&  x_1, x_2 \\geq 0\n",
        "\\end{align*}\n",
        "$$\n",
        "\n",
        "</ul>"
      ]
    },
    {
      "cell_type": "markdown",
      "metadata": {
        "id": "Ak1t0U8PpOTh"
      },
      "source": [
        "**Code Implementation**"
      ]
    },
    {
      "cell_type": "code",
      "execution_count": null,
      "metadata": {
        "colab": {
          "base_uri": "https://localhost:8080/"
        },
        "id": "FfWBq2VDpOTh",
        "outputId": "61fb86d7-f9fb-46aa-8b93-54e778641b59"
      },
      "outputs": [
        {
          "name": "stdout",
          "output_type": "stream",
          "text": [
            "Optimal value of X1: 8.0\n",
            "Optimal value of X2: 6.0\n",
            "Optimal value of Z: 20.0\n"
          ]
        }
      ],
      "source": [
        "from scipy.optimize import linprog\n",
        "\n",
        "# Coefficients of the objective function (maximize Z = X1 + 2X2)\n",
        "c = [-1, -2]  # Negative because linprog does minimization\n",
        "\n",
        "# Coefficients of the inequality constraints\n",
        "A = [\n",
        "    [-1, -1],  # x1 + x2 >= 6 -> -x1 - x2 <= -6\n",
        "    [0, 1],    # x2 <= 6\n",
        "    [1, 0]     # x1 <= 8\n",
        "]\n",
        "\n",
        "# Right-hand side of the inequality constraints\n",
        "b = [-6, 6, 8]\n",
        "\n",
        "# Bounds for the decision variables (X1 and X2)\n",
        "x0_bounds = (0, None)\n",
        "x1_bounds = (0, None)\n",
        "\n",
        "# Solve the linear programming problem using the Highs solver\n",
        "res = linprog(c, A_ub=A, b_ub=b, bounds=[x0_bounds, x1_bounds], method='highs')\n",
        "\n",
        "# Optimal values of X1 and X2\n",
        "X1 = res.x[0]\n",
        "X2 = res.x[1]\n",
        "\n",
        "# Optimal value of Z\n",
        "Z = X1 + 2 * X2\n",
        "\n",
        "# Print the results\n",
        "print(f\"Optimal value of X1: {X1}\")\n",
        "print(f\"Optimal value of X2: {X2}\")\n",
        "print(f\"Optimal value of Z: {Z}\")"
      ]
    },
    {
      "cell_type": "markdown",
      "metadata": {
        "id": "PebgSCnKrWEP"
      },
      "source": [
        "**2.18**\n",
        "<ul />\n",
        "\n",
        "Solve the following problem using the Simplex method:\n",
        "\n",
        "$$\n",
        "\\begin{align*}\n",
        "\\text{maximize} \\quad & z = 4x_1 + 1x_2 \\\\\n",
        "\\text{subject to} \\quad & 3x_1 + x_2 = 3 \\\\  \n",
        "& 4x_1 + 3x_2 \\geq 6 \\\\\n",
        "& x_1 + 2x_2 \\leq 3 \\\\\n",
        "&  x_1, x_2 \\geq 0\n",
        "\\end{align*}\n",
        "$$\n",
        "\n",
        "</ul>\n"
      ]
    },
    {
      "cell_type": "markdown",
      "metadata": {
        "id": "emI8NjjyrWEP"
      },
      "source": [
        "**Code Implementation**"
      ]
    },
    {
      "cell_type": "code",
      "execution_count": null,
      "metadata": {
        "colab": {
          "base_uri": "https://localhost:8080/"
        },
        "id": "rcEACuCOrWEQ",
        "outputId": "80adf922-bbd1-4d7f-f7aa-bb64d6f957af"
      },
      "outputs": [
        {
          "name": "stdout",
          "output_type": "stream",
          "text": [
            "Optimal value of X1: 0.6\n",
            "Optimal value of X2: 1.2\n",
            "Optimal value of Z: 3.5999999999999996\n"
          ]
        }
      ],
      "source": [
        "from scipy.optimize import linprog\n",
        "\n",
        "# Coefficients of the objective function (maximize z = 4x1 + x2)\n",
        "c = [-4, -1]  # Negative because linprog does minimization\n",
        "\n",
        "# Coefficients of the inequality constraints\n",
        "A = [\n",
        "    [-4, -3],  # 4x1 + 3x2 >= 6 -> -4x1 - 3x2 <= -6\n",
        "    [1, 2]     # x1 + 2x2 <= 3\n",
        "]\n",
        "\n",
        "# Right-hand side of the inequality constraints\n",
        "b = [-6, 3]\n",
        "\n",
        "# Coefficients of the equality constraint\n",
        "A_eq = [\n",
        "    [3, 1]     # 3x1 + x2 = 3\n",
        "]\n",
        "\n",
        "# Right-hand side of the equality constraint\n",
        "b_eq = [3]\n",
        "\n",
        "# Bounds for the decision variables (X1 and X2)\n",
        "x0_bounds = (0, None)\n",
        "x1_bounds = (0, None)\n",
        "\n",
        "# Solve the linear programming problem using the Highs solver\n",
        "res = linprog(c, A_ub=A, b_ub=b, A_eq=A_eq, b_eq=b_eq, bounds=[x0_bounds, x1_bounds], method='highs')\n",
        "\n",
        "# Optimal values of X1 and X2\n",
        "X1 = res.x[0]\n",
        "X2 = res.x[1]\n",
        "\n",
        "# Optimal value of Z\n",
        "Z = 4 * X1 + X2\n",
        "\n",
        "# Print the results\n",
        "print(f\"Optimal value of X1: {X1}\")\n",
        "print(f\"Optimal value of X2: {X2}\")\n",
        "print(f\"Optimal value of Z: {Z}\")"
      ]
    },
    {
      "cell_type": "markdown",
      "metadata": {
        "id": "u8j9SQy2spE-"
      },
      "source": [
        "**2.19**\n",
        "<ul />\n",
        "\n",
        "Apply the Simplex algorithm to each of the following problems. Observe the behavior of the Simplex method and indicate which problems display degeneracy, multiple optima, infeasibility, or an unbounded solution.\n",
        "\n",
        "<ul />\n",
        "\n",
        "**a.**\n",
        "\n",
        "$$\n",
        "\\begin{align*}\n",
        "\\text{maximize} \\quad & 3x_1 + x_2 \\\\\n",
        "\\text{subject to} \\quad & x_1 \\leq 8 \\\\  \n",
        "& 2x_1 - 3x_2 \\leq 5 \\\\\n",
        "&  x_1, x_2 \\geq 0\n",
        "\\end{align*}\n",
        "$$\n",
        "\n",
        "**b.**\n",
        "\n",
        "$$\n",
        "\\begin{align*}\n",
        "\\text{maximize} \\quad & 3x_1 + 4x_2 \\\\\n",
        "\\text{subject to} \\quad & x_1 + x_2 \\geq 5 \\\\  \n",
        "& 2x_1 + 1x_2 \\leq 4 \\\\\n",
        "& 2x_1 + 1x_2 \\leq 4 \\\\\n",
        "&  x_1, x_2 \\geq 0\n",
        "\\end{align*}\n",
        "$$\n",
        "\n",
        "**c.**\n",
        "\n",
        "$$\n",
        "\\begin{align*}\n",
        "\\text{maximize} \\quad & x_1 + 2x_2 \\\\\n",
        "\\text{subject to} \\quad & x_1 + 2x_2 \\leq 10 \\\\  \n",
        "&  x_1, x_2 \\geq 0\n",
        "\\end{align*}\n",
        "$$\n",
        "\n",
        "**d.**\n",
        "\n",
        "$$\n",
        "\\begin{align*}\n",
        "\\text{maximize} \\quad & 3x_1 + 9x_2 \\\\\n",
        "\\text{subject to} \\quad & x_1 + 4x_2 \\leq 8 \\\\  \n",
        "& x_1 + 2x_2 \\leq 8 \\\\\n",
        "&  x_1, x_2 \\geq 0\n",
        "\\end{align*}\n",
        "$$\n",
        "\n",
        "</ul>\n",
        "</ul>\n"
      ]
    },
    {
      "cell_type": "markdown",
      "metadata": {
        "id": "NypCdguTspE-"
      },
      "source": [
        "**Code Implementation**"
      ]
    },
    {
      "cell_type": "code",
      "execution_count": null,
      "metadata": {
        "colab": {
          "base_uri": "https://localhost:8080/"
        },
        "id": "Df6mGoncspE-",
        "outputId": "32480f05-a57a-488a-ca9c-651b0c8452a4"
      },
      "outputs": [
        {
          "name": "stdout",
          "output_type": "stream",
          "text": [
            "Problem (a): No feasible solution\n",
            "Problem (b): No feasible solution\n",
            "Problem (c): Optimal value of X1: 10.0, Optimal value of X2: 0.0, Optimal value of Z: 10.0\n",
            "Problem (d): Optimal value of X1: 8.0, Optimal value of X2: 0.0, Optimal value of Z: 24.0\n"
          ]
        }
      ],
      "source": [
        "from scipy.optimize import linprog\n",
        "\n",
        "# Define a function to solve the linear programming problem\n",
        "def solve_lp(c, A, b, A_eq=None, b_eq=None):\n",
        "    # Bounds for the decision variables (X1 and X2)\n",
        "    x0_bounds = (0, None)\n",
        "    x1_bounds = (0, None)\n",
        "\n",
        "    # Solve the linear programming problem using the Highs solver\n",
        "    res = linprog(c, A_ub=A, b_ub=b, A_eq=A_eq, b_eq=b_eq, bounds=[x0_bounds, x1_bounds], method='highs')\n",
        "\n",
        "    # Check if the solution is valid\n",
        "    if res.success:\n",
        "        # Optimal values of X1 and X2\n",
        "        X1 = res.x[0]\n",
        "        X2 = res.x[1]\n",
        "\n",
        "        # Optimal value of Z\n",
        "        Z = -res.fun  # Negate because we minimized the negative of the objective function\n",
        "\n",
        "        return X1, X2, Z\n",
        "    else:\n",
        "        return None, None, None\n",
        "\n",
        "# Problem (a)\n",
        "c_a = [-3, -1]\n",
        "A_a = [[1, 0], [2, -3]]\n",
        "b_a = [8, 5]\n",
        "X1_a, X2_a, Z_a = solve_lp(c_a, A_a, b_a)\n",
        "\n",
        "# Problem (b)\n",
        "c_b = [-3, -4]\n",
        "A_b = [[-1, -1], [2, 1]]\n",
        "b_b = [-5, 4]\n",
        "X1_b, X2_b, Z_b = solve_lp(c_b, A_b, b_b)\n",
        "\n",
        "# Problem (c)\n",
        "c_c = [-1, -2]\n",
        "A_c = [[1, 2]]\n",
        "b_c = [10]\n",
        "X1_c, X2_c, Z_c = solve_lp(c_c, A_c, b_c)\n",
        "\n",
        "# Problem (d)\n",
        "c_d = [-3, -9]\n",
        "A_d = [[1, 4], [1, 2]]\n",
        "b_d = [8, 8]\n",
        "X1_d, X2_d, Z_d = solve_lp(c_d, A_d, b_d)\n",
        "\n",
        "# Print the results for all problems\n",
        "if X1_a is None:\n",
        "    print(\"Problem (a): No feasible solution\")\n",
        "else:\n",
        "    print(f\"Problem (a): Optimal value of X1: {X1_a}, Optimal value of X2: {X2_a}, Optimal value of Z: {Z_a}\")\n",
        "\n",
        "if X1_b is None:\n",
        "    print(\"Problem (b): No feasible solution\")\n",
        "else:\n",
        "    print(f\"Problem (b): Optimal value of X1: {X1_b}, Optimal value of X2: {X2_b}, Optimal value of Z: {Z_b}\")\n",
        "\n",
        "if X1_c is None:\n",
        "    print(\"Problem (c): No feasible solution\")\n",
        "else:\n",
        "    print(f\"Problem (c): Optimal value of X1: {X1_c}, Optimal value of X2: {X2_c}, Optimal value of Z: {Z_c}\")\n",
        "\n",
        "if X1_d is None:\n",
        "    print(\"Problem (d): No feasible solution\")\n",
        "else:\n",
        "    print(f\"Problem (d): Optimal value of X1: {X1_d}, Optimal value of X2: {X2_d}, Optimal value of Z: {Z_d}\")"
      ]
    },
    {
      "cell_type": "markdown",
      "metadata": {
        "id": "iBsbuC3MyDfN"
      },
      "source": [
        "**2.20**\n",
        "\n",
        "<ul />\n",
        "\n",
        "Create a linear programming problem formulation that has unbounded solutions but in which no evidence of unboundedness appears in the initial Simplex tableau.\n",
        "\n",
        "</ul>\n"
      ]
    },
    {
      "cell_type": "markdown",
      "metadata": {
        "id": "YnGtQmpQyDfN"
      },
      "source": [
        "**Code Implementation**"
      ]
    },
    {
      "cell_type": "code",
      "execution_count": null,
      "metadata": {
        "colab": {
          "base_uri": "https://localhost:8080/"
        },
        "id": "WjrgGW-OyDfN",
        "outputId": "a2200778-321d-49a3-b489-8a95023a1785"
      },
      "outputs": [
        {
          "name": "stdout",
          "output_type": "stream",
          "text": [
            "Maximize z = x1\n",
            "Subject to:\n",
            "  -x1 + x2 <= 1\n",
            "   x1 - 2x2 <= 2\n",
            "   x1, x2 >= 0\n",
            "Message: The problem is unbounded. (HiGHS Status 10: model_status is Unbounded; primal_status is Feasible)\n",
            "Values of x1, x2 at termination: None\n"
          ]
        }
      ],
      "source": [
        "import numpy as np\n",
        "from scipy.optimize import linprog\n",
        "\n",
        "print(\"Maximize z = x1\")\n",
        "print(\"Subject to:\")\n",
        "print(\"  -x1 + x2 <= 1\")\n",
        "print(\"   x1 - 2x2 <= 2\")\n",
        "print(\"   x1, x2 >= 0\")\n",
        "\n",
        "# Objective coefficients(for variables x1, x2)\n",
        "c_linprog = np.array([-1, 0]) \n",
        "\n",
        "# Inequality constraints (Ax <= b)\n",
        "# -x1 + x2 <= 1\n",
        "#  x1 - 2x2 <= 2\n",
        "A_ub = np.array([\n",
        "    [-1, 1],\n",
        "    [1, -2]\n",
        "])\n",
        "b_ub = np.array([1, 2])\n",
        "\n",
        "# Bounds for x1, x2 (x_i >= 0 is default, but explicit is clear)\n",
        "x0_bounds = (0, None) # x1 >= 0\n",
        "x1_bounds = (0, None) # x2 >= 0\n",
        "\n",
        "\n",
        "# Solve the LP\n",
        "# Using 'highs' method as it's robust and handles unboundedness well.\n",
        "# Older scipy versions might default to 'interior-point' or 'simplex' which also detect unboundedness.\n",
        "result = linprog(c_linprog, A_ub=A_ub, b_ub=b_ub, bounds=[x0_bounds, x1_bounds], method='highs')\n",
        "\n",
        "print(f\"Message: {result.message}\") # Solver message, crucial for unboundedness\n",
        "print(f\"Values of x1, x2 at termination: {result.x}\") # Values of decision variables"
      ]
    },
    {
      "cell_type": "markdown",
      "metadata": {
        "id": "1SKLC5bpyEyo"
      },
      "source": [
        "**2.21**\n",
        "\n",
        "<ul />\n",
        "\n",
        " Perform as many Simplex iterations as possible on the example problem in Section 2.7.2. Observe that the algorithm terminates when there are no ratios $θ_i$ from which to choose a variable to leave the basis.\n",
        "\n",
        "</ul>"
      ]
    },
    {
      "cell_type": "markdown",
      "metadata": {
        "id": "R_sGqtJayEyo"
      },
      "source": [
        "**Code Implementation**"
      ]
    },
    {
      "cell_type": "code",
      "execution_count": null,
      "metadata": {
        "colab": {
          "base_uri": "https://localhost:8080/"
        },
        "id": "keyT7gWHyEyo",
        "outputId": "32480f05-a57a-488a-ca9c-651b0c8452a4"
      },
      "outputs": [
        {
          "name": "stdout",
          "output_type": "stream",
          "text": [
            "\n",
            "--- Iteration 0 ---\n",
            "Basis |     z |      x1 |      x2 |      s1 |      s2 |     RHS\n",
            "-------------------------------------------------------------\n",
            "z     |  1.00 |   -5.00 |   -6.00 |    0.00 |    0.00 |    0.00\n",
            "s1    |  0.00 |   -1.00 |    1.00 |    1.00 |    0.00 |    2.00\n",
            "s2    |  0.00 |    0.00 |    1.00 |    0.00 |    1.00 |   10.00\n",
            "-------------------------------------------------------------\n",
            "Entering variable: x2 (tableau column 2)\n",
            "Ratios for leaving variable:\n",
            "  Row s1: RHS=2.00, Coeff=1.00, Ratio=2.00\n",
            "  Row s2: RHS=10.00, Coeff=1.00, Ratio=10.00\n",
            "Min ratio is 2.00, s1 leaves.\n",
            "Pivoting on element at (tableau row 1, tableau col 2) = 1.00\n",
            "Variable x2 entered basis, s1 left.\n",
            "\n",
            "--- Iteration 1 ---\n",
            "Basis |     z |      x1 |      x2 |      s1 |      s2 |     RHS\n",
            "-------------------------------------------------------------\n",
            "z     |  1.00 |  -11.00 |    0.00 |    6.00 |    0.00 |   12.00\n",
            "x2    |  0.00 |   -1.00 |    1.00 |    1.00 |    0.00 |    2.00\n",
            "s2    |  0.00 |    1.00 |    0.00 |   -1.00 |    1.00 |    8.00\n",
            "-------------------------------------------------------------\n",
            "Entering variable: x1 (tableau column 1)\n",
            "Ratios for leaving variable:\n",
            "  Row x2: RHS=2.00, Coeff=-1.00, Ratio=N/A (coeff <= 0)\n",
            "  Row s2: RHS=8.00, Coeff=1.00, Ratio=8.00\n",
            "Min ratio is 8.00, s2 leaves.\n",
            "Pivoting on element at (tableau row 2, tableau col 1) = 1.00\n",
            "Variable x1 entered basis, s2 left.\n",
            "\n",
            "--- Iteration 2 ---\n",
            "Basis |     z |      x1 |      x2 |      s1 |      s2 |     RHS\n",
            "-------------------------------------------------------------\n",
            "z     |  1.00 |    0.00 |    0.00 |   -5.00 |   11.00 |  100.00\n",
            "x2    |  0.00 |    0.00 |    1.00 |    0.00 |    1.00 |   10.00\n",
            "x1    |  0.00 |    1.00 |    0.00 |   -1.00 |    1.00 |    8.00\n",
            "-------------------------------------------------------------\n",
            "Entering variable: s1 (tableau column 3)\n",
            "Ratios for leaving variable:\n",
            "  Row x2: RHS=10.00, Coeff=0.00, Ratio=N/A (coeff <= 0)\n",
            "  Row x1: RHS=8.00, Coeff=-1.00, Ratio=N/A (coeff <= 0)\n",
            "All coefficients in entering column are non-positive. Problem is unbounded.\n",
            "\n",
            "Problem is UNBOUNDED.\n",
            "\n",
            "--- Iteration 2 ---\n",
            "Basis |     z |      x1 |      x2 |      s1 |      s2 |     RHS\n",
            "-------------------------------------------------------------\n",
            "z     |  1.00 |    0.00 |    0.00 |   -5.00 |   11.00 |  100.00\n",
            "x2    |  0.00 |    0.00 |    1.00 |    0.00 |    1.00 |   10.00\n",
            "x1    |  0.00 |    1.00 |    0.00 |   -1.00 |    1.00 |    8.00\n",
            "-------------------------------------------------------------\n",
            "\n",
            "Final Status: Unbounded\n"
          ]
        }
      ],
      "source": [
        "import numpy as np\n",
        "\n",
        "class SimplexSolver:\n",
        "    def __init__(self, c, A_ub, b_ub):\n",
        "        # Convert inputs to NumPy arrays\n",
        "        A_ub_np = np.array(A_ub, dtype=float)\n",
        "        b_ub_np = np.array(b_ub, dtype=float)\n",
        "        c_np = np.array(c, dtype=float)\n",
        "\n",
        "        self.num_decision_vars = A_ub_np.shape[1]\n",
        "        self.num_slack_vars = A_ub_np.shape[0]\n",
        "        self.num_total_vars = self.num_decision_vars + self.num_slack_vars\n",
        "\n",
        "        # Create tableau\n",
        "        self.tableau = np.zeros((1 + self.num_slack_vars, 1 + self.num_total_vars + 1))\n",
        "\n",
        "        # Objective function row (z - c*x = 0  => z - c1*x1 - c2*x2 ... = 0)\n",
        "        self.tableau[0, 0] = 1 # z coefficient\n",
        "        self.tableau[0, 1:self.num_decision_vars+1] = -c_np # -c_j for decision variables\n",
        "\n",
        "        # Constraint rows\n",
        "        self.tableau[1:, 1:self.num_decision_vars+1] = A_ub_np\n",
        "        self.tableau[1:, self.num_decision_vars+1:self.num_total_vars+1] = np.eye(self.num_slack_vars)\n",
        "        self.tableau[1:, -1] = b_ub_np # RHS\n",
        "\n",
        "        self.var_names = [f'x{i+1}' for i in range(self.num_decision_vars)] + \\\n",
        "                         [f's{i+1}' for i in range(self.num_slack_vars)]\n",
        "        \n",
        "        self.basis_indices = list(range(self.num_decision_vars, self.num_total_vars))\n",
        "        self.basis_var_names = [self.var_names[i] for i in self.basis_indices]\n",
        "\n",
        "    def print_tableau(self, iteration):\n",
        "        print(f\"\\n--- Iteration {iteration} ---\")\n",
        "        header = ['Basis', 'z'] + self.var_names + ['RHS']\n",
        "        \n",
        "        basis_col_width = max(len(name) for name in ['Basis'] + self.basis_var_names)\n",
        "        \n",
        "        print(f\"{'Basis':<{basis_col_width}} | {'z':>5} | \", end=\"\")\n",
        "        for name in self.var_names:\n",
        "            print(f\"{name:>7} | \", end=\"\")\n",
        "        print(f\"{'RHS':>7}\")\n",
        "        print(\"-\" * (basis_col_width + 9 + len(self.var_names) * 10 + 7))\n",
        "\n",
        "        print(f\"{'z':<{basis_col_width}} | {self.tableau[0,0]:>5.2f} | \", end=\"\")\n",
        "        for val in self.tableau[0, 1:-1]:\n",
        "            print(f\"{val:>7.2f} | \", end=\"\")\n",
        "        print(f\"{self.tableau[0, -1]:>7.2f}\")\n",
        "\n",
        "        for i in range(self.num_slack_vars):\n",
        "            basis_var_name = self.basis_var_names[i]\n",
        "            print(f\"{basis_var_name:<{basis_col_width}} | {self.tableau[i+1,0]:>5.2f} | \", end=\"\")\n",
        "            for val in self.tableau[i+1, 1:-1]:\n",
        "                print(f\"{val:>7.2f} | \", end=\"\")\n",
        "            print(f\"{self.tableau[i+1, -1]:>7.2f}\")\n",
        "        print(\"-\" * (basis_col_width + 9 + len(self.var_names) * 10 + 7))\n",
        "\n",
        "\n",
        "    def select_entering_variable_col_idx(self):\n",
        "        z_row = self.tableau[0, 1:-1] \n",
        "        most_negative_val = np.min(z_row)\n",
        "        if most_negative_val >= -1e-9: # Allow for small positive due to precision\n",
        "            return -1 \n",
        "        entering_col_tableau_idx = np.argmin(z_row) + 1 \n",
        "        return entering_col_tableau_idx\n",
        "\n",
        "    def select_leaving_variable_row_idx(self, entering_col_idx):\n",
        "        min_ratio = float('inf')\n",
        "        leaving_row_tableau_idx = -1 \n",
        "\n",
        "        constraint_coeffs_entering_var = self.tableau[1:, entering_col_idx]\n",
        "        rhs_values = self.tableau[1:, -1]\n",
        "\n",
        "        print(\"Ratios for leaving variable:\")\n",
        "        all_coeffs_non_positive = True\n",
        "        found_positive_coeff = False\n",
        "        for i in range(self.num_slack_vars):\n",
        "            coeff = constraint_coeffs_entering_var[i]\n",
        "            rhs = rhs_values[i]\n",
        "            var_name_in_basis = self.basis_var_names[i]\n",
        "            if coeff > 1e-9: \n",
        "                all_coeffs_non_positive = False\n",
        "                found_positive_coeff = True\n",
        "                # Ensure RHS is non-negative for standard ratio test, though it should be.\n",
        "                # If RHS is 0 and coeff is positive, ratio is 0.\n",
        "                if rhs < -1e-9 : # If RHS is significantly negative, this row is not a candidate.\n",
        "                    print(f\"  Row {var_name_in_basis}: RHS={rhs:.2f}, Coeff={coeff:.2f}, Ratio=N/A (RHS < 0)\")\n",
        "                    continue\n",
        "                ratio = rhs / coeff\n",
        "                print(f\"  Row {var_name_in_basis}: RHS={rhs:.2f}, Coeff={coeff:.2f}, Ratio={ratio:.2f}\")\n",
        "                if ratio < min_ratio:\n",
        "                    min_ratio = ratio\n",
        "                    leaving_row_tableau_idx = i + 1 \n",
        "            else:\n",
        "                print(f\"  Row {var_name_in_basis}: RHS={rhs:.2f}, Coeff={coeff:.2f}, Ratio=N/A (coeff <= 0)\")\n",
        "        \n",
        "        if all_coeffs_non_positive and found_positive_coeff == False : # Corrected logic: if no positive coeffs found at all\n",
        "            print(\"All coefficients in entering column are non-positive. Problem is unbounded.\")\n",
        "            return -2 \n",
        "            \n",
        "        if leaving_row_tableau_idx == -1 and found_positive_coeff:\n",
        "            print(\"No suitable leaving variable found (e.g., all valid ratios might be for negative RHS or issues with Bland's rule for degeneracy not implemented).\")\n",
        "            return -3 \n",
        "        elif leaving_row_tableau_idx == -1 and not found_positive_coeff: # Should be caught by all_coeffs_non_positive\n",
        "             print(\"All coefficients in entering column are non-positive. Problem is unbounded. (Fallback check)\")\n",
        "             return -2\n",
        "\n",
        "        if leaving_row_tableau_idx != -1:\n",
        "             print(f\"Min ratio is {min_ratio:.2f}, {self.basis_var_names[leaving_row_tableau_idx-1]} leaves.\")\n",
        "        return leaving_row_tableau_idx\n",
        "\n",
        "\n",
        "    def pivot(self, pivot_row_idx, pivot_col_idx):\n",
        "        pivot_element = self.tableau[pivot_row_idx, pivot_col_idx]\n",
        "        if abs(pivot_element) < 1e-9: \n",
        "            print(f\"Error: Pivot element is too close to zero ({pivot_element}). Halting.\")\n",
        "            return False\n",
        "\n",
        "        print(f\"Pivoting on element at (tableau row {pivot_row_idx}, tableau col {pivot_col_idx}) = {pivot_element:.2f}\")\n",
        "        \n",
        "        self.tableau[pivot_row_idx, :] /= pivot_element\n",
        "\n",
        "        for i in range(self.tableau.shape[0]):\n",
        "            if i != pivot_row_idx:\n",
        "                factor = self.tableau[i, pivot_col_idx]\n",
        "                self.tableau[i, :] -= factor * self.tableau[pivot_row_idx, :]\n",
        "        \n",
        "        leaving_var_name = self.basis_var_names[pivot_row_idx-1]\n",
        "        entering_var_name = self.var_names[pivot_col_idx-1]\n",
        "        self.basis_var_names[pivot_row_idx-1] = entering_var_name\n",
        "        self.basis_indices[pivot_row_idx-1] = pivot_col_idx-1\n",
        "        print(f\"Variable {entering_var_name} entered basis, {leaving_var_name} left.\")\n",
        "        return True\n",
        "\n",
        "    def solve(self, max_iterations=10):\n",
        "        iteration = 0\n",
        "        self.print_tableau(iteration)\n",
        "\n",
        "        while iteration < max_iterations:\n",
        "            iteration += 1\n",
        "            \n",
        "            entering_col_idx = self.select_entering_variable_col_idx()\n",
        "            \n",
        "            if entering_col_idx == -1:\n",
        "                print(\"\\nOptimal solution found.\")\n",
        "                self.print_tableau(iteration -1) \n",
        "                solution = {name: 0.0 for name in self.var_names}\n",
        "                obj_value = self.tableau[0, -1]\n",
        "                for i, basis_var_name in enumerate(self.basis_var_names):\n",
        "                    # Correctly round values for final solution display\n",
        "                    val_to_store = self.tableau[i+1, -1]\n",
        "                    if abs(val_to_store) < 1e-9 : val_to_store = 0.0 # Snap near-zero to zero\n",
        "                    solution[basis_var_name] = round(val_to_store, 5)\n",
        "\n",
        "                print(f\"Optimal z = {round(obj_value,5):.5f}\")\n",
        "                # Print only variables with non-zero values for clarity\n",
        "                final_solution_str = \", \".join([f\"{k}={v}\" for k,v in solution.items() if abs(v)>1e-9 or k in self.basis_var_names])\n",
        "                print(f\"Solution values: {final_solution_str}\")\n",
        "                return \"Optimal\"\n",
        "\n",
        "            entering_var_name = self.var_names[entering_col_idx-1]\n",
        "            print(f\"Entering variable: {entering_var_name} (tableau column {entering_col_idx})\")\n",
        "\n",
        "            leaving_row_idx = self.select_leaving_variable_row_idx(entering_col_idx)\n",
        "\n",
        "            if leaving_row_idx == -2: \n",
        "                print(\"\\nProblem is UNBOUNDED.\")\n",
        "                self.print_tableau(iteration -1) \n",
        "                return \"Unbounded\"\n",
        "            if leaving_row_idx < 1 : \n",
        "                print(\"\\nCannot proceed: Error in selecting leaving variable or other issue.\")\n",
        "                self.print_tableau(iteration-1)\n",
        "                return \"Error\"\n",
        "            \n",
        "            if not self.pivot(leaving_row_idx, entering_col_idx):\n",
        "                return \"Error: Pivot Failed\" # Added return if pivot fails\n",
        "            \n",
        "            self.print_tableau(iteration)\n",
        "\n",
        "        print(\"\\nMaximum iterations reached.\")\n",
        "        return \"Max Iterations\"\n",
        "\n",
        "\n",
        "# --- Problem Definition from Section 2.7.2 ---\n",
        "c_obj = [5, 6]      # Objective function coefficients for x1, x2\n",
        "# Ensure A and b are Python lists as in the user's error context\n",
        "A_constraints = [[-1, 1],   # Coefficients for constraint 1\n",
        "                 [0,  1]]   # Coefficients for constraint 2\n",
        "b_constraints = [2, 10]     # RHS for constraints\n",
        "\n",
        "# The SimplexSolver class handles conversion to NumPy arrays internally.\n",
        "solver = SimplexSolver(c_obj, A_constraints, b_constraints)\n",
        "status = solver.solve()\n",
        "print(f\"\\nFinal Status: {status}\")"
      ]
    },
    {
      "cell_type": "markdown",
      "metadata": {
        "id": "jyyeV9nLyFmv"
      },
      "source": [
        "**2.22**\n",
        "<ul />\n",
        "\n",
        "Solve the following linear programming problem using the Two Phase Simplex method.\n",
        "\n",
        "$$\n",
        "\\begin{align*}\n",
        "\\text{maximize} \\quad & z = 4x_1 + x_2 \\\\\n",
        "\\text{subject to} \\quad & 3x_1 + x_2 = 3 \\\\  \n",
        "& 4x_1 + 3x_2 \\geq 6 \\\\\n",
        "& x_1 + 2x_2 \\leq 3 \\\\\n",
        "&  x_1, x_2 \\geq 0\n",
        "\\end{align*}\n",
        "$$\n",
        "\n",
        "</ul>\n",
        "\n"
      ]
    },
    {
      "cell_type": "markdown",
      "metadata": {
        "id": "v_qbLmCJyFmw"
      },
      "source": [
        "**Code Implementation**"
      ]
    },
    {
      "cell_type": "code",
      "execution_count": null,
      "metadata": {
        "colab": {
          "base_uri": "https://localhost:8080/"
        },
        "id": "dk5lMOykyFmw",
        "outputId": "6b4c817f-7666-4300-8d4e-91f8e16fffc2"
      },
      "outputs": [
        {
          "name": "stdout",
          "output_type": "stream",
          "text": [
            "Phase 1 successful: Feasible solution found.\n",
            "Optimal solution found:\n",
            "x1 = 1.00, x2 = 0.00\n",
            "Maximum z = 4.00\n"
          ]
        }
      ],
      "source": [
        "import numpy as np\n",
        "from scipy.optimize import linprog\n",
        "\n",
        "# Phase 1: Minimize w = a1 (remove artificial variable)\n",
        "c_phase1 = [0, 0, 0, 0, 1]  # Objective function for phase 1 (w = a1)\n",
        "A_eq_phase1 = [\n",
        "    [3, 1, 0, 0, 0],  # 3x1 + x2 = 3\n",
        "    [4, 3, -1, 0, 1],  # 4x1 + 3x2 - s1 + a1 = 6\n",
        "    [1, 2, 0, 1, 0]    # x1 + 2x2 + s2 = 3\n",
        "]\n",
        "b_eq_phase1 = [3, 6, 3]\n",
        "\n",
        "# Solve Phase 1\n",
        "res_phase1 = linprog(c=c_phase1, A_eq=A_eq_phase1, b_eq=b_eq_phase1, method='highs')\n",
        "if res_phase1.success and np.isclose(res_phase1.fun, 0):\n",
        "    print(\"Phase 1 successful: Feasible solution found.\")\n",
        "else:\n",
        "    print(\"Phase 1 failed: No feasible solution.\")\n",
        "    exit()\n",
        "\n",
        "# Phase 2: Maximize original objective function z = 4x1 + x2\n",
        "c_phase2 = [-4, -1, 0, 0, 0]  # Maximize z (convert to minimization problem)\n",
        "A_eq_phase2 = A_eq_phase1\n",
        "b_eq_phase2 = b_eq_phase1\n",
        "\n",
        "# Solve Phase 2\n",
        "res_phase2 = linprog(c=c_phase2, A_eq=A_eq_phase2, b_eq=b_eq_phase2, method='highs')\n",
        "if res_phase2.success:\n",
        "    print(\"Optimal solution found:\")\n",
        "    print(f\"x1 = {res_phase2.x[0]:.2f}, x2 = {res_phase2.x[1]:.2f}\")\n",
        "    print(f\"Maximum z = {-res_phase2.fun:.2f}\")\n",
        "else:\n",
        "    print(\"Optimization failed in Phase 2.\")"
      ]
    },
    {
      "cell_type": "markdown",
      "metadata": {
        "id": "8_RFe1VKyGig"
      },
      "source": [
        "**2.23**\n",
        "<ul />\n",
        "\n",
        "Examine this linear programming formulation:\n",
        "\n",
        "$$\n",
        "\\begin{align*}\n",
        "\\text{maximize} \\quad & z = x_1 + 2x_2 \\\\\n",
        "\\text{subject to} \\quad & x_1 + 2x_2 \\leq 10 \\\\  \n",
        "&  x_1, x_2 \\geq 0\n",
        "\\end{align*}\n",
        "$$\n",
        "\n",
        "Comment on the nature of its solution(s). How does this change if the first constraint is removed from the problem?\n",
        "\n",
        "</ul>\n",
        "\n"
      ]
    },
    {
      "cell_type": "markdown",
      "metadata": {
        "id": "4e1biE55yGih"
      },
      "source": [
        "**Code Implementation**"
      ]
    },
    {
      "cell_type": "code",
      "execution_count": null,
      "metadata": {
        "colab": {
          "base_uri": "https://localhost:8080/"
        },
        "id": "JPu8qsGByGih",
        "outputId": "e74ca1fc-eea4-4d21-a832-17df24983bf1"
      },
      "outputs": [
        {
          "name": "stdout",
          "output_type": "stream",
          "text": [
            "Problem with the first constraint: Optimal value of X1: 10.0, Optimal value of X2: 0.0, Optimal value of Z: 10.0\n",
            "Problem without the first constraint: No feasible solution\n"
          ]
        }
      ],
      "source": [
        "from scipy.optimize import linprog\n",
        "\n",
        "# Define a function to solve the linear programming problem\n",
        "def solve_lp(c, A, b, bounds):\n",
        "    # Solve the linear programming problem using the Highs solver\n",
        "    res = linprog(c, A_ub=A, b_ub=b, bounds=bounds, method='highs')\n",
        "\n",
        "    # Check if the solution is valid\n",
        "    if res.success:\n",
        "        # Optimal values of X1 and X2\n",
        "        X1 = res.x[0]\n",
        "        X2 = res.x[1]\n",
        "\n",
        "        # Optimal value of Z\n",
        "        Z = -res.fun  # Negate because we minimized the negative of the objective function\n",
        "\n",
        "        return X1, X2, Z\n",
        "    else:\n",
        "        return None, None, None\n",
        "\n",
        "# Problem with the first constraint\n",
        "c = [-1, -2]\n",
        "A = [[1, 2]]\n",
        "b = [10]\n",
        "bounds = [(0, None), (0, None)]\n",
        "X1, X2, Z = solve_lp(c, A, b, bounds)\n",
        "\n",
        "if X1 is None:\n",
        "    print(\"Problem with the first constraint: No feasible solution\")\n",
        "else:\n",
        "    print(f\"Problem with the first constraint: Optimal value of X1: {X1}, Optimal value of X2: {X2}, Optimal value of Z: {Z}\")\n",
        "\n",
        "# Problem without the first constraint\n",
        "A_no_constraint = None\n",
        "b_no_constraint = None\n",
        "X1_no_constraint, X2_no_constraint, Z_no_constraint = solve_lp(c, A_no_constraint, b_no_constraint, bounds)\n",
        "\n",
        "if X1_no_constraint is None:\n",
        "    print(\"Problem without the first constraint: No feasible solution\")\n",
        "else:\n",
        "    print(f\"Problem without the first constraint: Optimal value of X1: {X1_no_constraint}, Optimal value of X2: {X2_no_constraint}, Optimal value of Z: {Z_no_constraint}\")"
      ]
    },
    {
      "cell_type": "markdown",
      "metadata": {
        "id": "mD2U4-DhyHWO"
      },
      "source": [
        "**2.24**\n",
        "<ul />\n",
        "\n",
        "Solve the following linear programming problem graphically.\n",
        "\n",
        "$$\n",
        "\\begin{align*}\n",
        "\\text{maximize} \\quad & z = x_1 - x_2 \\\\\n",
        "\\text{subject to} \\quad & x_1 + x_2 \\geq 1 \\\\  \n",
        "& 3x_2 \\geq 9 \\\\\n",
        "& 2x_1 + x_2 \\leq 4 \\\\\n",
        "& 3x_1 \\leq 1.5 \\\\\n",
        "&  x_1, x_2 \\geq 0\n",
        "\\end{align*}\n",
        "$$\n",
        "\n",
        "</ul>\n"
      ]
    },
    {
      "cell_type": "markdown",
      "metadata": {
        "id": "St3lIOixyHWO"
      },
      "source": [
        "**Code Implementation**"
      ]
    },
    {
      "cell_type": "code",
      "execution_count": null,
      "metadata": {
        "colab": {
          "base_uri": "https://localhost:8080/",
          "height": 788
        },
        "id": "NsykUN-dyHWO",
        "outputId": "a5f5b7e1-6543-46db-befa-a195d42d6e2d"
      },
      "outputs": [
        {
          "name": "stdout",
          "output_type": "stream",
          "text": [
            "\n",
            "Optimal Solution:\n",
            "Optimal Point: (0.50, 3.00)\n",
            "Maximum z = -2.50\n"
          ]
        },
        {
          "data": {
            "image/png": "[encoded data removed]",
            "text/plain": [
              "<Figure size 800x800 with 1 Axes>"
            ]
          },
          "metadata": {},
          "output_type": "display_data"
        }
      ],
      "source": [
        "import numpy as np\n",
        "import matplotlib.pyplot as plt\n",
        "from itertools import combinations\n",
        "\n",
        "def find_intersection(line1, line2):\n",
        "    A = np.array([[line1[0], line1[1]], [line2[0], line2[1]]])\n",
        "    b = np.array([line1[2], line2[2]])\n",
        "    if np.linalg.det(A) == 0:\n",
        "        return None  # Parallel lines, no intersection\n",
        "    return np.linalg.solve(A, b)\n",
        "\n",
        "def is_feasible(point, constraints):\n",
        "    x, y = point\n",
        "    for a, b, c, sign in constraints:\n",
        "        if sign == '<' and not (a * x + b * y <= c):\n",
        "            return False\n",
        "        if sign == '>' and not (a * x + b * y >= c):\n",
        "            return False\n",
        "    return x >= 0 and y >= 0  # Ensure non-negative solutions\n",
        "\n",
        "def find_feasible_points(constraints):\n",
        "    feasible_points = []\n",
        "    for (line1, line2) in combinations(constraints, 2):\n",
        "        intersection = find_intersection(line1, line2)\n",
        "        if intersection is not None and is_feasible(intersection, constraints):\n",
        "            feasible_points.append(intersection)\n",
        "    return np.array(feasible_points)\n",
        "\n",
        "def plot_feasible_region(constraints, x_range, y_range):\n",
        "    x, y = np.meshgrid(x_range, y_range)\n",
        "    feasible_region = np.ones_like(x, dtype=bool)\n",
        "\n",
        "    for a, b, c, sign in constraints:\n",
        "        if sign == '<':\n",
        "            feasible_region &= (a * x + b * y <= c)\n",
        "        elif sign == '>':\n",
        "            feasible_region &= (a * x + b * y >= c)\n",
        "\n",
        "    plt.imshow(feasible_region.astype(int), extent=(x.min(), x.max(), y.min(), y.max()),\n",
        "               origin=\"lower\", cmap=\"Greys\", alpha=0.3)\n",
        "\n",
        "def plot_constraints(constraints, x_range):\n",
        "    for a, b, c, sign in constraints:\n",
        "        y_vals = np.linspace(-10, 10, 200)\n",
        "        if a != 0:\n",
        "            x_vals = (c - b * y_vals) / a\n",
        "        else:\n",
        "            x_vals = np.full_like(y_vals, c / b)\n",
        "        plt.plot(x_vals, y_vals, label=f'{a}x + {b}y {sign} {c}')\n",
        "\n",
        "def solve_and_plot():\n",
        "    constraints = [\n",
        "        (1, 1, 1, '>'),    # x1 + x2 >= 1\n",
        "        (0, 3, 9, '>'),    # 3x2 >= 9\n",
        "        (2, 1, 4, '<'),    # 2x1 + x2 <= 4\n",
        "        (3, 0, 1.5, '<'),  # 3x1 <= 1.5\n",
        "        (1, 0, 0, '>'),    # x1 >= 0\n",
        "        (0, 1, 0, '>')     # x2 >= 0\n",
        "    ]\n",
        "\n",
        "    obj_func = lambda x1, x2: x1 - x2  # z = x1 - x2\n",
        "\n",
        "    x_range = np.linspace(-1, 3, 300)\n",
        "    y_range = np.linspace(-1, 5, 300)\n",
        "    plt.figure(figsize=(8, 8))\n",
        "\n",
        "    plot_feasible_region(constraints, x_range, y_range)\n",
        "    plot_constraints(constraints, x_range)\n",
        "\n",
        "    feasible_points = find_feasible_points(constraints)\n",
        "\n",
        "    if feasible_points.size > 0:\n",
        "        feasible_x, feasible_y = zip(*feasible_points)\n",
        "        plt.scatter(feasible_x, feasible_y, color='blue', label='Feasible Points')\n",
        "\n",
        "        # Compute objective function values at extreme points\n",
        "        obj_values = [obj_func(x1, x2) for x1, x2 in feasible_points]\n",
        "\n",
        "        # Display best extreme point\n",
        "        best_idx = np.argmax(obj_values)\n",
        "        optimal_point = feasible_points[best_idx]\n",
        "        plt.scatter(*optimal_point, color='red', s=100, label='Optimal Point', edgecolors='black')\n",
        "\n",
        "        print(\"\\nOptimal Solution:\")\n",
        "        print(f\"Optimal Point: ({optimal_point[0]:.2f}, {optimal_point[1]:.2f})\")\n",
        "        print(f\"Maximum z = {obj_values[best_idx]:.2f}\")\n",
        "\n",
        "    plt.xlim(-1, 3)\n",
        "    plt.ylim(-1, 5)\n",
        "    plt.xlabel(r'$x_1$')\n",
        "    plt.ylabel(r'$x_2$')\n",
        "    plt.legend(loc='upper right')\n",
        "    plt.title(\"Feasible Region and Optimal Solution\")\n",
        "    plt.grid(True)\n",
        "    plt.show()\n",
        "\n",
        "solve_and_plot()\n"
      ]
    },
    {
      "cell_type": "markdown",
      "metadata": {
        "id": "UVJhQw_t8dMo"
      },
      "source": [
        "**2.25**\n",
        "<ul />\n",
        "\n",
        " What determines the number of basic variables in a linear programming problem solution?\n",
        "\n",
        "\n",
        "**Solution:**\n",
        "\n",
        "The number of basic variables in a linear programming problem solution is determined by the number of constraints in the system. Specifically, in a system with \\( m \\) constraints and \\( n \\) decision variables, a basic feasible solution will have exactly \\( m \\) basic variables and \\( n-m \\) non-basic variables.\n",
        "\n",
        "</ul>\n",
        "\n",
        "\n"
      ]
    },
    {
      "cell_type": "markdown",
      "metadata": {
        "id": "snuUMPRTgMSt"
      },
      "source": [
        "**2.26**\n",
        "<ul />\n",
        "\n",
        "What is the value of a non-basic variable in a feasible solution of a linear programming problem?\n",
        "\n",
        "**Solution:**\n",
        "\n",
        "In a feasible solution of a linear programming problem, a non-basic variable is assigned a value of zero. This allows the remaining basic variables to be solved uniquely from the system of equations.\n",
        "\n",
        "</ul>\n"
      ]
    },
    {
      "cell_type": "markdown",
      "metadata": {
        "id": "5mKW7BuIgMY-"
      },
      "source": [
        "**2.27**\n",
        "<ul />\n",
        "\n",
        " In an optimal Simplex tableau, what is the economic interpretation of the objective function row entry corresponding to the i-th slack variable?\n",
        "\n",
        "**Solution:**\n",
        "\n",
        "In an optimal Simplex tableau, the entry in the objective function row corresponding to the i-th slack variable represents the shadow price of the associated constraint. This value indicates how much the objective function will change per unit increase in the right-hand side of that constraint.\n",
        "\n",
        "</ul>\n"
      ]
    },
    {
      "cell_type": "markdown",
      "metadata": {
        "id": "xpOCdkR1gMft"
      },
      "source": [
        "**2.28**\n",
        "<ul />\n",
        "\n",
        "In a Simplex tableau, what is the interpretation of the entries in the right-hand-side column?\n",
        "\n",
        "**Solution:**\n",
        "\n",
        "The entries in the right-hand-side column of a Simplex tableau represent the values of the basic variables at the current iteration. These values indicate the current feasible solution for the linear programming problem.\n",
        "\n",
        "</ul>"
      ]
    },
    {
      "cell_type": "markdown",
      "metadata": {
        "id": "VTbFYakfgMnd"
      },
      "source": [
        "**2.29**\n",
        "<ul />\n",
        "\n",
        "What is the consequence of a tie for the entering basic variable?\n",
        "\n",
        "**Solution:**\n",
        "\n",
        "If there is a tie for the entering basic variable, any of the tied variables can be chosen as the entering variable. This may lead to different pivot sequences, and in some cases, may affect the number of iterations required to reach the optimal solution.\n",
        "\n",
        "</ul>"
      ]
    },
    {
      "cell_type": "markdown",
      "metadata": {
        "id": "ncq9EzGPgMt-"
      },
      "source": [
        "**2.30**\n",
        "<ul />\n",
        "\n",
        "What if there is a tie for the leaving basic variable?\n",
        "\n",
        "**Solution:**\n",
        "\n",
        "If there is a tie for the leaving basic variable, the problem exhibits degeneracy. This can result in cycling, where the Simplex method revisits the same solution repeatedly without progress. Anti-cycling rules, such as Bland’s Rule, can be used to prevent this issue.\n",
        "\n",
        "</ul>"
      ]
    },
    {
      "cell_type": "markdown",
      "metadata": {
        "id": "Ep-uoM8LgMz-"
      },
      "source": [
        "**2.31**\n",
        "<ul />\n",
        "\n",
        "What if, in the objective function row of a final tableau, there is a zero in a column corresponding to a non-basic variable?\n",
        "\n",
        "**Solution:**\n",
        "\n",
        "If there is a zero in the objective function row for a non-basic variable in the final tableau, this indicates the presence of multiple optimal solutions. Any increase in the corresponding variable will not change the optimal objective value, allowing for an alternative optimal solution.\n",
        "\n",
        "</ul>"
      ]
    },
    {
      "cell_type": "markdown",
      "metadata": {
        "id": "sgT3ErBRlSIc"
      },
      "source": [
        "**2.32**\n",
        "<ul />\n",
        "\n",
        "What happens in the Simplex algorithm if you choose, as the entering variable,a variable with a negative objective row coefficient but not the most negative coefficient?\n",
        "\n",
        "**Solution:**\n",
        "\n",
        "If a variable with a negative objective row coefficient is chosen as the entering variable but it is not the most negative, the algorithm may still reach the optimal solution but may take more iterations. The standard approach is to choose the most negative coefficient to ensure the fastest path to optimization.\n",
        "\n",
        "</ul>"
      ]
    },
    {
      "cell_type": "markdown",
      "metadata": {
        "id": "YGnjQEbLoa-Y"
      },
      "source": [
        "**2.33**\n",
        "<ul />\n",
        "\n",
        "Solve the following problem using the Simplex method:\n",
        "\n",
        "$$\n",
        "\\begin{align*}\n",
        "\\text{maximize} \\quad & z = x_1 + 9x_2 + x_3 \\\\\n",
        "\\text{subject to} \\quad & x_1 + 2x_2 + 3x_3 \\leq 9 \\\\  \n",
        "& 3x_1 + 2x_2 + 2x_3 \\leq 15 \\\\\n",
        "& x_1, x_2, x_3 \\geq 0 \n",
        "\\end{align*}\n",
        "$$\n",
        "\n",
        "</ul>\n"
      ]
    },
    {
      "cell_type": "markdown",
      "metadata": {
        "id": "bcP3TFHCoa-Y"
      },
      "source": [
        "**Code Implementation**"
      ]
    },
    {
      "cell_type": "code",
      "execution_count": null,
      "metadata": {
        "colab": {
          "base_uri": "https://localhost:8080/"
        },
        "id": "o-u6dchGoa-Y",
        "outputId": "7824eda3-c119-47bb-8f78-8f0fcbf8ac79"
      },
      "outputs": [
        {
          "name": "stdout",
          "output_type": "stream",
          "text": [
            "Optimal value of x1: 0.00\n",
            "Optimal value of x2: 4.50\n",
            "Optimal value of x3: 0.00\n",
            "Maximum value of z: 40.50\n"
          ]
        }
      ],
      "source": [
        "from scipy.optimize import linprog\n",
        "\n",
        "# Coefficients of the objective function (we negate the values for maximization)\n",
        "c = [-1, -9, -1]  # Maximizing z = x1 + 9x2 + x3\n",
        "\n",
        "# Coefficients of the constraints\n",
        "A = [\n",
        "    [1, 2, 3],  # x1 + 2x2 + 3x3 <= 9\n",
        "    [3, 2, 2]   # 3x1 + 2x2 + 2x3 <= 15\n",
        "]\n",
        "\n",
        "# Right-hand side of the constraints\n",
        "b = [9, 15]\n",
        "\n",
        "# Bounds for the variables (x1, x2, x3 >= 0)\n",
        "x_bounds = (0, None)\n",
        "x2_bounds = (0, None)\n",
        "x3_bounds = (0, None)\n",
        "\n",
        "# Use linprog to solve the problem (Simplex method)\n",
        "result = linprog(c, A_ub=A, b_ub=b, bounds=[x_bounds, x2_bounds, x3_bounds], method='highs')\n",
        "\n",
        "# Display the results\n",
        "if result.success:\n",
        "    x1_opt = result.x[0]\n",
        "    x2_opt = result.x[1]\n",
        "    x3_opt = result.x[2]\n",
        "    max_z = -result.fun  # Negate the result to get the maximized value\n",
        "\n",
        "    print(f\"Optimal value of x1: {x1_opt:.2f}\")\n",
        "    print(f\"Optimal value of x2: {x2_opt:.2f}\")\n",
        "    print(f\"Optimal value of x3: {x3_opt:.2f}\")\n",
        "    print(f\"Maximum value of z: {max_z:.2f}\")\n",
        "else:\n",
        "    print(\"Optimization failed.\")"
      ]
    },
    {
      "cell_type": "markdown",
      "metadata": {
        "id": "sbEYbAdApaSs"
      },
      "source": [
        "**2.34**\n",
        "<ul />\n",
        "\n",
        "Use the Two Phase Simplex method to solve the following problem:\n",
        "\n",
        "$$\n",
        "\\begin{align*}\n",
        "\\text{minimize} \\quad & z = 16x_1 + 2x_2 - 3x_3 \\\\\n",
        "\\text{subject to} \\quad & x_1 - 6x_2 \\geq 4 \\\\  \n",
        "& 3x_2 + 7x_3 \\leq -5 \\\\\n",
        "& x_1 + x_2 + x_3 = 10 \\\\\n",
        "& x_1, x_2, x_3 \\geq 0 \n",
        "\\end{align*}\n",
        "$$\n",
        "\n",
        "</ul>"
      ]
    },
    {
      "cell_type": "markdown",
      "metadata": {
        "id": "wnjm14GdpaSs"
      },
      "source": [
        "**Code Implementation**"
      ]
    },
    {
      "cell_type": "code",
      "execution_count": 2,
      "metadata": {
        "colab": {
          "base_uri": "https://localhost:8080/"
        },
        "id": "jCx8oDg4paSs",
        "outputId": "7b163935-98d0-4479-c396-d3eeb72d6dca"
      },
      "outputs": [
        {
          "name": "stdout",
          "output_type": "stream",
          "text": [
            "LP Formulation:\n",
            "Minimize z = 16x1 + 2x2 - 3x3\n",
            "Subject to:\n",
            "   x1 - 6x2 >= 4\n",
            "   3x2 + 7x3 <= -5\n",
            "   x1 + x2 + x3 = 10\n",
            "   x1, x2, x3 >= 0\n",
            "\n",
            "Solver Message: The problem is infeasible. (HiGHS Status 8: model_status is Infeasible; primal_status is None)\n",
            "Conclusion: The LP problem is INFEASIBLE, as verified by the solver.\n",
            "             This means no solution exists that satisfies all the constraints.\n"
          ]
        }
      ],
      "source": [
        "import numpy as np\n",
        "from scipy.optimize import linprog\n",
        "\n",
        "print(\"LP Formulation:\")\n",
        "print(\"Minimize z = 16x1 + 2x2 - 3x3\")\n",
        "print(\"Subject to:\")\n",
        "print(\"   x1 - 6x2 >= 4\")\n",
        "print(\"   3x2 + 7x3 <= -5\")\n",
        "print(\"   x1 + x2 + x3 = 10\")\n",
        "print(\"   x1, x2, x3 >= 0\")\n",
        "\n",
        "# --- Setup for scipy.optimize ---\n",
        "\n",
        "# 1. Objective function (already a minimization problem)\n",
        "# Coefficients for x1, x2, x3:\n",
        "c_obj = np.array([16, 2, -3])\n",
        "\n",
        "# 2. Inequality constraints (A_ub @ x <= b_ub)\n",
        "# The first constraint x1 - 6x2 >= 4 must be converted to '<=' form by multiplying by -1.\n",
        "# -x1 + 6x2 <= -4\n",
        "# The second constraint 3x2 + 7x3 <= -5 is already in the correct form.\n",
        "A_ub = np.array([\n",
        "    [-1,  6,  0],\n",
        "    [ 0,  3,  7]\n",
        "])\n",
        "b_ub = np.array([-4, -5])\n",
        "\n",
        "# 3. Equality constraints (A_eq @ x == b_eq)\n",
        "# x1 + x2 + x3 = 10\n",
        "A_eq = np.array([\n",
        "    [1, 1, 1]\n",
        "])\n",
        "b_eq = np.array([10])\n",
        "\n",
        "# 4. Bounds for variables (x_i >= 0)\n",
        "x_bounds = [(0, None), (0, None), (0, None)] # (x1_min, x1_max), (x2_min, x2_max), ...\n",
        "\n",
        "# Solve the LP using the 'highs' method, which is robust for these types of problems.\n",
        "result = linprog(c_obj, A_ub=A_ub, b_ub=b_ub, A_eq=A_eq, b_eq=b_eq, bounds=x_bounds, method='highs')\n",
        "\n",
        "# --- Cleaned Up Output and Interpretation ---\n",
        "print(f\"\\nSolver Message: {result.message}\")\n",
        "\n",
        "# Interpretation based on the solver's output for an infeasible problem\n",
        "if not result.success and \"infeasible\" in result.message.lower():\n",
        "    print(\"Conclusion: The LP problem is INFEASIBLE, as verified by the solver.\")\n",
        "    print(\"             This means no solution exists that satisfies all the constraints.\")\n",
        "else:\n",
        "    print(\"Conclusion: The solver did not report infeasibility as expected.\")\n",
        "    print(f\"  Solver Status Code: {result.status}\")\n",
        "    print(f\"  Success Flag: {result.success}\")"
      ]
    },
    {
      "cell_type": "markdown",
      "metadata": {
        "id": "fAmRanG2rbtj"
      },
      "source": [
        "**2.35**\n",
        "<ul />\n",
        "\n",
        "business executive has the option of investing money in two plans. Plan A guarantees that each dollar invested will earn 70 cents a year hence, and plan B guarantees that each dollar invested will earn \\$2 two years hence. Plan A allows yearly investments, while in plan B, only investments for periods that are multiples of two years are allowed. How should the executive invest \\$100,000 to maximize the earnings at the end of three years? Formulate this problem as a linear programming problem.\n",
        "\n",
        "</ul>"
      ]
    },
    {
      "cell_type": "markdown",
      "metadata": {
        "id": "tDqvENPTrbtj"
      },
      "source": [
        "**Code Implementation**"
      ]
    },
    {
      "cell_type": "code",
      "execution_count": null,
      "metadata": {
        "colab": {
          "base_uri": "https://localhost:8080/"
        },
        "id": "nqD1xdGprbtj",
        "outputId": "05f923ed-a6f2-4296-e483-be6ab6ebd37e"
      },
      "outputs": [
        {
          "name": "stdout",
          "output_type": "stream",
          "text": [
            "Optimal amount to invest in Plan A (x1): $100000.00\n",
            "Optimal amount to invest in Plan B (x2): $0.00\n",
            "Maximum earnings at the end of 3 years: $210000.00\n"
          ]
        }
      ],
      "source": [
        "from scipy.optimize import linprog\n",
        "\n",
        "# Coefficients for the objective function (maximize Z = 2.1x1 + 2x2)\n",
        "c = [-2.1, -2]  # We multiply by -1 because linprog minimizes the objective function\n",
        "\n",
        "# Coefficients for the constraints (x1 + x2 = 100000)\n",
        "A_eq = [[1, 1]]  # x1 + x2 = 100000\n",
        "b_eq = [100000]\n",
        "\n",
        "# Bounds for x1 and x2 (both must be >= 0)\n",
        "x_bounds = (0, None)\n",
        "x2_bounds = (0, None)\n",
        "\n",
        "# Use linprog to solve the problem\n",
        "result = linprog(c, A_eq=A_eq, b_eq=b_eq, bounds=[x_bounds, x2_bounds], method='highs')\n",
        "\n",
        "# Display the results\n",
        "if result.success:\n",
        "    x1_opt = result.x[0]\n",
        "    x2_opt = result.x[1]\n",
        "    max_earnings = -result.fun  # We negate the result because we minimized it\n",
        "\n",
        "    print(f\"Optimal amount to invest in Plan A (x1): ${x1_opt:.2f}\")\n",
        "    print(f\"Optimal amount to invest in Plan B (x2): ${x2_opt:.2f}\")\n",
        "    print(f\"Maximum earnings at the end of 3 years: ${max_earnings:.2f}\")\n",
        "else:\n",
        "    print(\"Optimization failed.\")"
      ]
    },
    {
      "cell_type": "markdown",
      "metadata": {
        "id": "iyz0n1Bprc_c"
      },
      "source": [
        "**2.36**\n",
        "<ul />\n",
        "\n",
        "An investment portfolio management firm wishes to develop a mathematical model to help decide how to invest \\$1 million for one year. Municipal bonds are to be bought in combinations that balance risk and profit. Three types of bonds are being considered: \n",
        "<ul />\n",
        "\n",
        "• AAA rated bonds yielding 6% annually and which must be purchased in units of \\$5000.<br>\n",
        "• A rated bonds yielding 8% annually and which must be purchased in units of \\$1000.<br>\n",
        "• J rated (junk) bonds yielding 10% annually and which must be purchased in units of \\$10,000.<br>\n",
        "\n",
        "</ul>\n",
        "\n",
        "The Board of Directors has specified that no more than 25% of the portfolio should be invested in (risky) junk bonds, and at least 40% should be invested in AAA rated bonds. Bonds are to be purchased with the objective of maximizing earnings at the end of the year. It may be assumed that the stated yield dividend is paid at the end of the year, and that no other distributions are made during the year. Formulate this problem as a linear programming problem\n",
        "\n",
        "</ul>"
      ]
    },
    {
      "cell_type": "markdown",
      "metadata": {
        "id": "Fuwawhjurc_c"
      },
      "source": [
        "**Code Implementation**"
      ]
    },
    {
      "cell_type": "code",
      "execution_count": null,
      "metadata": {
        "colab": {
          "base_uri": "https://localhost:8080/"
        },
        "id": "6GlGJWYcrc_c",
        "outputId": "5bb01e6d-cf62-414e-fcd2-06537f2b2b90"
      },
      "outputs": [
        {
          "name": "stdout",
          "output_type": "stream",
          "text": [
            "Optimal value (Z): 77000.0\n",
            "Optimal solution (x1, x2, x3): [ 80. 350.  25.]\n"
          ]
        }
      ],
      "source": [
        "from scipy.optimize import linprog\n",
        "\n",
        "# Coefficients of the objective function (note the negative signs for maximization)\n",
        "c = [-300, -80, -1000]\n",
        "\n",
        "# Coefficients of the inequality constraints\n",
        "A = [\n",
        "    [5000, 1000, 10000],  # 5000x1 + 1000x2 + 10000x3 <= 1,000,000\n",
        "    [0, 0, 1],            # x3 <= 25\n",
        "    [-1, 0, 0]            # -x1 <= -80 (x1 >= 80)\n",
        "]\n",
        "\n",
        "# Right-hand side of the inequality constraints\n",
        "b = [1000000, 25, -80]\n",
        "\n",
        "# Bounds for each variable\n",
        "x1_bounds = (0, None)\n",
        "x2_bounds = (0, None)\n",
        "x3_bounds = (0, None)\n",
        "bounds = [x1_bounds, x2_bounds, x3_bounds]\n",
        "\n",
        "# Solve the linear programming problem\n",
        "result = linprog(c, A_ub=A, b_ub=b, bounds=bounds, method='highs')\n",
        "\n",
        "# Print the result\n",
        "if result.success:\n",
        "    print(f\"Optimal value (Z): {-result.fun}\")\n",
        "    print(f\"Optimal solution (x1, x2, x3): {result.x}\")\n",
        "else:\n",
        "    print(\"No solution found.\")"
      ]
    },
    {
      "cell_type": "markdown",
      "metadata": {
        "id": "3Xm_DruwraSD"
      },
      "source": [
        "**2.37**\n",
        "<ul />\n",
        "\n",
        "A philanthropist wishes to develop a mathematical model to help him decide how to donate his spare cash to several worthy causes. He has \\$10 million to distribute among the recipients, and he would like to donate in units of thousands of dollars. <br>\n",
        "Three organizations would like to receive funds: Our Great State University, the Friends of the Grand Opera, and the Save the Humuhumunukunukuapua‘a Society. The philanthropist wants to give at most 50% of his cash to any one organization. The desirability of the philanthropist’s giving to any particular recipient is to be measured in terms of the number of tax credits he will receive. The value of giving to an educational institution is rated at 10 credits for every \\$1000 donation, while the value of \\$1000 donation to the music lovers is rated at 8 credits, and each \\$1000 donation to the wildlife conservation is rated at 6 credits. Write a linear programming model to help this philanthropist maximize the number of tax credits that can be achieved by contributing among these three groups.\n",
        "\n",
        "</ul>"
      ]
    },
    {
      "cell_type": "markdown",
      "metadata": {
        "id": "GYmSKMQnraSD"
      },
      "source": [
        "**Code Implementation**"
      ]
    },
    {
      "cell_type": "code",
      "execution_count": null,
      "metadata": {
        "colab": {
          "base_uri": "https://localhost:8080/"
        },
        "id": "KzaCX5F1raSD",
        "outputId": "a855f478-2568-435c-f391-bcc753c4f5a3"
      },
      "outputs": [
        {
          "name": "stdout",
          "output_type": "stream",
          "text": [
            "Optimal value (Z): 90000.0\n",
            "Optimal solution (x1, x2, x3): [5000. 5000.   -0.]\n"
          ]
        }
      ],
      "source": [
        "from scipy.optimize import linprog\n",
        "\n",
        "# Coefficients of the objective function (note the negative signs for maximization)\n",
        "c = [-10, -8, -6]\n",
        "\n",
        "# Coefficients of the inequality constraints\n",
        "A = [\n",
        "    [1, 1, 1],      # x1 + x2 + x3 <= 10,000\n",
        "    [1, 0, 0],      # x1 <= 5,000\n",
        "    [0, 1, 0],      # x2 <= 5,000\n",
        "    [0, 0, 1]       # x3 <= 5,000\n",
        "]\n",
        "\n",
        "# Right-hand side of the inequality constraints\n",
        "b = [10000, 5000, 5000, 5000]\n",
        "\n",
        "# Bounds for each variable\n",
        "x1_bounds = (0, None)\n",
        "x2_bounds = (0, None)\n",
        "x3_bounds = (0, None)\n",
        "bounds = [x1_bounds, x2_bounds, x3_bounds]\n",
        "\n",
        "# Solve the linear programming problem\n",
        "result = linprog(c, A_ub=A, b_ub=b, bounds=bounds, method='highs')\n",
        "\n",
        "# Print the result\n",
        "if result.success:\n",
        "    print(f\"Optimal value (Z): {-result.fun}\")\n",
        "    print(f\"Optimal solution (x1, x2, x3): {result.x}\")\n",
        "else:\n",
        "    print(\"No solution found.\")"
      ]
    },
    {
      "cell_type": "markdown",
      "metadata": {
        "id": "Q0iBTizGreoy"
      },
      "source": [
        "**2.38**\n",
        "<ul />\n",
        "\n",
        "Solve the following problem graphically:\n",
        "\n",
        "$$\n",
        "\\begin{align*}\n",
        "\\text{maximize} \\quad & z = -2x_1 + x_2 \\\\\n",
        "\\text{subject to} \\quad & x_1 - x_2 \\leq 5 \\\\  \n",
        "& x_1 \\leq 7 \\\\\n",
        "& x_2 \\leq 6 \\\\\n",
        "& x_1 - x_2 \\leq -4 \\\\\n",
        "& x_1, x_2 \\geq 0\n",
        "\\end{align*}\n",
        "$$\n",
        "\n",
        "</ul>"
      ]
    },
    {
      "cell_type": "markdown",
      "metadata": {
        "id": "tQ4DuSWzreoz"
      },
      "source": [
        "**Code Implementation**"
      ]
    },
    {
      "cell_type": "code",
      "execution_count": null,
      "metadata": {
        "colab": {
          "base_uri": "https://localhost:8080/",
          "height": 792
        },
        "id": "U16pn1Bqreoz",
        "outputId": "63f6210b-18c7-4fc3-f5c0-17b4eb0da3b3"
      },
      "outputs": [
        {
          "name": "stdout",
          "output_type": "stream",
          "text": [
            "\n",
            "Optimal Solution:\n",
            "Optimal Point: (0.00, 4.00)\n",
            "Maximum z = 4.00\n"
          ]
        },
        {
          "data": {
            "image/png": "[encoded data removed]",
            "text/plain": [
              "<Figure size 800x800 with 1 Axes>"
            ]
          },
          "metadata": {},
          "output_type": "display_data"
        }
      ],
      "source": [
        "import numpy as np\n",
        "import matplotlib.pyplot as plt\n",
        "from itertools import combinations\n",
        "\n",
        "def find_intersection(line1, line2):\n",
        "    A = np.array([[line1[0], line1[1]], [line2[0], line2[1]]])\n",
        "    b = np.array([line1[2], line2[2]])\n",
        "    if np.linalg.det(A) == 0:\n",
        "        return None  # Parallel lines, no intersection\n",
        "    return np.linalg.solve(A, b)\n",
        "\n",
        "def is_feasible(point, constraints):\n",
        "    x, y = point\n",
        "    for a, b, c, sign in constraints:\n",
        "        if sign == '<' and not (a * x + b * y <= c):\n",
        "            return False\n",
        "        if sign == '>' and not (a * x + b * y >= c):\n",
        "            return False\n",
        "    return x >= 0 and y >= 0  # Ensure non-negative solutions\n",
        "\n",
        "def find_feasible_points(constraints):\n",
        "    feasible_points = []\n",
        "    for (line1, line2) in combinations(constraints, 2):\n",
        "        intersection = find_intersection(line1, line2)\n",
        "        if intersection is not None and is_feasible(intersection, constraints):\n",
        "            feasible_points.append(intersection)\n",
        "    return np.array(feasible_points)\n",
        "\n",
        "def plot_feasible_region(constraints, x_range, y_range):\n",
        "    x, y = np.meshgrid(x_range, y_range)\n",
        "    feasible_region = np.ones_like(x, dtype=bool)\n",
        "\n",
        "    for a, b, c, sign in constraints:\n",
        "        if sign == '<':\n",
        "            feasible_region &= (a * x + b * y <= c)\n",
        "        elif sign == '>':\n",
        "            feasible_region &= (a * x + b * y >= c)\n",
        "\n",
        "    plt.imshow(feasible_region.astype(int), extent=(x.min(), x.max(), y.min(), y.max()),\n",
        "               origin=\"lower\", cmap=\"Greys\", alpha=0.3)\n",
        "\n",
        "def plot_constraints(constraints, x_range):\n",
        "    for a, b, c, sign in constraints:\n",
        "        y_vals = np.linspace(-10, 10, 200)\n",
        "        if a != 0:\n",
        "            x_vals = (c - b * y_vals) / a\n",
        "        else:\n",
        "            x_vals = np.full_like(y_vals, c / b)\n",
        "        plt.plot(x_vals, y_vals, label=f'{a}x + {b}y {sign} {c}')\n",
        "\n",
        "def solve_and_plot():\n",
        "    constraints = [\n",
        "        (1, -1, 5, '<'),    # x1 - x2 <= 5\n",
        "        (1, 0, 7, '<'),   # x1 <= 7\n",
        "        (0, 1, 6, '<'),   # x2 <= 6\n",
        "        (1, -1, -4, '>'),   # x1 - x2 >= -4\n",
        "        (1, 0, 0, '>'),    # x1 >= 0\n",
        "        (0, 1, 0, '>')     # x2 >= 0\n",
        "    ]\n",
        "\n",
        "    obj_func = lambda x1, x2: -2*x1 + x2  # z = -2x1 + x2\n",
        "\n",
        "    x_range = np.linspace(-1, 10, 300)\n",
        "    y_range = np.linspace(-1, 10, 300)\n",
        "    plt.figure(figsize=(8, 8))\n",
        "\n",
        "    plot_feasible_region(constraints, x_range, y_range)\n",
        "    plot_constraints(constraints, x_range)\n",
        "\n",
        "    feasible_points = find_feasible_points(constraints)\n",
        "\n",
        "    if feasible_points.size > 0:\n",
        "        feasible_x, feasible_y = zip(*feasible_points)\n",
        "        plt.scatter(feasible_x, feasible_y, color='blue', label='Feasible Points')\n",
        "\n",
        "        # Compute objective function values at extreme points\n",
        "        obj_values = [obj_func(x1, x2) for x1, x2 in feasible_points]\n",
        "\n",
        "        # Display best extreme point\n",
        "        best_idx = np.argmax(obj_values)\n",
        "        optimal_point = feasible_points[best_idx]\n",
        "        plt.scatter(*optimal_point, color='red', s=100, label='Optimal Point', edgecolors='black')\n",
        "\n",
        "        print(\"\\nOptimal Solution:\")\n",
        "        print(f\"Optimal Point: ({optimal_point[0]:.2f}, {optimal_point[1]:.2f})\")\n",
        "        print(f\"Maximum z = {obj_values[best_idx]:.2f}\")\n",
        "\n",
        "    plt.xlim(-1, 10)\n",
        "    plt.ylim(-1, 10)\n",
        "    plt.xlabel(r'$x_1$')\n",
        "    plt.ylabel(r'$x_2$')\n",
        "    plt.legend(loc='upper right')\n",
        "    plt.title(\"Feasible Region and Optimal Solution\")\n",
        "    plt.grid(True)\n",
        "    plt.show()\n",
        "\n",
        "solve_and_plot()"
      ]
    },
    {
      "cell_type": "markdown",
      "metadata": {
        "id": "AAvMSHa11jBB"
      },
      "source": [
        "**2.39**\n",
        "<ul />\n",
        "\n",
        "Write the dual of the primal linear programming problem in Exercise 2.7.\n",
        "\n",
        "</ul>\n"
      ]
    },
    {
      "cell_type": "markdown",
      "metadata": {
        "id": "-qcpGy_F2aVr"
      },
      "source": [
        "**Code Implementation**"
      ]
    },
    {
      "cell_type": "code",
      "execution_count": 3,
      "metadata": {
        "colab": {
          "base_uri": "https://localhost:8080/"
        },
        "id": "WkPYV3WQ1jBB",
        "outputId": "5e3bef55-2c81-4569-92f1-42b1264ef8d5"
      },
      "outputs": [
        {
          "name": "stdout",
          "output_type": "stream",
          "text": [
            "--- Primal Problem (Exercise 2.7) ---\n",
            "Maximize w = x1 - x2\n",
            "Subject to:\n",
            "  x1 + x2 >= 1\n",
            "  3 x2 <= 9\n",
            "  2 x1 + x2 <= 4\n",
            "  x1 <= 1.5\n",
            "  x1, x2 >= 0\n",
            "\n",
            "\n",
            "--- Dual Problem ---\n",
            "Minimize w = -y1 + 9.0 y2 + 4.0 y3 + 1.5 y4\n",
            "Subject to:\n",
            "  -y1 + 2.0 y3 + y4 >= 1.0\n",
            "  -y1 + 3.0 y2 + y3 >= -1.0\n",
            "  y1, y2, y3, y4 >= 0\n"
          ]
        }
      ],
      "source": [
        "import numpy as np\n",
        "import copy\n",
        "\n",
        "def get_dual_lp(primal_problem):\n",
        "    \"\"\"\n",
        "    Generates the dual of a given primal linear programming problem.\n",
        "    Assumes a maximization primal and non-negative variables.\n",
        "\n",
        "    Args:\n",
        "        primal_problem (dict): A dictionary representing the primal LP.\n",
        "            Keys: 'type' ('maximize'), 'c' (objective coeffs), \n",
        "                  'constraints' (list of constraint dicts).\n",
        "\n",
        "    Returns:\n",
        "        dict: A dictionary representing the dual LP.\n",
        "    \"\"\"\n",
        "    if primal_problem.get('type', 'maximize').lower() != 'maximize':\n",
        "        raise ValueError(\"This function assumes a maximization primal problem.\")\n",
        "\n",
        "    # --- Step 1: Convert primal to canonical form (all constraints <=) ---\n",
        "    canonical_primal = copy.deepcopy(primal_problem)\n",
        "    for constr in canonical_primal['constraints']:\n",
        "        if constr['type'] == '>=':\n",
        "            constr['coeffs'] = [-x for x in constr['coeffs']]\n",
        "            constr['rhs'] = -constr['rhs']\n",
        "            constr['type'] = '<='\n",
        "        elif constr['type'] == '=':\n",
        "            # This would require splitting into two constraints, but not needed for this problem.\n",
        "            raise NotImplementedError(\"Equality constraints are not handled in this simplified script.\")\n",
        "    \n",
        "    # --- Step 2: Extract A, b, c from the canonical primal ---\n",
        "    # Objective coefficients of primal become RHS of dual\n",
        "    dual_b = np.array(canonical_primal['c'], dtype=float)\n",
        "    \n",
        "    # RHS of primal constraints become objective coefficients of dual\n",
        "    dual_c = np.array([c['rhs'] for c in canonical_primal['constraints']], dtype=float)\n",
        "\n",
        "    # Constraint matrix of primal is transposed for dual\n",
        "    primal_A = np.array([c['coeffs'] for c in canonical_primal['constraints']], dtype=float)\n",
        "    dual_A = primal_A.T\n",
        "\n",
        "    # --- Step 3: Assemble the dual problem ---\n",
        "    num_dual_vars = len(dual_c)\n",
        "    num_dual_constraints = len(dual_b)\n",
        "\n",
        "    dual_problem = {\n",
        "        'type': 'minimize',\n",
        "        'c': list(dual_c),\n",
        "        'var_names': [f'y{i+1}' for i in range(num_dual_vars)],\n",
        "        'constraints': []\n",
        "    }\n",
        "\n",
        "    for i in range(num_dual_constraints):\n",
        "        dual_problem['constraints'].append({\n",
        "            'coeffs': list(dual_A[i]),\n",
        "            'type': '>=', # Dual of max-primal with non-negative vars has >= constraints\n",
        "            'rhs': dual_b[i]\n",
        "        })\n",
        "\n",
        "    return dual_problem\n",
        "\n",
        "def print_lp(problem, title=\"Linear Programming Problem\"):\n",
        "    \"\"\"Neatly prints an LP problem defined in a dictionary.\"\"\"\n",
        "    print(f\"--- {title} ---\")\n",
        "    \n",
        "    var_names = problem.get('var_names', [f'x{i+1}' for i in range(len(problem['c']))])\n",
        "    \n",
        "    # Print Objective\n",
        "    obj_terms = []\n",
        "    for i, coeff in enumerate(problem['c']):\n",
        "        if abs(coeff) > 1e-9: # Only show non-zero terms\n",
        "            sign = \"-\" if coeff < 0 else \"+\"\n",
        "            abs_coeff = abs(coeff)\n",
        "            # Hide coefficient if it's 1, unless it's the first term\n",
        "            coeff_str = \"\" if abs_coeff == 1 else f\"{abs_coeff} \"\n",
        "            \n",
        "            if not obj_terms: # First term\n",
        "                 term_str = f\"{'-' if sign == '-' else ''}{coeff_str}{var_names[i]}\"\n",
        "            else:\n",
        "                 term_str = f\" {sign} {coeff_str}{var_names[i]}\"\n",
        "            obj_terms.append(term_str)\n",
        "    \n",
        "    print(f\"{problem['type'].capitalize()} w = \" + \"\".join(obj_terms))\n",
        "\n",
        "    # Print Constraints\n",
        "    print(\"Subject to:\")\n",
        "    for constr in problem['constraints']:\n",
        "        constr_terms = []\n",
        "        for i, coeff in enumerate(constr['coeffs']):\n",
        "            if abs(coeff) > 1e-9: # Only show non-zero terms\n",
        "                sign = \"-\" if coeff < 0 else \"+\"\n",
        "                abs_coeff = abs(coeff)\n",
        "                coeff_str = \"\" if abs_coeff == 1 else f\"{abs_coeff} \"\n",
        "\n",
        "                if not constr_terms:\n",
        "                    term_str = f\"{'-' if sign == '-' else ''}{coeff_str}{var_names[i]}\"\n",
        "                else:\n",
        "                    term_str = f\" {sign} {coeff_str}{var_names[i]}\"\n",
        "                constr_terms.append(term_str)\n",
        "        \n",
        "        print(f\"  {''.join(constr_terms)} {constr['type']} {constr['rhs']}\")\n",
        "    \n",
        "    # Print variable constraints\n",
        "    print(f\"  {', '.join(var_names)} >= 0\")\n",
        "\n",
        "\n",
        "# --- Define the Primal Problem from Exercise 2.7 ---\n",
        "# Maximize z = x1 - x2\n",
        "# Subject to:\n",
        "#   x1 + x2 >= 1\n",
        "#   3x2 <= 9\n",
        "#   2x1 + x2 <= 4\n",
        "#   x1 <= 3/2  (or 1.5)\n",
        "\n",
        "primal_problem_ex2_7 = {\n",
        "    'type': 'maximize',\n",
        "    'c': [1, -1],\n",
        "    'var_names': ['x1', 'x2'],\n",
        "    'constraints': [\n",
        "        {'coeffs': [1, 1], 'type': '>=', 'rhs': 1},\n",
        "        {'coeffs': [0, 3], 'type': '<=', 'rhs': 9},\n",
        "        {'coeffs': [2, 1], 'type': '<=', 'rhs': 4},\n",
        "        {'coeffs': [1, 0], 'type': '<=', 'rhs': 1.5},\n",
        "    ]\n",
        "}\n",
        "\n",
        "# --- Generate and Print the Dual ---\n",
        "dual_problem_ex2_7 = get_dual_lp(primal_problem_ex2_7)\n",
        "\n",
        "print_lp(primal_problem_ex2_7, title=\"Primal Problem (Exercise 2.7)\")\n",
        "print(\"\\n\")\n",
        "print_lp(dual_problem_ex2_7, title=\"Dual Problem\")"
      ]
    },
    {
      "cell_type": "markdown",
      "metadata": {
        "id": "irQtIg0V1kTR"
      },
      "source": [
        "**2.40**\n",
        "<ul />\n",
        "\n",
        "Write the dual of the primal problem in Exercise 2.8. Solve the dual problem, and identify the shadow prices.\n",
        "\n",
        "</ul>"
      ]
    },
    {
      "cell_type": "markdown",
      "metadata": {
        "id": "bXGqwcrt1kTR"
      },
      "source": [
        "**Code Implementation**"
      ]
    },
    {
      "cell_type": "code",
      "execution_count": 4,
      "metadata": {
        "colab": {
          "base_uri": "https://localhost:8080/"
        },
        "id": "w40YHLx61kTR",
        "outputId": "24f19eeb-a5cc-4c63-b526-3097f93edbfd"
      },
      "outputs": [
        {
          "name": "stdout",
          "output_type": "stream",
          "text": [
            "--- Primal Problem (Exercise 2.8) ---\n",
            "Maximize w = -2 x1 + x2\n",
            "Subject to:\n",
            "  x1 - x2 <= 5\n",
            "  x1 <= 7\n",
            "  x2 <= 6\n",
            "  x1 - x2 >= -4\n",
            "  x1, x2 >= 0\n",
            "\n",
            "\n",
            "--- Generated Dual Problem ---\n",
            "Minimize w = 5.0 y1 + 7.0 y2 + 6.0 y3 + 4.0 y4\n",
            "Subject to:\n",
            "  y1 + y2 - y4 >= -2.0\n",
            "  -y1 + y3 + y4 >= 1.0\n",
            "  y1, y2, y3, y4 >= 0\n",
            "\n",
            "--- Solving the Dual Problem ---\n",
            "Optimal Value (w) = 4.0000\n",
            "Optimal Values for Dual Variables (y):\n",
            "  y1 = 0.0000\n",
            "  y2 = 0.0000\n",
            "  y3 = 0.0000\n",
            "  y4 = 1.0000\n",
            "\n",
            "--- Shadow Prices for the Primal Problem ---\n",
            "The shadow prices are the optimal values of the dual variables.\n",
            "  Constraint 1 (x1 - x2 <= 5 ): Shadow Price = 0.0000\n",
            "  Constraint 2 (x1 <= 7      ): Shadow Price = 0.0000\n",
            "  Constraint 3 (x2 <= 6      ): Shadow Price = 0.0000\n",
            "  Constraint 4 (x1 - x2 >= -4): Shadow Price = 1.0000\n",
            "\n",
            "--- Verification: Solving the Primal Problem ---\n",
            "Primal Optimal Value (z) = 4.0000\n",
            "Dual Optimal Value   (w) = 4.0000\n",
            "Verification successful: Max z = Min w.\n"
          ]
        }
      ],
      "source": [
        "import numpy as np\n",
        "from scipy.optimize import linprog\n",
        "import copy\n",
        "\n",
        "def get_dual_lp(primal_problem):\n",
        "    \"\"\"\n",
        "    Generates the dual of a given primal linear programming problem.\n",
        "    Assumes a maximization primal and non-negative variables.\n",
        "    \"\"\"\n",
        "    if primal_problem.get('type', 'maximize').lower() != 'maximize':\n",
        "        raise ValueError(\"This function assumes a maximization primal problem.\")\n",
        "\n",
        "    canonical_primal = copy.deepcopy(primal_problem)\n",
        "    for constr in canonical_primal['constraints']:\n",
        "        if constr['type'] == '>=':\n",
        "            constr['coeffs'] = [-x for x in constr['coeffs']]\n",
        "            constr['rhs'] = -constr['rhs']\n",
        "            constr['type'] = '<='\n",
        "    \n",
        "    dual_b = np.array(canonical_primal['c'], dtype=float)\n",
        "    dual_c = np.array([c['rhs'] for c in canonical_primal['constraints']], dtype=float)\n",
        "    primal_A = np.array([c['coeffs'] for c in canonical_primal['constraints']], dtype=float)\n",
        "    dual_A = primal_A.T\n",
        "\n",
        "    num_dual_vars = len(dual_c)\n",
        "    dual_problem = {\n",
        "        'type': 'minimize',\n",
        "        'c': list(dual_c),\n",
        "        'var_names': [f'y{i+1}' for i in range(num_dual_vars)],\n",
        "        'constraints': []\n",
        "    }\n",
        "    for i in range(len(dual_b)):\n",
        "        dual_problem['constraints'].append({\n",
        "            'coeffs': list(dual_A[i]),\n",
        "            'type': '>=',\n",
        "            'rhs': dual_b[i]\n",
        "        })\n",
        "    return dual_problem\n",
        "\n",
        "def print_lp(problem, title=\"Linear Programming Problem\"):\n",
        "    \"\"\"Neatly prints an LP problem defined in a dictionary.\"\"\"\n",
        "    print(f\"--- {title} ---\")\n",
        "    var_names = problem.get('var_names', [f'x{i+1}' for i in range(len(problem['c']))])\n",
        "    \n",
        "    obj_terms = []\n",
        "    for i, coeff in enumerate(problem['c']):\n",
        "        if abs(coeff) > 1e-9:\n",
        "            sign = \"-\" if coeff < 0 else \"+\"\n",
        "            abs_coeff = abs(coeff)\n",
        "            coeff_str = \"\" if abs_coeff == 1 else f\"{abs_coeff} \"\n",
        "            if not obj_terms:\n",
        "                 term_str = f\"{'-' if sign == '-' else ''}{coeff_str}{var_names[i]}\"\n",
        "            else:\n",
        "                 term_str = f\" {sign} {coeff_str}{var_names[i]}\"\n",
        "            obj_terms.append(term_str)\n",
        "    \n",
        "    print(f\"{problem['type'].capitalize()} w = \" + \"\".join(obj_terms))\n",
        "    print(\"Subject to:\")\n",
        "    for constr in problem['constraints']:\n",
        "        constr_terms = []\n",
        "        for i, coeff in enumerate(constr['coeffs']):\n",
        "            if abs(coeff) > 1e-9:\n",
        "                sign = \"-\" if coeff < 0 else \"+\"\n",
        "                abs_coeff = abs(coeff)\n",
        "                coeff_str = \"\" if abs_coeff == 1 else f\"{abs_coeff} \"\n",
        "                if not constr_terms:\n",
        "                    term_str = f\"{'-' if sign == '-' else ''}{coeff_str}{var_names[i]}\"\n",
        "                else:\n",
        "                    term_str = f\" {sign} {coeff_str}{var_names[i]}\"\n",
        "                constr_terms.append(term_str)\n",
        "        print(f\"  {''.join(constr_terms)} {constr['type']} {constr['rhs']}\")\n",
        "    print(f\"  {', '.join(var_names)} >= 0\")\n",
        "\n",
        "# --- Define the Primal Problem from Exercise 2.8 ---\n",
        "primal_ex2_8 = {\n",
        "    'type': 'maximize',\n",
        "    'c': [-2, 1],\n",
        "    'var_names': ['x1', 'x2'],\n",
        "    'constraints': [\n",
        "        {'coeffs': [1, -1], 'type': '<=', 'rhs': 5},\n",
        "        {'coeffs': [1,  0], 'type': '<=', 'rhs': 7},\n",
        "        {'coeffs': [0,  1], 'type': '<=', 'rhs': 6},\n",
        "        {'coeffs': [1, -1], 'type': '>=', 'rhs': -4},\n",
        "    ]\n",
        "}\n",
        "\n",
        "# --- 1. Write the Dual ---\n",
        "dual_problem = get_dual_lp(primal_ex2_8)\n",
        "print_lp(primal_ex2_8, title=\"Primal Problem (Exercise 2.8)\")\n",
        "print(\"\\n\")\n",
        "print_lp(dual_problem, title=\"Generated Dual Problem\")\n",
        "\n",
        "# --- 2. Solve the Dual Problem using linprog ---\n",
        "# The dual objective is 'minimize', which is linprog's default.\n",
        "c_dual = np.array(dual_problem['c'])\n",
        "\n",
        "# linprog requires constraints in '<=' form, so we multiply the dual's '>=' constraints by -1.\n",
        "A_dual_gte = np.array([c['coeffs'] for c in dual_problem['constraints']])\n",
        "b_dual_gte = np.array([c['rhs'] for c in dual_problem['constraints']])\n",
        "\n",
        "A_dual_ub = -A_dual_gte\n",
        "b_dual_ub = -b_dual_gte\n",
        "\n",
        "# All dual variables y_i >= 0\n",
        "y_bounds = [(0, None) for _ in dual_problem['var_names']]\n",
        "\n",
        "print(\"\\n--- Solving the Dual Problem ---\")\n",
        "result_dual = linprog(c_dual, A_ub=A_dual_ub, b_ub=b_dual_ub, bounds=y_bounds, method='highs')\n",
        "\n",
        "if result_dual.success:\n",
        "    print(f\"Optimal Value (w) = {result_dual.fun:.4f}\")\n",
        "    print(\"Optimal Values for Dual Variables (y):\")\n",
        "    for i, y_val in enumerate(result_dual.x):\n",
        "        print(f\"  {dual_problem['var_names'][i]} = {y_val:.4f}\")\n",
        "else:\n",
        "    print(\"The dual problem could not be solved successfully.\")\n",
        "    print(f\"Message: {result_dual.message}\")\n",
        "\n",
        "# --- 3. Identify the Shadow Prices ---\n",
        "print(\"\\n--- Shadow Prices for the Primal Problem ---\")\n",
        "if result_dual.success:\n",
        "    print(\"The shadow prices are the optimal values of the dual variables.\")\n",
        "    # Map dual variables back to the original primal constraints\n",
        "    original_constraints = [\n",
        "        \"x1 - x2 <= 5 \",\n",
        "        \"x1 <= 7      \",\n",
        "        \"x2 <= 6      \",\n",
        "        \"x1 - x2 >= -4\"\n",
        "    ]\n",
        "    for i, price in enumerate(result_dual.x):\n",
        "        print(f\"  Constraint {i+1} ({original_constraints[i]}): Shadow Price = {price:.4f}\")\n",
        "else:\n",
        "    print(\"Shadow prices cannot be determined as the dual problem did not yield an optimal solution.\")\n",
        "\n",
        "# --- (Optional) Verification by solving the primal ---\n",
        "print(\"\\n--- Verification: Solving the Primal Problem ---\")\n",
        "c_primal = [-c for c in primal_ex2_8['c']] # Negate for linprog minimization\n",
        "A_primal_ub_list = []\n",
        "b_primal_ub_list = []\n",
        "for constr in primal_ex2_8['constraints']:\n",
        "    if constr['type'] == '<=':\n",
        "        A_primal_ub_list.append(constr['coeffs'])\n",
        "        b_primal_ub_list.append(constr['rhs'])\n",
        "    elif constr['type'] == '>=': # Convert >= to <=\n",
        "        A_primal_ub_list.append([-c for c in constr['coeffs']])\n",
        "        b_primal_ub_list.append(-constr['rhs'])\n",
        "result_primal = linprog(c_primal, A_ub=A_primal_ub_list, b_ub=b_primal_ub_list, bounds=[(0,None), (0,None)], method='highs')\n",
        "\n",
        "if result_primal.success:\n",
        "    max_z = -result_primal.fun # We negated the objective, so negate back\n",
        "    print(f\"Primal Optimal Value (z) = {max_z:.4f}\")\n",
        "    print(f\"Dual Optimal Value   (w) = {result_dual.fun:.4f}\")\n",
        "    if np.isclose(max_z, result_dual.fun):\n",
        "        print(\"Verification successful: Max z = Min w.\")"
      ]
    },
    {
      "cell_type": "markdown",
      "metadata": {
        "id": "F9PMbqrl9r3K"
      },
      "source": [
        "**2.41**\n",
        "<ul />\n",
        "\n",
        "Solve the dual problem corresponding to the primal problem in Exercise 2.12. Determine whether optimal solutions exist. If so, describe the relation between the primal shadow prices and dual variables at optimality.\n",
        "\n",
        "</ul>"
      ]
    },
    {
      "cell_type": "markdown",
      "metadata": {
        "id": "J-Zp987Z9r3K"
      },
      "source": [
        "**Code Implementation**"
      ]
    },
    {
      "cell_type": "code",
      "execution_count": 2,
      "metadata": {
        "colab": {
          "base_uri": "https://localhost:8080/"
        },
        "id": "D35PmQey9r3K",
        "outputId": "bb9a486d-ab54-4d5a-ffe7-593648280bcf"
      },
      "outputs": [
        {
          "name": "stdout",
          "output_type": "stream",
          "text": [
            "--- Solving the Dual of Exercise 2.12 ---\n",
            "\n",
            "Solver Message: The problem is unbounded. (HiGHS Status 10: model_status is Unbounded; primal_status is Feasible)\n",
            "\n",
            "--- Existence of Optimal Solutions ---\n",
            "No, a finite optimal solution does not exist.\n",
            "The dual problem is UNBOUNDED, meaning its objective function can be decreased to negative infinity.\n",
            "This is the expected outcome, as the primal problem is known to be infeasible.\n"
          ]
        }
      ],
      "source": [
        "import numpy as np\n",
        "from scipy.optimize import linprog\n",
        "\n",
        "print(\"--- Solving the Dual of Exercise 2.12 ---\")\n",
        "\n",
        "# --- Setup for scipy.optimize.linprog ---\n",
        "# The dual problem is already a minimization problem.\n",
        "\n",
        "# 1. Objective function: Minimize w = 4y1 - 5y2 + 10y3\n",
        "# Coefficients for y1, y2, y3:\n",
        "c_dual = np.array([4, -5, 10])\n",
        "\n",
        "# 2. Inequality constraints (A_ub @ y <= b_ub)\n",
        "# The dual's '>=', constraints must be converted to '<=' form by multiplying by -1.\n",
        "# y1 + y3 >= 16       =>  -y1 - y3 <= -16\n",
        "# -6y1 + 3y2 + y3 >= 2  =>   6y1 - 3y2 - y3 <= -2\n",
        "# 7y2 + y3 >= -3      =>  -7y2 - y3 <= 3\n",
        "A_ub_dual = np.array([\n",
        "    [-1,  0, -1],\n",
        "    [ 6, -3, -1],\n",
        "    [ 0, -7, -1]\n",
        "])\n",
        "b_ub_dual = np.array([-16, -2, 3])\n",
        "\n",
        "# 3. Bounds for dual variables\n",
        "# y1 <= 0\n",
        "# y2 >= 0\n",
        "# y3 is unrestricted\n",
        "y1_bounds = (None, 0)\n",
        "y2_bounds = (0, None)\n",
        "y3_bounds = (None, None)\n",
        "bounds_dual = [y1_bounds, y2_bounds, y3_bounds]\n",
        "\n",
        "# --- Solve the Dual Problem ---\n",
        "result_dual = linprog(c_dual, A_ub=A_ub_dual, b_ub=b_ub_dual, bounds=bounds_dual, method='highs')\n",
        "\n",
        "\n",
        "# --- Analysis of the Results ---\n",
        "\n",
        "print(f\"\\nSolver Message: {result_dual.message}\")\n",
        "\n",
        "# 1. Determine whether optimal solutions exist\n",
        "print(\"\\n--- Existence of Optimal Solutions ---\")\n",
        "if result_dual.success:\n",
        "    print(\"An optimal solution for the dual problem was found.\")\n",
        "    print(f\"Optimal Value (w) = {result_dual.fun:.4f}\")\n",
        "    print(\"Optimal Values for Dual Variables (y):\")\n",
        "    for i, y_val in enumerate(result_dual.x):\n",
        "        print(f\"  y{i+1} = {y_val:.4f}\")\n",
        "elif \"unbounded\" in result_dual.message.lower():\n",
        "    print(\"No, a finite optimal solution does not exist.\")\n",
        "    print(\"The dual problem is UNBOUNDED, meaning its objective function can be decreased to negative infinity.\")\n",
        "    print(\"This is the expected outcome, as the primal problem is known to be infeasible.\")\n",
        "else:\n",
        "    print(\"No, an optimal solution does not exist.\")\n",
        "    print(\"The dual problem may be INFEASIBLE or another error occurred.\")\n",
        "    print(f\"Solver Status Code: {result_dual.status}\")"
      ]
    },
    {
      "cell_type": "markdown",
      "metadata": {
        "id": "LPJ16loF9s6J"
      },
      "source": [
        "**2.42**\n",
        "<ul />\n",
        "\n",
        "Describe the nature of the solutions of the primal problem in Exercise 2.10 and its dual problem.\n",
        "\n",
        "</ul>"
      ]
    },
    {
      "cell_type": "markdown",
      "metadata": {
        "id": "QlWTOjw6PDe-"
      },
      "source": [
        "**Code Implementation**"
      ]
    },
    {
      "cell_type": "code",
      "execution_count": 5,
      "metadata": {
        "colab": {
          "base_uri": "https://localhost:8080/"
        },
        "id": "0H1bizmBNIIZ",
        "outputId": "cfebb213-5ebb-4842-d8e5-a98ba6d49463"
      },
      "outputs": [
        {
          "name": "stdout",
          "output_type": "stream",
          "text": [
            "--- Primal Problem (Exercise 2.10) ---\n",
            "Maximize z = 3*x1 + 4*x2\n",
            "Subject to:\n",
            "  6*x1 + 8*x2 <= 10\n",
            "   x1 +  x2 >= 1\n",
            "   x1        >= 1\n",
            "   x1, x2 >= 0\n",
            "\n",
            "--- Solving the Primal Problem ---\n",
            "Optimal Value (z) = 5.0000\n",
            "An Optimal Solution: (x1, x2) = (1.0000, 0.5000)\n",
            "\n",
            "--- Solving the Dual Problem ---\n",
            "Optimal Value (w) = 5.0000\n",
            "Optimal Dual Solution (y1, y2, y3):\n",
            "  y1 = 0.5000\n",
            "  y2 = 0.0000\n",
            "  y3 = 0.0000\n"
          ]
        }
      ],
      "source": [
        "import numpy as np\n",
        "from scipy.optimize import linprog\n",
        "\n",
        "# --- Primal Problem Definition (Exercise 2.10) ---\n",
        "print(\"--- Primal Problem (Exercise 2.10) ---\")\n",
        "print(\"Maximize z = 3*x1 + 4*x2\")\n",
        "print(\"Subject to:\")\n",
        "print(\"  6*x1 + 8*x2 <= 10\")\n",
        "print(\"   x1 +  x2 >= 1\")\n",
        "print(\"   x1        >= 1\")\n",
        "print(\"   x1, x2 >= 0\")\n",
        "\n",
        "# --- 1. Solve the Primal Problem ---\n",
        "# To maximize z, we minimize -z.\n",
        "c_primal = np.array([-3, -4])\n",
        "\n",
        "# Constraints need to be in '<=' form for linprog's A_ub\n",
        "# 6*x1 + 8*x2 <= 10\n",
        "#  x1 +  x2 >= 1   =>  -x1 - x2 <= -1\n",
        "#  x1        >= 1   =>  -x1      <= -1\n",
        "A_primal_ub = np.array([\n",
        "    [6, 8],\n",
        "    [-1, -1],\n",
        "    [-1, 0]\n",
        "])\n",
        "b_primal_ub = np.array([10, -1, -1])\n",
        "\n",
        "# Bounds x1 >= 0, x2 >= 0\n",
        "x_bounds = [(0, None), (0, None)]\n",
        "\n",
        "print(\"\\n--- Solving the Primal Problem ---\")\n",
        "result_primal = linprog(c_primal, A_ub=A_primal_ub, b_ub=b_primal_ub, bounds=x_bounds, method='highs')\n",
        "\n",
        "if result_primal.success:\n",
        "    max_z = -result_primal.fun\n",
        "    print(f\"Optimal Value (z) = {max_z:.4f}\")\n",
        "    print(f\"An Optimal Solution: (x1, x2) = ({result_primal.x[0]:.4f}, {result_primal.x[1]:.4f})\")\n",
        "else:\n",
        "    print(f\"Primal problem could not be solved. Message: {result_primal.message}\")\n",
        "\n",
        "\n",
        "# --- 2. Formulate and Solve the Dual Problem ---\n",
        "# Canonical Primal: Max z = 3x1 + 4x2 s.t.\n",
        "#  6x1 + 8x2 <= 10  (y1)\n",
        "# -x1 -  x2 <= -1   (y2)\n",
        "# -x1 + 0x2 <= -1   (y3)\n",
        "\n",
        "# Resulting Dual: Min w = 10y1 - y2 - y3 s.t.\n",
        "#  6y1 - y2 - y3 >= 3\n",
        "#  8y1 - y2      >= 4\n",
        "# y1, y2, y3 >= 0\n",
        "\n",
        "print(\"\\n--- Solving the Dual Problem ---\")\n",
        "# Dual objective is minimize\n",
        "c_dual = np.array([10, -1, -1])\n",
        "\n",
        "# Convert dual's '>=' constraints to '<=' for linprog\n",
        "#  6y1 - y2 - y3 >= 3   =>  -6y1 + y2 + y3 <= -3\n",
        "#  8y1 - y2      >= 4   =>  -8y1 + y2      <= -4\n",
        "A_dual_ub = np.array([\n",
        "    [-6, 1, 1],\n",
        "    [-8, 1, 0]\n",
        "])\n",
        "b_dual_ub = np.array([-3, -4])\n",
        "\n",
        "# Bounds y1, y2, y3 >= 0\n",
        "y_bounds = [(0, None), (0, None), (0, None)]\n",
        "\n",
        "result_dual = linprog(c_dual, A_ub=A_dual_ub, b_ub=b_dual_ub, bounds=y_bounds, method='highs')\n",
        "\n",
        "if result_dual.success:\n",
        "    print(f\"Optimal Value (w) = {result_dual.fun:.4f}\")\n",
        "    print(\"Optimal Dual Solution (y1, y2, y3):\")\n",
        "    print(f\"  y1 = {result_dual.x[0]:.4f}\")\n",
        "    print(f\"  y2 = {result_dual.x[1]:.4f}\")\n",
        "    print(f\"  y3 = {result_dual.x[2]:.4f}\")"
      ]
    },
    {
      "cell_type": "markdown",
      "metadata": {
        "id": "ki4PfPRz9t-a"
      },
      "source": [
        "**2.43**\n",
        "<ul />\n",
        "\n",
        "Each of the following statements refers to the Simplex algorithm. Fill in the blanks with an appropriate letter from the following choices:\n",
        "\n",
        "1. If all slack and surplus variables are zero in an optimal solution, then **_______**.\n",
        "2. If a basic variable has the value zero in an optimal solution, then **_______**.\n",
        "3. If an artificial variable is non-zero in an optimal solution, then **_______**.\n",
        "4. If a non-basic variable has zero coefficient in the top row of an optimal tableau, then **_______**.\n",
        "\n",
        "<ul />\n",
        "\n",
        "Completion Alternatives:\n",
        "A. There are multiple optimal solutions.  \n",
        "B. The current solution is degenerate.  \n",
        "C. All constraints are equalities at optimality.  \n",
        "D. The shadow prices are inverses of the dual variables.  \n",
        "E. No feasible solution exists.  \n",
        "F. The solution is unbounded.  \n",
        "\n",
        "\n",
        "**Solution:**\n",
        "\n",
        "| Statement | Answer |\n",
        "|-----------|--------|\n",
        "| **1.** If all slack and surplus variables are zero in an optimal solution, then | **C** (All constraints are equalities at optimality) |\n",
        "| **2.** If a basic variable has the value zero in an optimal solution, then | **B** (The current solution is degenerate) |\n",
        "| **3.** If an artificial variable is non-zero in an optimal solution, then | **E** (No feasible solution exists) |\n",
        "| **4.** If a non-basic variable has zero coefficient in the top row of an optimal tableau, then | **A** (There are multiple optimal solutions) |\n",
        "\n",
        "</ul>\n",
        "</ul>"
      ]
    },
    {
      "cell_type": "markdown",
      "metadata": {
        "id": "6uvJrtag9wT7"
      },
      "source": [
        "**2.44**\n",
        "<ul />\n",
        "\n",
        "The following statements are intended to describe the relationship between primal and dual linear programming problems. For each statement, fill in the blank to indicate the most appropriate choice from the alternatives shown in the following list.\n",
        "\n",
        "1. The optimal objective function value in the primal problem corresponds to **_______**.\n",
        "2. The shadow prices in the optimal primal tableau correspond to **_______**.\n",
        "3. Basic variables in the optimal primal tableau correspond to **_______**.\n",
        "4. The variables in the primal problem correspond to **_______**.\n",
        "5. Shadow prices in the optimal dual tableau correspond to **_______**.\n",
        "\n",
        "<ul />\n",
        "\n",
        "Completion Alternatives: <br>\n",
        "A. The primal non-basic variables <br>\n",
        "B. The dual non-basic variables <br>\n",
        "C. The primal constraints <br>\n",
        "D. Optimal basic variables in the dual problem <br>\n",
        "E. The optimal objective function value in the dual <br>\n",
        "F. The shadow prices in the dual <br>\n",
        "G. Basic variables in the optimal primal problem <br>\n",
        "H. The constraints in the dual problem <br>  \n",
        "\n",
        "\n",
        "**Solution:**\n",
        "\n",
        "| Statement | Answer |\n",
        "|-----------|--------|\n",
        "| **1.** The optimal objective function value in the primal problem corresponds to | **E** (The optimal objective function value in the dual) |\n",
        "| **2.** The shadow prices in the optimal primal tableau correspond to | **D** (Optimal basic variables in the dual problem) |\n",
        "| **3.** Basic variables in the optimal primal tableau correspond to | **B** (The dual non-basic variables) |\n",
        "| **4.** The variables in the primal problem correspond to | **H** (The constraints in the dual problem) |\n",
        "| **5.** Shadow prices in the optimal dual tableau correspond to | **G** (Basic variables in the optimal primal problem) |\n",
        "\n",
        "</ul>\n",
        "</ul>"
      ]
    },
    {
      "cell_type": "markdown",
      "metadata": {
        "id": "EznL48k19ye7"
      },
      "source": [
        "**2.45**\n",
        "<ul />\n",
        "\n",
        "Recall Example 2.8.3 and verify the range within which changes in objective function coefficient $c_2$ can vary without affecting the optimal solution.\n",
        "\n",
        "</ul>"
      ]
    },
    {
      "cell_type": "markdown",
      "metadata": {
        "id": "tsUZSDNA9ye7"
      },
      "source": [
        "**Code Implementation**"
      ]
    },
    {
      "cell_type": "code",
      "execution_count": 6,
      "metadata": {
        "colab": {
          "base_uri": "https://localhost:8080/"
        },
        "id": "dTB3PSSY9ye7",
        "outputId": "c111f3d2-2d03-48ca-9907-721953e46528"
      },
      "outputs": [
        {
          "name": "stdout",
          "output_type": "stream",
          "text": [
            "Optimal solution found after 2 iterations.\n",
            "\n",
            "--- Sensitivity Analysis for Objective Coefficient of x2 ---\n",
            "x2 is a BASIC variable in the optimal solution.\n",
            "\n",
            "Maintaining optimality requires z_j - c_j >= 0 for all non-basic variables.\n",
            "Let Δ be the change in the coefficient c. The new reduced cost is (old z_j-c_j) + Δ * (coeff_j in var_row).\n",
            "  For non-basic var s1: 2.00 + Δ * 2.00 >= 0  =>  Δ >= -1.00\n",
            "  For non-basic var s2: 1.00 + Δ * -1.00 >= 0  =>  Δ <= 1.00\n",
            "\n",
            "Combining inequalities gives: -1.00 <= Δ <= 1.00\n",
            "\n",
            "The original coefficient c2 was 3.00.\n",
            "The allowable range for c2 is [2.00, 4.00].\n",
            "Within this range, the optimal solution (x1, x2) = (2, 2) remains the same.\n"
          ]
        }
      ],
      "source": [
        "import numpy as np\n",
        "\n",
        "class SimplexSolver:\n",
        "    \"\"\"A class to solve standard maximization LPs and store the final state.\"\"\"\n",
        "    def __init__(self, c, A_ub, b_ub):\n",
        "        # Convert inputs to NumPy arrays\n",
        "        A_ub_np = np.array(A_ub, dtype=float)\n",
        "        b_ub_np = np.array(b_ub, dtype=float)\n",
        "        c_np = np.array(c, dtype=float)\n",
        "\n",
        "        self.c_original = c_np\n",
        "        self.num_decision_vars = A_ub_np.shape[1]\n",
        "        self.num_slack_vars = A_ub_np.shape[0]\n",
        "        self.num_total_vars = self.num_decision_vars + self.num_slack_vars\n",
        "\n",
        "        # Create tableau\n",
        "        self.tableau = np.zeros((1 + self.num_slack_vars, 1 + self.num_total_vars + 1))\n",
        "        self.tableau[0, 0] = 1\n",
        "        self.tableau[0, 1:self.num_decision_vars+1] = -c_np\n",
        "        self.tableau[1:, 1:self.num_decision_vars+1] = A_ub_np\n",
        "        self.tableau[1:, self.num_decision_vars+1:self.num_total_vars+1] = np.eye(self.num_slack_vars)\n",
        "        self.tableau[1:, -1] = b_ub_np\n",
        "\n",
        "        self.var_names = [f'x{i+1}' for i in range(self.num_decision_vars)] + \\\n",
        "                         [f's{i+1}' for i in range(self.num_slack_vars)]\n",
        "        \n",
        "        self.basis_var_names = [f's{i+1}' for i in range(self.num_slack_vars)]\n",
        "\n",
        "    def solve(self, max_iterations=10):\n",
        "        \"\"\"Performs Simplex iterations to find the optimal solution.\"\"\"\n",
        "        iteration = 0\n",
        "        while iteration < max_iterations:\n",
        "            z_row = self.tableau[0, 1:-1]\n",
        "            if np.min(z_row) >= -1e-9:\n",
        "                print(f\"Optimal solution found after {iteration} iterations.\")\n",
        "                return \"Optimal\"\n",
        "\n",
        "            entering_col_idx = np.argmin(z_row) + 1\n",
        "            \n",
        "            min_ratio = float('inf')\n",
        "            leaving_row_idx = -1\n",
        "            constraint_coeffs = self.tableau[1:, entering_col_idx]\n",
        "            rhs = self.tableau[1:, -1]\n",
        "\n",
        "            for i, coeff in enumerate(constraint_coeffs):\n",
        "                if coeff > 1e-9:\n",
        "                    ratio = rhs[i] / coeff\n",
        "                    if ratio < min_ratio:\n",
        "                        min_ratio = ratio\n",
        "                        leaving_row_idx = i + 1\n",
        "            \n",
        "            if leaving_row_idx == -1:\n",
        "                return \"Unbounded\"\n",
        "            \n",
        "            pivot_element = self.tableau[leaving_row_idx, entering_col_idx]\n",
        "            self.tableau[leaving_row_idx, :] /= pivot_element\n",
        "            for i in range(self.tableau.shape[0]):\n",
        "                if i != leaving_row_idx:\n",
        "                    factor = self.tableau[i, entering_col_idx]\n",
        "                    self.tableau[i, :] -= factor * self.tableau[leaving_row_idx, :]\n",
        "            \n",
        "            self.basis_var_names[leaving_row_idx - 1] = self.var_names[entering_col_idx - 1]\n",
        "            iteration += 1\n",
        "            \n",
        "        return \"Max Iterations Reached\"\n",
        "\n",
        "def analyze_c_range(solver, var_name_to_change):\n",
        "    \"\"\"\n",
        "    Performs sensitivity analysis on an objective coefficient.\n",
        "    \n",
        "    Args:\n",
        "        solver (SimplexSolver): A solver object that has already found an optimal solution.\n",
        "        var_name_to_change (str): The name of the variable whose coefficient we are analyzing (e.g., 'x2').\n",
        "    \"\"\"\n",
        "    print(f\"\\n--- Sensitivity Analysis for Objective Coefficient of {var_name_to_change} ---\")\n",
        "\n",
        "    try:\n",
        "        var_idx_in_tableau = solver.var_names.index(var_name_to_change) + 1\n",
        "        original_c_val = solver.c_original[var_idx_in_tableau - 1]\n",
        "    except (ValueError, IndexError):\n",
        "        print(f\"Error: Variable '{var_name_to_change}' not found in the problem.\")\n",
        "        return\n",
        "\n",
        "    final_tableau = solver.tableau\n",
        "    z_row = final_tableau[0]\n",
        "    \n",
        "    # Check if the variable is basic or non-basic in the optimal solution\n",
        "    if var_name_to_change in solver.basis_var_names:\n",
        "        print(f\"{var_name_to_change} is a BASIC variable in the optimal solution.\")\n",
        "        \n",
        "        # Find the row in the tableau corresponding to this basic variable\n",
        "        basis_row_idx = solver.basis_var_names.index(var_name_to_change)\n",
        "        var_tableau_row = final_tableau[basis_row_idx + 1]\n",
        "\n",
        "        non_basic_indices = [i for i, name in enumerate(solver.var_names) if name not in solver.basis_var_names]\n",
        "        \n",
        "        lower_bounds_delta = [-np.inf]\n",
        "        upper_bounds_delta = [np.inf]\n",
        "\n",
        "        print(\"\\nMaintaining optimality requires z_j - c_j >= 0 for all non-basic variables.\")\n",
        "        print(\"Let Δ be the change in the coefficient c. The new reduced cost is (old z_j-c_j) + Δ * (coeff_j in var_row).\")\n",
        "\n",
        "        for nb_idx in non_basic_indices:\n",
        "            tableau_col_idx = nb_idx + 1\n",
        "            reduced_cost = z_row[tableau_col_idx]\n",
        "            coeff_in_var_row = var_tableau_row[tableau_col_idx]\n",
        "            \n",
        "            if abs(coeff_in_var_row) > 1e-9: # If coefficient is non-zero\n",
        "                inequality_rhs = -reduced_cost / coeff_in_var_row\n",
        "                if coeff_in_var_row > 0:\n",
        "                    # reduced_cost + Δ * coeff >= 0  => Δ >= -reduced_cost / coeff\n",
        "                    lower_bounds_delta.append(inequality_rhs)\n",
        "                    print(f\"  For non-basic var {solver.var_names[nb_idx]}: {reduced_cost:.2f} + Δ * {coeff_in_var_row:.2f} >= 0  =>  Δ >= {inequality_rhs:.2f}\")\n",
        "                else: # coeff_in_var_row < 0\n",
        "                    # reduced_cost + Δ * coeff >= 0  => Δ <= -reduced_cost / coeff\n",
        "                    upper_bounds_delta.append(inequality_rhs)\n",
        "                    print(f\"  For non-basic var {solver.var_names[nb_idx]}: {reduced_cost:.2f} + Δ * {coeff_in_var_row:.2f} >= 0  =>  Δ <= {inequality_rhs:.2f}\")\n",
        "\n",
        "        # Find the most restrictive bounds on Δ\n",
        "        min_upper_bound = min(upper_bounds_delta)\n",
        "        max_lower_bound = max(lower_bounds_delta)\n",
        "\n",
        "        print(f\"\\nCombining inequalities gives: {max_lower_bound:.2f} <= Δ <= {min_upper_bound:.2f}\")\n",
        "        \n",
        "        # Calculate the final range for the coefficient c\n",
        "        lower_c_range = original_c_val + max_lower_bound\n",
        "        upper_c_range = original_c_val + min_upper_bound\n",
        "\n",
        "        print(f\"\\nThe original coefficient c2 was {original_c_val:.2f}.\")\n",
        "        print(f\"The allowable range for c2 is [{lower_c_range:.2f}, {upper_c_range:.2f}].\")\n",
        "        print(\"Within this range, the optimal solution (x1, x2) = (2, 2) remains the same.\")\n",
        "\n",
        "    else:\n",
        "        print(f\"{var_name_to_change} is a NON-BASIC variable in the optimal solution.\")\n",
        "        reduced_cost = z_row[var_idx_in_tableau]\n",
        "        print(f\"The reduced cost (z_j - c_j) for {var_name_to_change} is {reduced_cost:.2f}.\")\n",
        "        print(\"For the solution to remain optimal, the new reduced cost must be >= 0.\")\n",
        "        print(\"Let c_new be the new coefficient. We need z_j - c_new >= 0, so c_new <= z_j.\")\n",
        "        print(f\"The coefficient c can be decreased indefinitely. The upper bound is z_j = (old z_j - c_j) + old_c = {reduced_cost + original_c_val:.2f}.\")\n",
        "        print(f\"The allowable range for c2 is (-inf, {reduced_cost + original_c_val:.2f}].\")\n",
        "\n",
        "\n",
        "# --- Problem Definition (Example 2.8.3) ---\n",
        "c = [4, 3]      # Objective function coefficients for x1, x2\n",
        "A = [[1, 1],    # Coefficients for constraint 1\n",
        "     [2, 1],    # Coefficients for constraint 2\n",
        "     [1, 3]]    # Coefficients for constraint 3\n",
        "b = [4, 6, 9]   # RHS for constraints\n",
        "\n",
        "# --- 1. Solve the problem to get the optimal tableau ---\n",
        "solver = SimplexSolver(c, A, b)\n",
        "status = solver.solve()\n",
        "\n",
        "if status == \"Optimal\":\n",
        "    # --- 2. Perform sensitivity analysis on c2 ---\n",
        "    analyze_c_range(solver, var_name_to_change='x2')\n",
        "else:\n",
        "    print(f\"\\nCould not perform sensitivity analysis because the problem status was: {status}\")"
      ]
    },
    {
      "cell_type": "markdown",
      "metadata": {
        "id": "rQIQ5gEZ9zka"
      },
      "source": [
        "**2.46**\n",
        "<ul />\n",
        "\n",
        "What was the theoretical significance of the algorithm developed by Khachiyan for solving linear programming problems?\n",
        "\n",
        "**Solution:**\n",
        "\n",
        "The theoretical significance of the algorithm developed by Leonid Khachiyan in 1979, known as the Ellipsoid Method, was monumental:\n",
        "\n",
        "It was the first algorithm proven to solve linear programming problems in polynomial time.\n",
        "\n",
        "This breakthrough proved that linear programming belongs to the complexity class P, meaning problems can be solved \"efficiently\" in a theoretical sense. Before Khachiyan, the widely used Simplex method had an exponential worst-case time complexity, and it was an open question whether a polynomial-time algorithm for linear programming even existed.\n",
        "\n",
        "While the Ellipsoid Method was too slow for practical use, its existence resolved a major theoretical question in computer science and optimization.\n",
        "\n",
        "</ul>"
      ]
    },
    {
      "cell_type": "markdown",
      "metadata": {
        "id": "dMSVMe3i91BJ"
      },
      "source": [
        "**2.47**\n",
        "<ul />\n",
        "\n",
        "What is the practical significance of the interior point methods, as originated by Karmarkar, for solving linear programming problems? How do these methods compare in practice with the traditional Simplex-based methods?\n",
        "\n",
        "**Solution:**\n",
        "\n",
        "The practical significance of interior-point methods, introduced by Karmarkar, was that they provided the first computationally efficient polynomial-time algorithm for linear programming. They are often significantly faster than the traditional Simplex method, especially for solving very large-scale problems.\n",
        "\n",
        "In practice, neither method is universally superior.\n",
        "<ul />\n",
        "\n",
        "• Interior-Point: Excels at very large problems solved from scratch by cutting through the interior of the feasible region.<br>\n",
        "• Simplex: Is often faster for smaller problems and excellent for re-optimization (warm starts) by moving along the edges of the feasible region.\n",
        "\n",
        "</ul>\n",
        "\n",
        "Modern solvers include both algorithms and select the most effective one for the specific task.\n",
        "\n",
        "</ul>"
      ]
    }
  ],
  "metadata": {
    "colab": {
      "collapsed_sections": [
        "y130wo2anrNa",
        "3q9h5SzdsE4f",
        "qxociB5wkhGx",
        "DWR3GGnqqWJw",
        "r3Gju-sGpOTg",
        "RaCvlYrErWEO",
        "SjbtGTjxspE-",
        "YzPTtpEryDfN",
        "yxnQHgamyEyo",
        "BkuukKXxyFmv",
        "mOlgW19byGig",
        "79PzoaLDyHWN",
        "HDrh47DdgFuO",
        "aVklqkg0gMSt",
        "hRDaX9OngMY-",
        "5lLodDTTgMft",
        "3hRyxBDdgMnd",
        "RwfbmKVrgMt-",
        "gAZuypXbgMz-",
        "abyoKPLMlSIc",
        "3D4QdUSYoa-X",
        "S40koyFEpaSr",
        "87Dc3VBRrbti",
        "SOnJ8EMTrc_b",
        "Qe5tAR8KraSD",
        "eNfPFnrFreoy",
        "PMdjYtGw1jBA",
        "JHfV7Gqm1kTR",
        "vR1uWPTD9r3J",
        "66fExIWu9s6I",
        "9aPRN4LC9t-Z",
        "_k-wtmQ-9wT6",
        "k_HizRFA9ye6",
        "gF89_qR99zka",
        "BQqhNZBl91BJ",
        "wLhFzEUuRiWx"
      ],
      "provenance": []
    },
    "kernelspec": {
      "display_name": "Python 3",
      "name": "python3"
    },
    "language_info": {
      "codemirror_mode": {
        "name": "ipython",
        "version": 3
      },
      "file_extension": ".py",
      "mimetype": "text/x-python",
      "name": "python",
      "nbconvert_exporter": "python",
      "pygments_lexer": "ipython3",
      "version": "3.12.1"
    }
  },
  "nbformat": 4,
  "nbformat_minor": 0
}
