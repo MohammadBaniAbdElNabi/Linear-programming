{
 "cells": [
  {
   "cell_type": "markdown",
   "id": "152627e3",
   "metadata": {},
   "source": [
    "# 2.3.6 General Solution Method\n",
    "\n",
    "[![Open In Colab](https://colab.research.google.com/assets/colab-badge.svg)](https://colab.research.google.com/drive/1BFDdfYJiD3Bq9oxTzonnlAmGsTrEIgJP?usp=sharing)\n",
    "\n",
    "We have seen in our graphical solutions that, if an optimal solution exists, it occurs at an *extreme point* of the feasible region. This fundamental property of linear programming problems is the foundation for a general solution method called the **Simplex method**. Because only the finitely many extreme points need be examined (rather than all the points in the feasible region), an optimal solution may be found systematically by considering the objective function values at the extreme points. In fact, in actual practice, only a small subset of the extreme points need be examined. The following sections will demonstrate how the Simplex method is able to locate optimal solutions with such efficiency."
   ]
  },
  {
   "cell_type": "markdown",
   "id": "f856570e",
   "metadata": {},
   "source": [
    "**Interactive Example**"
   ]
  },
  {
   "cell_type": "code",
   "execution_count": null,
   "id": "8edb1e9c",
   "metadata": {},
   "outputs": [
    {
     "data": {
      "application/vnd.jupyter.widget-view+json": {
       "model_id": "810d36165e49496f9f288cef1d2c1e62",
       "version_major": 2,
       "version_minor": 0
      },
      "text/plain": [
       "VBox(children=(Dropdown(description='Objective:', options=('maximize', 'minimize'), value='maximize'), FloatSl…"
      ]
     },
     "metadata": {},
     "output_type": "display_data"
    },
    {
     "data": {
      "application/vnd.jupyter.widget-view+json": {
       "model_id": "c1aa301aaf2f415da4423ea09ebd487c",
       "version_major": 2,
       "version_minor": 0
      },
      "text/plain": [
       "Output()"
      ]
     },
     "metadata": {},
     "output_type": "display_data"
    },
    {
     "data": {
      "application/vnd.jupyter.widget-view+json": {
       "model_id": "44ed1030e943429f96c7b8bb378bb2fa",
       "version_major": 2,
       "version_minor": 0
      },
      "text/plain": [
       "VBox(children=(Dropdown(description='Objective:', options=('maximize', 'minimize'), value='maximize'), FloatSl…"
      ]
     },
     "metadata": {},
     "output_type": "display_data"
    },
    {
     "data": {
      "application/vnd.jupyter.widget-view+json": {
       "model_id": "33bb67d2baa741f08cacc42ac20e4ab1",
       "version_major": 2,
       "version_minor": 0
      },
      "text/plain": [
       "Output()"
      ]
     },
     "metadata": {},
     "output_type": "display_data"
    }
   ],
   "source": [
    "import numpy as np\n",
    "import matplotlib.pyplot as plt\n",
    "from itertools import combinations\n",
    "import ipywidgets as widgets\n",
    "from IPython.display import display\n",
    "\n",
    "def find_intersection(line1, line2):\n",
    "    A = np.array([[line1[0], line1[1]], [line2[0], line2[1]]])\n",
    "    b = np.array([line1[2], line2[2]])\n",
    "    if np.linalg.det(A) == 0:\n",
    "        return None  # Parallel lines, no intersection\n",
    "    return np.linalg.solve(A, b)\n",
    "\n",
    "def is_feasible(point, constraints):\n",
    "    x, y = point\n",
    "    for a, b, c, sign in constraints:\n",
    "        if sign == '<' and not (a * x + b * y <= c):\n",
    "            return False\n",
    "        if sign == '>' and not (a * x + b * y >= c):\n",
    "            return False\n",
    "    return True\n",
    "\n",
    "def find_optimal_points(obj_type, a, b, constraints):\n",
    "    feasible_points = []\n",
    "    for (line1, line2) in combinations(constraints, 2):\n",
    "        intersection = find_intersection(line1, line2)\n",
    "        if intersection is not None and is_feasible(intersection, constraints):\n",
    "            feasible_points.append(intersection)\n",
    "\n",
    "    feasible_points = np.array(feasible_points)\n",
    "    if feasible_points.size == 0:\n",
    "        return np.array([]), None\n",
    "\n",
    "    obj_values = [a * x + b * y for x, y in feasible_points]\n",
    "    optimal_index = np.argmax(obj_values) if obj_type == \"maximize\" else np.argmin(obj_values)\n",
    "    optimal_point = feasible_points[optimal_index]\n",
    "    return feasible_points, optimal_point\n",
    "\n",
    "def plot_feasible_region_and_objective(constraints, a, b, obj_type, x_range, y_range):\n",
    "    x, y = np.meshgrid(x_range, y_range)\n",
    "    feasible_region = np.ones_like(x, dtype=bool)\n",
    "\n",
    "    for a_c, b_c, c_c, sign in constraints:\n",
    "        if sign == '<':\n",
    "            feasible_region &= (a_c * x + b_c * y <= c_c)\n",
    "        elif sign == '>':\n",
    "            feasible_region &= (a_c * x + b_c * y >= c_c)\n",
    "\n",
    "    plt.imshow(feasible_region.astype(int), extent=(x.min(), x.max(), y.min(), y.max()), origin=\"lower\", cmap=\"Greys\", alpha=0.3)\n",
    "\n",
    "    for a_c, b_c, c_c, sign in constraints:\n",
    "        y_vals = np.linspace(y_range.min(), y_range.max(), 200)\n",
    "        if a_c != 0:\n",
    "            x_vals = (c_c - b_c * y_vals) / a_c\n",
    "        else:\n",
    "            x_vals = np.full_like(y_vals, c_c / b_c)\n",
    "        plt.plot(x_vals, y_vals, label=f'{a_c}x + {b_c}y {sign} {c_c}')\n",
    "\n",
    "    feasible_points, optimal_point = find_optimal_points(obj_type, a, b, constraints)\n",
    "    if feasible_points.size > 0:\n",
    "        feasible_x, feasible_y = zip(*feasible_points)\n",
    "        plt.scatter(feasible_x, feasible_y, color='blue', label='Feasible Points')\n",
    "\n",
    "    if optimal_point is not None:\n",
    "        plt.scatter(*optimal_point, color='red', s=100, label='Optimal Point', edgecolors='black')\n",
    "\n",
    "    obj_x = np.linspace(x_range.min(), x_range.max(), 200)\n",
    "    obj_y = (-a * obj_x) / b if b != 0 else np.full_like(obj_x, 0)\n",
    "    plt.plot(obj_x, obj_y, '--r', label='Objective Function')\n",
    "\n",
    "    plt.xlim(x_range.min(), x_range.max())\n",
    "    plt.ylim(y_range.min(), y_range.max())\n",
    "    plt.xlabel(r'$x$')\n",
    "    plt.ylabel(r'$y$')\n",
    "    plt.legend(loc='upper right')\n",
    "    plt.title(f\"{obj_type.capitalize()} Objective Function\")\n",
    "    plt.grid(True)\n",
    "    plt.show()\n",
    "\n",
    "def update_plot(obj_type, a, b, *constraint_values):\n",
    "    num_constraints = len(constraint_values) // 4\n",
    "    constraints = [(constraint_values[i * 4], constraint_values[i * 4 + 1], constraint_values[i * 4 + 2], constraint_values[i * 4 + 3]) for i in range(num_constraints)]\n",
    "\n",
    "    x_range = np.linspace(0, 16, 300)\n",
    "    y_range = np.linspace(0, 10, 300)\n",
    "    plt.figure(figsize=(8, 8))\n",
    "    plot_feasible_region_and_objective(constraints, a, b, obj_type, x_range, y_range)\n",
    "\n",
    "def interactive_solver():\n",
    "    obj_type = widgets.Dropdown(\n",
    "        options=['maximize', 'minimize'],\n",
    "        description='Objective:',\n",
    "    )\n",
    "\n",
    "    a_slider = widgets.FloatSlider(value=1, min=-20, max=20, step=1, description='a (x):')\n",
    "    b_slider = widgets.FloatSlider(value=1, min=-20, max=20, step=1, description='b (y):')\n",
    "\n",
    "    num_constraints = widgets.Dropdown(options=[1, 2, 3, 4, 5, 6], description='Constraints:')\n",
    "\n",
    "    constraint_sliders = []\n",
    "    def update_constraints(*args):\n",
    "        nonlocal constraint_sliders\n",
    "        for slider in constraint_sliders:\n",
    "            slider.close()\n",
    "        constraint_sliders.clear()\n",
    "\n",
    "        for i in range(num_constraints.value):\n",
    "            a_s = widgets.FloatSlider(value=1, min=-20, max=20, step=1, description=f'a{i+1}:')\n",
    "            b_s = widgets.FloatSlider(value=1, min=-20, max=20, step=1, description=f'b{i+1}:')\n",
    "            c_s = widgets.FloatSlider(value=5, min=-20, max=20, step=1, description=f'c{i+1}:')\n",
    "            sign_s = widgets.Dropdown(options=['<', '>'], description=f'sign{i+1}:')\n",
    "            constraint_sliders.extend([a_s, b_s, c_s, sign_s])\n",
    "        display_controls()\n",
    "\n",
    "    num_constraints.observe(update_constraints, names='value')\n",
    "\n",
    "    def display_controls():\n",
    "        ui = widgets.VBox([obj_type, a_slider, b_slider, num_constraints] + constraint_sliders)\n",
    "        output = widgets.Output()\n",
    "\n",
    "        def update(_):\n",
    "            with output:\n",
    "                output.clear_output(wait=True)\n",
    "                update_plot(obj_type.value, a_slider.value, b_slider.value, *[s.value for s in constraint_sliders])\n",
    "\n",
    "        for slider in [a_slider, b_slider, num_constraints] + constraint_sliders + [obj_type]:\n",
    "            slider.observe(update, names='value')\n",
    "\n",
    "        display(ui, output)\n",
    "        update(None)\n",
    "\n",
    "    update_constraints()\n",
    "\n",
    "interactive_solver()"
   ]
  }
 ],
 "metadata": {
  "language_info": {
   "name": "python"
  }
 },
 "nbformat": 4,
 "nbformat_minor": 5
}
